{
  "cells": [
    {
      "cell_type": "markdown",
      "metadata": {
        "id": "view-in-github",
        "colab_type": "text"
      },
      "source": [
        "<a href=\"https://colab.research.google.com/github/ivnlee/tec-mna-nlp/blob/main/semana-5/Equipo13_semana05.ipynb\" target=\"_parent\"><img src=\"https://colab.research.google.com/assets/colab-badge.svg\" alt=\"Open In Colab\"/></a>"
      ]
    },
    {
      "cell_type": "markdown",
      "metadata": {
        "id": "0H3qbsiMjxHG"
      },
      "source": [
        "# **Maestría en Inteligencia Artificial Aplicada**\n",
        "## **Curso: Procesamiento de Lenguaje Natural (NLP)**\n",
        "### Tecnológico de Monterrey\n",
        "### Prof Luis Eduardo Falcón Morales\n",
        "_ _ _\n",
        "### **Equipo 13**\n",
        "\n",
        "_ _ _ \n",
        "\n",
        "## **Actividad Semana 5**\n",
        "\n",
        "### **Modelos Embebidos**\n",
        "\n",
        "### **Caso Amazon/Yelp/IMDb**"
      ]
    },
    {
      "cell_type": "code",
      "execution_count": 1,
      "metadata": {
        "colab": {
          "base_uri": "https://localhost:8080/"
        },
        "id": "UCOg5pHpdOoM",
        "outputId": "25bf1b95-7f7e-4c31-974c-4119c57511b8"
      },
      "outputs": [
        {
          "output_type": "stream",
          "name": "stdout",
          "text": [
            "Mounted at /content/drive\n"
          ]
        }
      ],
      "source": [
        "from google.colab import drive\n",
        "drive.mount('/content/drive')"
      ]
    },
    {
      "cell_type": "code",
      "execution_count": 2,
      "metadata": {
        "colab": {
          "base_uri": "https://localhost:8080/"
        },
        "id": "cS28nxS6fjRr",
        "outputId": "814aa594-1202-46f5-9e47-fdd2441a25ff"
      },
      "outputs": [
        {
          "output_type": "stream",
          "name": "stdout",
          "text": [
            "Looking in indexes: https://pypi.org/simple, https://us-python.pkg.dev/colab-wheels/public/simple/\n",
            "Requirement already satisfied: nltk in /usr/local/lib/python3.10/dist-packages (3.8.1)\n",
            "Requirement already satisfied: click in /usr/local/lib/python3.10/dist-packages (from nltk) (8.1.3)\n",
            "Requirement already satisfied: joblib in /usr/local/lib/python3.10/dist-packages (from nltk) (1.2.0)\n",
            "Requirement already satisfied: regex>=2021.8.3 in /usr/local/lib/python3.10/dist-packages (from nltk) (2022.10.31)\n",
            "Requirement already satisfied: tqdm in /usr/local/lib/python3.10/dist-packages (from nltk) (4.65.0)\n"
          ]
        }
      ],
      "source": [
        "!pip install nltk"
      ]
    },
    {
      "cell_type": "code",
      "execution_count": 3,
      "metadata": {
        "colab": {
          "base_uri": "https://localhost:8080/"
        },
        "id": "42HNEa-Tfvyj",
        "outputId": "4e8d0a7a-6896-4d9f-fca5-49a0c9ca198a"
      },
      "outputs": [
        {
          "output_type": "stream",
          "name": "stderr",
          "text": [
            "[nltk_data] Downloading package stopwords to /root/nltk_data...\n",
            "[nltk_data]   Unzipping corpora/stopwords.zip.\n"
          ]
        },
        {
          "output_type": "execute_result",
          "data": {
            "text/plain": [
              "True"
            ]
          },
          "metadata": {},
          "execution_count": 3
        }
      ],
      "source": [
        "import nltk\n",
        "nltk.download('stopwords')"
      ]
    },
    {
      "cell_type": "code",
      "execution_count": 4,
      "metadata": {
        "id": "lpjqaIXbdMc2"
      },
      "outputs": [],
      "source": [
        "import pandas as pd \n",
        "import numpy as np \n",
        "import re\n",
        "import string\n",
        "import nltk\n",
        "from nltk.corpus import stopwords  \n",
        "from nltk.stem import WordNetLemmatizer"
      ]
    },
    {
      "cell_type": "code",
      "execution_count": null,
      "metadata": {
        "colab": {
          "background_save": true
        },
        "id": "dhhKFMdGd2-5"
      },
      "outputs": [],
      "source": [
        "#nltk.download('omw-1.4')  "
      ]
    },
    {
      "cell_type": "code",
      "execution_count": 5,
      "metadata": {
        "colab": {
          "base_uri": "https://localhost:8080/"
        },
        "id": "mNUMEHVfd5Qn",
        "outputId": "8901c73b-8969-4823-8660-bace6ef25e8f"
      },
      "outputs": [
        {
          "output_type": "stream",
          "name": "stderr",
          "text": [
            "[nltk_data] Downloading package wordnet to /root/nltk_data...\n"
          ]
        },
        {
          "output_type": "execute_result",
          "data": {
            "text/plain": [
              "True"
            ]
          },
          "metadata": {},
          "execution_count": 5
        }
      ],
      "source": [
        "nltk.download('wordnet')"
      ]
    },
    {
      "cell_type": "markdown",
      "metadata": {
        "id": "DFjSzuMbdMc3"
      },
      "source": [
        "### **1. Cargar datos**"
      ]
    },
    {
      "cell_type": "code",
      "execution_count": 6,
      "metadata": {
        "colab": {
          "base_uri": "https://localhost:8080/"
        },
        "id": "8sjML9yBdMc4",
        "outputId": "d1f996b5-f62b-4796-9912-ebfad17bac5e"
      },
      "outputs": [
        {
          "output_type": "stream",
          "name": "stdout",
          "text": [
            "Total de registros Amazon:  (1000, 2)\n",
            "Total de registros IMDB:  (1000, 2)\n",
            "Total de registros Yelp:  (1000, 2)\n"
          ]
        }
      ],
      "source": [
        "# Cargamos los datos, observamos que para el archivo de IMDB \n",
        "# el separador es de 3 o más espacios y no un tabulador:\n",
        "\n",
        "dfa = pd.read_csv('/content/drive/MyDrive/NLP/semana-5/amazon5.txt', sep='\\t', names=['review','label'], header=None, encoding='utf-8')\n",
        "dfi = pd.read_csv('/content/drive/MyDrive/NLP/semana-5/imdb5.txt', sep=r'\\s{3,}', names=['review','label'], header=None, encoding='utf-8', engine='python')\n",
        "dfy = pd.read_csv('/content/drive/MyDrive/NLP/semana-5/yelp5.txt', sep='\\t', names=['review','label'], header=None, encoding='utf-8')\n",
        "\n",
        "# verificamos total de registros\n",
        "print('Total de registros Amazon: ', dfa.shape)\n",
        "print('Total de registros IMDB: ', dfi.shape)\n",
        "print('Total de registros Yelp: ', dfy.shape)"
      ]
    },
    {
      "cell_type": "code",
      "execution_count": 7,
      "metadata": {
        "colab": {
          "base_uri": "https://localhost:8080/"
        },
        "id": "MPRfcXO_dMc5",
        "outputId": "f1c59e53-16f9-417f-e162-d10b7081792b"
      },
      "outputs": [
        {
          "output_type": "stream",
          "name": "stdout",
          "text": [
            "<class 'pandas.core.frame.DataFrame'>\n",
            "RangeIndex: 3000 entries, 0 to 2999\n",
            "Data columns (total 2 columns):\n",
            " #   Column  Non-Null Count  Dtype \n",
            "---  ------  --------------  ----- \n",
            " 0   review  3000 non-null   object\n",
            " 1   label   3000 non-null   int64 \n",
            "dtypes: int64(1), object(1)\n",
            "memory usage: 47.0+ KB\n"
          ]
        }
      ],
      "source": [
        "# unimos los 3 dataframes\n",
        "df = pd.concat([dfa, dfi, dfy], ignore_index=True)\n",
        "\n",
        "df.info()"
      ]
    },
    {
      "cell_type": "markdown",
      "metadata": {
        "id": "EPVJ6V57dMc6"
      },
      "source": [
        "### **2. Limpieza y lematización**"
      ]
    },
    {
      "cell_type": "code",
      "execution_count": 8,
      "metadata": {
        "id": "s-KvaPW7dMc6"
      },
      "outputs": [],
      "source": [
        "def clean_tok(doc):\n",
        "  # Elimina los signos de puntuación, caracteres especiales y números\n",
        "  tokens = re.sub(r'[^A-Za-z\\s]', ' ', doc).strip()\n",
        "\n",
        "  # Elimina espacios en blanco adicionales y convierte a minúsculas\n",
        "  tokens = ' '.join(re.findall(r'\\b\\w+\\b', tokens.lower()))\n",
        "  \n",
        "  # Tokeniza por palabras, elimina stopwords y palabras de longitud menor a 1\n",
        "  tokens = [w for w in tokens.split() if w not in stopwords.words('english') and len(w) > 1]\n",
        "\n",
        "  return tokens"
      ]
    },
    {
      "cell_type": "code",
      "execution_count": 9,
      "metadata": {
        "id": "kHFH0708dMc7"
      },
      "outputs": [],
      "source": [
        "# Separamos las palabras de las etiquetas\n",
        "\n",
        "X = df.review \n",
        "Y = df.label"
      ]
    },
    {
      "cell_type": "code",
      "execution_count": 10,
      "metadata": {
        "id": "6xSm1AEcdMc7"
      },
      "outputs": [],
      "source": [
        "# aplicamos la función clean_tok a cada registro de X\n",
        "\n",
        "Xcleantok = [clean_tok(x) for x in X] "
      ]
    },
    {
      "cell_type": "markdown",
      "metadata": {
        "id": "XUVKL_vedMc8"
      },
      "source": [
        "Obsrvamos los primeros registros "
      ]
    },
    {
      "cell_type": "code",
      "execution_count": 11,
      "metadata": {
        "colab": {
          "base_uri": "https://localhost:8080/"
        },
        "id": "W2On08kddMc8",
        "outputId": "3c08dbfb-8c0b-4841-b25a-7207938c5d3f"
      },
      "outputs": [
        {
          "output_type": "stream",
          "name": "stdout",
          "text": [
            "['way', 'plug', 'us', 'unless', 'go', 'converter']\n",
            "['good', 'case', 'excellent', 'value']\n",
            "['great', 'jawbone']\n",
            "['tied', 'charger', 'conversations', 'lasting', 'minutes', 'major', 'problems']\n",
            "['mic', 'great']\n",
            "['jiggle', 'plug', 'get', 'line', 'right', 'get', 'decent', 'volume']\n",
            "['several', 'dozen', 'several', 'hundred', 'contacts', 'imagine', 'fun', 'sending', 'one', 'one']\n",
            "['razr', 'owner', 'must']\n",
            "['needless', 'say', 'wasted', 'money']\n",
            "['waste', 'money', 'time']\n"
          ]
        }
      ],
      "source": [
        "for x in Xcleantok[0:10]:\n",
        "  print(x)"
      ]
    },
    {
      "cell_type": "markdown",
      "metadata": {
        "id": "KO8o6VrkdMc8"
      },
      "source": [
        "### Lematización\n",
        "\n",
        "Adicional a la limpieza anterior, simplificaremos el vocabulario lematizando verbos y sustantivos."
      ]
    },
    {
      "cell_type": "code",
      "execution_count": 12,
      "metadata": {
        "id": "0Wu7fU9sdMc9"
      },
      "outputs": [],
      "source": [
        "wnl = WordNetLemmatizer() \n",
        "\n",
        "def lemmatizer(doc):\n",
        "  Xtmp = [wnl.lemmatize(w, 'v') for w in doc]     # lemmatiza verbos\n",
        "  Xtmp = [wnl.lemmatize(w, 'n') for w in Xtmp]    # lemmatiza sustantivos\n",
        "  \n",
        "  return Xtmp"
      ]
    },
    {
      "cell_type": "code",
      "execution_count": 13,
      "metadata": {
        "id": "RDeh6aiPdMc9"
      },
      "outputs": [],
      "source": [
        "# aplicamos la función lemmatizer a cada registro de Xcleantok\n",
        "\n",
        "Xclean = [lemmatizer(x) for x in Xcleantok]"
      ]
    },
    {
      "cell_type": "code",
      "execution_count": 14,
      "metadata": {
        "colab": {
          "base_uri": "https://localhost:8080/"
        },
        "id": "wfMpxTa0dMc9",
        "outputId": "a692594f-3593-4e2a-b955-4d424c0d8178"
      },
      "outputs": [
        {
          "output_type": "stream",
          "name": "stdout",
          "text": [
            "['way', 'plug', 'u', 'unless', 'go', 'converter']\n",
            "['good', 'case', 'excellent', 'value']\n",
            "['great', 'jawbone']\n",
            "['tie', 'charger', 'conversation', 'last', 'minute', 'major', 'problem']\n",
            "['mic', 'great']\n",
            "['jiggle', 'plug', 'get', 'line', 'right', 'get', 'decent', 'volume']\n",
            "['several', 'dozen', 'several', 'hundred', 'contact', 'imagine', 'fun', 'send', 'one', 'one']\n",
            "['razr', 'owner', 'must']\n",
            "['needle', 'say', 'waste', 'money']\n",
            "['waste', 'money', 'time']\n"
          ]
        }
      ],
      "source": [
        "for x in Xclean[0:10]:\n",
        "    print(x)"
      ]
    },
    {
      "cell_type": "markdown",
      "metadata": {
        "id": "Hm7MrP74dMc9"
      },
      "source": [
        "### **3. Train-Validation-Test split**"
      ]
    },
    {
      "cell_type": "code",
      "execution_count": 15,
      "metadata": {
        "colab": {
          "base_uri": "https://localhost:8080/"
        },
        "id": "lHaqfXETdMc-",
        "outputId": "9ca581a0-5450-43d5-9a92-2a3aac47f793"
      },
      "outputs": [
        {
          "output_type": "stream",
          "name": "stdout",
          "text": [
            "X,y Train: 2100 2100\n",
            "X,y Val: 450 450\n",
            "X,y Test 450 450\n"
          ]
        }
      ],
      "source": [
        "from sklearn.model_selection import train_test_split \n",
        "\n",
        "# Dividir el conjunto de datos en conjuntos de entrenamiento y prueba\n",
        "# x_train y y_train contendrán los datos de entrenamiento\n",
        "# x_val_test y y_val_test contendrán los datos combinados de validación y prueba\n",
        "# El parámetro test_size=0.30 indica que el 30% de los datos se utilizarán para validación y prueba\n",
        "# El parámetro shuffle=True indica que los datos se mezclarán antes de dividirlos\n",
        "# El parámetro random_state=42 establece una semilla aleatoria para garantizar reproducibilidad\n",
        "x_train, x_val_test, y_train, y_val_test = train_test_split(Xclean, Y, test_size=0.30, shuffle=True, random_state=42)\n",
        "\n",
        "# Dividir el conjunto de datos combinado de validación y prueba en conjuntos de validación y prueba separados\n",
        "# x_val y y_val contendrán los datos de validación\n",
        "# x_test y y_test contendrán los datos de prueba\n",
        "# El parámetro test_size=0.50 indica que el 50% de los datos combinados se utilizarán para validación y prueba\n",
        "# El parámetro shuffle=True indica que los datos se mezclarán antes de dividirlos\n",
        "# El parámetro random_state=42 establece una semilla aleatoria para garantizar reproducibilidad\n",
        "x_val, x_test, y_val, y_test = train_test_split(x_val_test, y_val_test, test_size=0.50, shuffle=True, random_state=42) \n",
        "\n",
        "# Verificamos el tamaño de los conjuntos de datos de entrenamiento, validación y prueba\n",
        "print('X,y Train:', len(x_train), len(y_train)) \n",
        "print('X,y Val:', len(x_val), len(y_val))\n",
        "print('X,y Test', len(x_test), len(y_test))"
      ]
    },
    {
      "cell_type": "markdown",
      "metadata": {
        "id": "NQs7FMFqp6Ka"
      },
      "source": [
        "### **4. Vocabulario**"
      ]
    },
    {
      "cell_type": "code",
      "execution_count": 16,
      "metadata": {
        "id": "taLH8Y6kp_Ok"
      },
      "outputs": [],
      "source": [
        "from collections import Counter"
      ]
    },
    {
      "cell_type": "code",
      "execution_count": 17,
      "metadata": {
        "colab": {
          "base_uri": "https://localhost:8080/"
        },
        "id": "DyZOj7LmqCuU",
        "outputId": "9dd55998-9fa0-4a87-e946-3b930ed7e68a"
      },
      "outputs": [
        {
          "output_type": "stream",
          "name": "stdout",
          "text": [
            "Tamaño del diccionario:  3292\n"
          ]
        }
      ],
      "source": [
        "diccionario = Counter()\n",
        "\n",
        "# creamos diccionario con las palabras del set de entrenamiento\n",
        "for k in range(len(x_train)):\n",
        "  diccionario.update(x_train[k]) \n",
        "\n",
        "print('Tamaño del diccionario: ', len(diccionario))"
      ]
    },
    {
      "cell_type": "code",
      "execution_count": 18,
      "metadata": {
        "colab": {
          "base_uri": "https://localhost:8080/"
        },
        "id": "9AVk5ErzqGod",
        "outputId": "4399eeb9-398f-4a69-8d77-e85d6a14c30c"
      },
      "outputs": [
        {
          "output_type": "stream",
          "name": "stdout",
          "text": [
            "Tamaño del diccionario filtrado:  1440\n"
          ]
        }
      ],
      "source": [
        "# filtramos el diccionario\n",
        "frec_min = 1\n",
        "\n",
        "dicc = {k:v for k,v in diccionario.items() if v > frec_min}\n",
        "\n",
        "print('Tamaño del diccionario filtrado: ', len(dicc))"
      ]
    },
    {
      "cell_type": "markdown",
      "metadata": {
        "id": "6mThtWuxqMMO"
      },
      "source": [
        "### Filtramos los conjuntos de datos de entrenamiento, validación y prueba"
      ]
    },
    {
      "cell_type": "code",
      "execution_count": 19,
      "metadata": {
        "id": "cYWN7xqxqMsQ"
      },
      "outputs": [],
      "source": [
        "train_x = []\n",
        "for n in x_train:\n",
        "    train_x.append([w for w in n if w in dicc])\n",
        "\n",
        "val_x = []\n",
        "for n in x_val:\n",
        "    val_x.append([w for w in n if w in dicc])\n",
        "\n",
        "test_x = []\n",
        "for n in x_test:\n",
        "    test_x.append([w for w in n if w in dicc])"
      ]
    },
    {
      "cell_type": "markdown",
      "metadata": {
        "id": "0YPVwDwHt9pi"
      },
      "source": [
        "* **1) ¿Por qué es importante acotar un vocabulario inferior y superiormente?**\n",
        "Es importante generar una acotación de diccionario por los siguientes motivos:\n",
        "Eficiencia en los recursos computacionales: en todos los escenarios los recursos son finitos y utilizar un vocabulario muy grande puede aumentar de manera drástica el tiempo de procesamiento y los recursos requeridos para poder entrenar modelos, limitando el tamaño del vocabulario, ayuda a tener buenos rendimientos computacionales.\n",
        "Palabras focalizadas: al acotar los vocabularios, el modelo se enfoca solo en las palabras más relevantes y frecuentes, eliminando las palabras menos comunes y frecuentas, se evita que el modelo sufra sobreajustes por patrones que podrían introducir estos outlayers.\n",
        "Eliminación de ruido (error): con la acotación del vocabulario, se eliminan palabras que podrían introducir error en el modelo, esto puede mejorar la calidad y precisión del modelo.\n",
        "\n",
        "* **2) ¿Por qué debe usarse solamente el conjunto de entrenamiento para generar el diccionario?**\n",
        "Generalmente, se usa el modelo de entrenamiento para evitar sesgo en los datos, al usar solo esto el modelo tiene acceso a palabras y features presentes en este conjunto, lo que potencialmente refleja lo que necesitamos utilizar.\n",
        "Si se utilizara el conjunto de validación o de prueba, se podría introducir información sobre palabras que solo existan en estos conjuntos, lo que podría potencialmente sesgar de manera importante el modelo, ya que éste tendría acceso a palabras y features que no debería conocer en el entrenamiento. El objetivo es que el modelo aprenda desde el entrenamiento y, con base en este conocimiento, pueda aplicarlo a cosas que no conoce en los conjuntos de validación y prueba\n"
      ]
    },
    {
      "cell_type": "markdown",
      "metadata": {
        "id": "PMjVAuv_qh3L"
      },
      "source": [
        "### **5. Tabla comparativa de pros y contras entre los modelos FastText, word2vec de Google y Glove de Stanford.**"
      ]
    },
    {
      "cell_type": "markdown",
      "metadata": {
        "id": "C3nzqDFPiWux"
      },
      "source": [
        "![embeddingmodels.png](data:image/png;base64,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)"
      ]
    },
    {
      "cell_type": "markdown",
      "metadata": {
        "id": "Dftp7095q1Ky"
      },
      "source": [
        "### **6. Diccionario con Vectores Embebidos de FastText**"
      ]
    },
    {
      "cell_type": "code",
      "execution_count": null,
      "metadata": {
        "colab": {
          "background_save": true
        },
        "id": "5FrW209GrLKj",
        "outputId": "61e208a8-075e-421a-f187-5f471f6810f3"
      },
      "outputs": [
        {
          "name": "stdout",
          "output_type": "stream",
          "text": [
            "Looking in indexes: https://pypi.org/simple, https://us-python.pkg.dev/colab-wheels/public/simple/\n",
            "Collecting fasttext\n",
            "  Downloading fasttext-0.9.2.tar.gz (68 kB)\n",
            "\u001b[2K     \u001b[90m━━━━━━━━━━━━━━━━━━━━━━━━━━━━━━━━━━━━━━━━\u001b[0m \u001b[32m68.8/68.8 kB\u001b[0m \u001b[31m3.1 MB/s\u001b[0m eta \u001b[36m0:00:00\u001b[0m\n",
            "\u001b[?25h  Preparing metadata (setup.py) ... \u001b[?25l\u001b[?25hdone\n",
            "Collecting pybind11>=2.2 (from fasttext)\n",
            "  Using cached pybind11-2.10.4-py3-none-any.whl (222 kB)\n",
            "Requirement already satisfied: setuptools>=0.7.0 in /usr/local/lib/python3.10/dist-packages (from fasttext) (67.7.2)\n",
            "Requirement already satisfied: numpy in /usr/local/lib/python3.10/dist-packages (from fasttext) (1.22.4)\n",
            "Building wheels for collected packages: fasttext\n",
            "  Building wheel for fasttext (setup.py) ... \u001b[?25l\u001b[?25hdone\n",
            "  Created wheel for fasttext: filename=fasttext-0.9.2-cp310-cp310-linux_x86_64.whl size=4393248 sha256=7bf195432539ad65ec05fff11377b6b29c9dee35874b802f0e6d7126bae26e89\n",
            "  Stored in directory: /root/.cache/pip/wheels/a5/13/75/f811c84a8ab36eedbaef977a6a58a98990e8e0f1967f98f394\n",
            "Successfully built fasttext\n",
            "Installing collected packages: pybind11, fasttext\n",
            "Successfully installed fasttext-0.9.2 pybind11-2.10.4\n"
          ]
        }
      ],
      "source": [
        "!pip install fasttext"
      ]
    },
    {
      "cell_type": "code",
      "execution_count": null,
      "metadata": {
        "colab": {
          "background_save": true
        },
        "id": "wIna_OACsLcU"
      },
      "outputs": [],
      "source": [
        "import fasttext\n",
        "import fasttext.util"
      ]
    },
    {
      "cell_type": "code",
      "execution_count": null,
      "metadata": {
        "colab": {
          "background_save": true,
          "base_uri": "https://localhost:8080/"
        },
        "id": "CeiqTyMLsVUc",
        "outputId": "7ccdebf4-8936-4d6a-c1ef-8ec7048d016f"
      },
      "outputs": [
        {
          "name": "stdout",
          "output_type": "stream",
          "text": [
            "Downloading https://dl.fbaipublicfiles.com/fasttext/vectors-crawl/cc.en.300.bin.gz\n"
          ]
        },
        {
          "data": {
            "application/vnd.google.colaboratory.intrinsic+json": {
              "type": "string"
            },
            "text/plain": [
              "'cc.en.300.bin'"
            ]
          },
          "execution_count": 23,
          "metadata": {},
          "output_type": "execute_result"
        }
      ],
      "source": [
        "# Descargamos el modelo de idioma 'en' (inglés) si aún no está descargado\n",
        "# La función download_model() del módulo fasttext.util se encarga de descargar y almacenar el modelo\n",
        "# El parámetro 'en' indica el idioma del modelo que se desea descargar\n",
        "# El parámetro if_exists='ignore' evita que se descargue el modelo si ya está presente en el sistema\n",
        "fasttext.util.download_model('en', if_exists='ignore')"
      ]
    },
    {
      "cell_type": "code",
      "execution_count": null,
      "metadata": {
        "id": "HtAyZrLr7Uo9"
      },
      "outputs": [],
      "source": [
        "# Cargamos un modelo pre-entrenado de FastText en inglés\n",
        "# Utilizamos la función load_model() del módulo fasttext para cargar el modelo\n",
        "# El parámetro 'cc.en.300.bin' especifica el nombre del archivo que contiene el modelo pre-entrenado\n",
        "ft = fasttext.load_model('cc.en.300.bin')"
      ]
    },
    {
      "cell_type": "code",
      "execution_count": null,
      "metadata": {
        "id": "4LMpiNhW8qUH"
      },
      "outputs": [],
      "source": [
        "len(ft.words)"
      ]
    },
    {
      "cell_type": "code",
      "execution_count": null,
      "metadata": {
        "id": "fxpYb0a38uZn"
      },
      "outputs": [],
      "source": [
        "ft.get_dimension()"
      ]
    },
    {
      "cell_type": "code",
      "execution_count": null,
      "metadata": {
        "id": "xm-sXpuqATYO"
      },
      "outputs": [],
      "source": [
        "midicc = {}\n",
        "\n",
        "# extraemos los vectores embebidos para nuestro diccionario\n",
        "for k,w in enumerate(dicc.keys()):\n",
        "  tmp = ft.get_word_vector(w)\n",
        "  midicc.update({w:tmp})\n"
      ]
    },
    {
      "cell_type": "markdown",
      "metadata": {
        "id": "mmDZLS5XHFsP"
      },
      "source": [
        "### Guardamos el diccionario en un archivo pickle"
      ]
    },
    {
      "cell_type": "code",
      "execution_count": 20,
      "metadata": {
        "id": "fUStOEClHKmt"
      },
      "outputs": [],
      "source": [
        "import pickle\n",
        "\n",
        "#with open('midicc_emb.pickle', 'wb') as f:\n",
        "#    pickle.dump(midicc, f, protocol=pickle.HIGHEST_PROTOCOL)\n",
        "\n",
        "### para cargar nuevamente el archivo usamos el siguiente codigo: ###\n",
        "with open('/content/drive/MyDrive/NLP/semana-5/midicc_emb.pickle', 'rb') as f:\n",
        "    midicc = pickle.load(f)"
      ]
    },
    {
      "cell_type": "markdown",
      "metadata": {
        "id": "opD7cNvIi9jo"
      },
      "source": [
        "### Verificamos que el nuevo diccionario con vectores embebidos sea del mismo tamaño de nuestro vocabulario:"
      ]
    },
    {
      "cell_type": "code",
      "execution_count": 21,
      "metadata": {
        "id": "s841n9o4iy-0",
        "colab": {
          "base_uri": "https://localhost:8080/"
        },
        "outputId": "a2a254db-4e82-4ce1-d54b-d5c7025b60bd"
      },
      "outputs": [
        {
          "output_type": "stream",
          "name": "stdout",
          "text": [
            "True\n"
          ]
        }
      ],
      "source": [
        "print(len(dicc) == len(midicc))"
      ]
    },
    {
      "cell_type": "code",
      "execution_count": null,
      "metadata": {
        "id": "9VCEaW8qL5cc"
      },
      "outputs": [],
      "source": [
        "# borramos la variable ft para liberar memoria RAM\n",
        "#del ft "
      ]
    },
    {
      "cell_type": "markdown",
      "metadata": {
        "id": "9mychCbfLNxa"
      },
      "source": [
        "### **7. Asignar a cada comentario filtrado el vector embebido de dimensión 300**"
      ]
    },
    {
      "cell_type": "code",
      "execution_count": 22,
      "metadata": {
        "id": "Jwh8KeEdLkP0"
      },
      "outputs": [],
      "source": [
        "def embedding_vector(docs):\n",
        "    '''Función para asignar el vector embebido de dimensión 300\n",
        "       promediando los tokens de cada comentario\n",
        "    '''  \n",
        "    dim = 300\n",
        "    zero_vector = np.zeros(dim)\n",
        "    vectors = []\n",
        "# Iteramos sobre los comentarios en `docs` para asignar el vector embebido a cada uno\n",
        "    for tokens in docs:\n",
        "        tmp_vect =  np.zeros(dim)\n",
        "        tmp_count = 0 + 1e-5      # para evitar dividir por 0\n",
        "\n",
        "        # Iteramos sobre los tokens de cada comentario para obtener sus vectores embebidos\n",
        "        for token in tokens:\n",
        "            if token in midicc:\n",
        "                tmp_vect += midicc[token]\n",
        "                tmp_count += 1\n",
        "\n",
        "        # Verificamos si hay algún token en el comentario\n",
        "        # Si sí, calculamos el promedio del vector embebido de los tokens presentes\n",
        "        # Si no, asignamos un vector de ceros\n",
        "        if(tmp_count != 0):\n",
        "            vectors.append(tmp_vect / tmp_count) \n",
        "        else:\n",
        "            vectors.append(zero_vector)\n",
        "\n",
        "    return vectors\n"
      ]
    },
    {
      "cell_type": "code",
      "execution_count": 23,
      "metadata": {
        "id": "sMMxVhQBZ2AM"
      },
      "outputs": [],
      "source": [
        "# creamos los nuevos sets de entrenamiento, validacion y prueba\n",
        "\n",
        "trainEmb = embedding_vector(train_x) \n",
        "\n",
        "valEmb = embedding_vector(val_x)\n",
        "\n",
        "testEmb = embedding_vector(test_x) "
      ]
    },
    {
      "cell_type": "code",
      "execution_count": 24,
      "metadata": {
        "id": "z3JGkZ7TaaJU",
        "colab": {
          "base_uri": "https://localhost:8080/"
        },
        "outputId": "c8590fd5-24ad-426c-c591-ea63b7950b0e"
      },
      "outputs": [
        {
          "output_type": "stream",
          "name": "stdout",
          "text": [
            "X Train:  2100\n",
            "X Val:  450\n",
            "X Test:  450\n"
          ]
        }
      ],
      "source": [
        "print('X Train: ', len(trainEmb))\n",
        "print('X Val: ', len(valEmb))\n",
        "print('X Test: ', len(testEmb))"
      ]
    },
    {
      "cell_type": "code",
      "execution_count": 25,
      "metadata": {
        "id": "0PstmE0PMfLI",
        "colab": {
          "base_uri": "https://localhost:8080/"
        },
        "outputId": "8510d3a8-e550-43d5-a286-b2bb592fc4f0"
      },
      "outputs": [
        {
          "output_type": "stream",
          "name": "stdout",
          "text": [
            "300\n",
            "300\n",
            "300\n"
          ]
        }
      ],
      "source": [
        "print(len(trainEmb[1]))\n",
        "print(len(valEmb[1]))\n",
        "print(len(testEmb[1]))"
      ]
    },
    {
      "cell_type": "markdown",
      "metadata": {
        "id": "QFROheYWZsd6"
      },
      "source": [
        "**7a. Conjuntos de entrenamiento, validación y prueba:**\n",
        "* **1) ¿Cuales son sus dimensiones?**\n",
        "\n",
        "    ` trainEmb `  : 2100 vectores\n",
        "    \n",
        "    ` valEmb ` : 450 vectores\n",
        "\n",
        "    ` testEmb ` : 450 vectores\n",
        "\n",
        "    Cada vector de cada conjunto tiene 300 componentes o dimensiones.\n",
        "\n",
        "* **2) ¿Se podrían usar para\n",
        "su representación matrices dispersas (sparse matrices) como en el caso de la matriz Tf-idf?**\n",
        "\n",
        "    Al contrario de las matrices Tf-idf, los modelos de vectores embebidos generan vectores densos, es decir, casi no tienen valores iguales a 0. Por lo tanto no se podrían representar con matrices dispersas.\n",
        "\n",
        "\n"
      ]
    },
    {
      "cell_type": "markdown",
      "metadata": {
        "id": "2fRVMNuZeNf8"
      },
      "source": [
        "### **8. Modelos de Regresión Logística y Random Forest**"
      ]
    },
    {
      "cell_type": "code",
      "execution_count": 26,
      "metadata": {
        "id": "KhdAjYwJeVG9"
      },
      "outputs": [],
      "source": [
        "from sklearn.linear_model import LogisticRegression\n",
        "from sklearn.ensemble import RandomForestClassifier"
      ]
    },
    {
      "cell_type": "code",
      "execution_count": 27,
      "metadata": {
        "id": "ao0A-RU5eal_",
        "colab": {
          "base_uri": "https://localhost:8080/"
        },
        "outputId": "0e727d15-08c4-4e2a-af77-c9b72a32c158"
      },
      "outputs": [
        {
          "output_type": "stream",
          "name": "stdout",
          "text": [
            "LR: Train-accuracy: 81.05%\n",
            "LR: Val-accuracy: 77%\n",
            "\n",
            "RF: Train-accuracy: 80.29%\n",
            "RF: Val-accuracy: 70.00%\n"
          ]
        }
      ],
      "source": [
        "# Creación y entrenamiento de un modelo de regresión logística con embeddings\n",
        "modeloLRemb = LogisticRegression(max_iter=1000, C=1.9, solver='liblinear', random_state=42)\n",
        "modeloLRemb.fit(trainEmb, y_train)\n",
        "\n",
        "# Creación y entrenamiento de un modelo de clasificación de bosques aleatorios con embeddings\n",
        "modeloRFemb = RandomForestClassifier(n_estimators=9, max_depth=4, random_state=42)\n",
        "modeloRFemb.fit(trainEmb, y_train)\n",
        "\n",
        "########################################################################################\n",
        "\n",
        "# Evaluación de los modelos en el conjunto de entrenamiento y validación utilizando la precisión (accuracy)\n",
        "# Regresión logística\n",
        "print('LR: Train-accuracy: %.2f%%' % (100*modeloLRemb.score(trainEmb, y_train)))\n",
        "print('LR: Val-accuracy: %2.f%%' % (100*modeloLRemb.score(valEmb, y_val)))\n",
        "\n",
        "# Bosques aleatorios\n",
        "print('\\nRF: Train-accuracy: %.2f%%' % (100*modeloRFemb.score(trainEmb, y_train)))\n",
        "print('RF: Val-accuracy: %.2f%%' % (100*modeloRFemb.score(valEmb, y_val)))"
      ]
    },
    {
      "cell_type": "markdown",
      "metadata": {
        "id": "AWCt3cZ-nmo2"
      },
      "source": [
        "### **9. Matriz de Confusión**"
      ]
    },
    {
      "cell_type": "markdown",
      "source": [
        "Elegimos como mejor modelo el de Regresión Logística"
      ],
      "metadata": {
        "id": "nVXntvB4q4nu"
      }
    },
    {
      "cell_type": "code",
      "execution_count": 28,
      "metadata": {
        "id": "plhr8BM2nqt4"
      },
      "outputs": [],
      "source": [
        "from sklearn.metrics import confusion_matrix "
      ]
    },
    {
      "cell_type": "code",
      "execution_count": 29,
      "metadata": {
        "id": "3yvjStTqn02Q",
        "colab": {
          "base_uri": "https://localhost:8080/"
        },
        "outputId": "97fefb9b-12e9-43bc-ecbf-30d933882c68"
      },
      "outputs": [
        {
          "output_type": "stream",
          "name": "stdout",
          "text": [
            "Test-accuracy con el mejor modelo: 79.56%\n",
            "\n",
            "Matriz de confusión con el mejor modelo:\n",
            "[[170  47]\n",
            " [ 45 188]]\n",
            "\n",
            "Matriz de confusión con el mejor modelo en proporciones:\n",
            "[[0.37777778 0.10444444]\n",
            " [0.1        0.41777778]]\n"
          ]
        }
      ],
      "source": [
        "# Evaluación del mejor modelo de regresión logística en el conjunto de prueba\n",
        "print('Test-accuracy con el mejor modelo: %.2f%%' % (100*modeloLRemb.score(testEmb, y_test))) \n",
        "\n",
        "# Realizamos predicciones en el conjunto de prueba utilizando el mejor modelo\n",
        "pred = modeloLRemb.predict(testEmb)\n",
        "\n",
        "# Imprimimos la matriz de confusión utilizando el mejor modelo\n",
        "print('\\nMatriz de confusión con el mejor modelo:')\n",
        "print(confusion_matrix(y_test, pred, labels=[0,1]))\n",
        "\n",
        "# Imprimimos la matriz de confusión en proporciones utilizando el mejor modelo\n",
        "print('\\nMatriz de confusión con el mejor modelo en proporciones:')\n",
        "print(confusion_matrix(y_test, pred, labels=[0,1]) / pred.shape[0])"
      ]
    },
    {
      "cell_type": "markdown",
      "metadata": {
        "id": "tXHl9fddn2kp"
      },
      "source": [
        "### Interpretación matriz de confusión\n",
        "\n",
        "En el mejor obtenido se tiene la siguiente información de la matriz de confusión:\n",
        "*\tVerdaderos positivos (True Positives, TP): 170\n",
        "*\tFalsos positivos (False Positives, FP): 47\n",
        "*\tFalsos negativos (False Negatives, FN): 45\n",
        "*\tVerdaderos negativos (True Negatives, TN): 188\n",
        "\n",
        "Entonces, se puede decir que el modelo hizo la predicción correcta de 170 casos positivos, clasificó 47 casos de manera errónea como positivos cuando en verdad son negativos, clasifico 45 casos negativos cuando eran positivos y clasificó 188 casos negativos de manera correcta.\n",
        "\n",
        "Con estos valores se puede realizar una evaluación de la precisión y rendimiento del modelo, en este caso, el modelo tiene una precisión de casi el 80% en la base de datos de pruebas. También, existen todavía algunos errores en falsos positivos y negativos.\n",
        "\n",
        "Se debe tener en cuenta el contexto de la información para determinar los impactos que podrían tener en el negocio, si esta fuera información relevante respecto a temas de salud, un falso positivo tendría un impacto devastador.\n"
      ]
    },
    {
      "cell_type": "markdown",
      "metadata": {
        "id": "kuXEQksPpVwj"
      },
      "source": [
        "### **10. Conclusiones finales**\n",
        "\n",
        "Finalmente, se puede decir que la actividad semanal se basó en le uso de vectores incrustados de FastText para clasificar textos. Adicional a todo el procesamiento de datos para poder realizar las particiones y las evaluaciones de modelos, destaca la importancia de crear vocabularios bien definidos, ya que ayuda a limitar la dimensionalidad de los datos y a reducir el sobreajuste de los modelos; el vocabulario se generó únicamente usando el conjunto de entrenamiento, con lo que aseguramos que el modelo aprendiera de un conjunto consistente de palabras.\n",
        "\n",
        "Con esta actividad se pudo demostrar la importancia de implementar diversas metodologías para buscar modelos que permitan mejorar la precisión. Una posible conclusión es que el modelo está capturando el ruido o características irrelevantes en los datos de entrenamiento, lo que resulta en una alta precisión en el conjunto de entrenamiento pero una precisión más baja en el conjunto de validación. Esto indica una falta de generalización del modelo.\n",
        "\n",
        "Es importante tener en cuenta que la precisión obtenida en el conjunto de validación es un indicador más confiable del rendimiento del modelo en datos no vistos. Si la diferencia entre la precisión del conjunto de entrenamiento y el conjunto de validación es significativa, puede ser necesario revisar el modelo y aplicar técnicas como la regularización, el ajuste de parámetros o el aumento de datos para mejorar la generalización y reducir el sobreajuste. El uso de vectores incrustados permitió la incorporación de información contextual, lo que mejora el modelo.\n"
      ]
    },
    {
      "cell_type": "markdown",
      "source": [
        "### 11. Modelado con XGBoost"
      ],
      "metadata": {
        "id": "kAHv5lP5J57G"
      }
    },
    {
      "cell_type": "code",
      "source": [
        "!pip install xgboost "
      ],
      "metadata": {
        "colab": {
          "base_uri": "https://localhost:8080/"
        },
        "id": "ZPXVmen5J_wG",
        "outputId": "aff5e1df-7e45-46a6-8914-6e1dea9d2d8d"
      },
      "execution_count": 30,
      "outputs": [
        {
          "output_type": "stream",
          "name": "stdout",
          "text": [
            "Looking in indexes: https://pypi.org/simple, https://us-python.pkg.dev/colab-wheels/public/simple/\n",
            "Requirement already satisfied: xgboost in /usr/local/lib/python3.10/dist-packages (1.7.5)\n",
            "Requirement already satisfied: numpy in /usr/local/lib/python3.10/dist-packages (from xgboost) (1.22.4)\n",
            "Requirement already satisfied: scipy in /usr/local/lib/python3.10/dist-packages (from xgboost) (1.10.1)\n"
          ]
        }
      ]
    },
    {
      "cell_type": "code",
      "source": [
        "import xgboost as xgb"
      ],
      "metadata": {
        "id": "pspDt7r4KDZ4"
      },
      "execution_count": 31,
      "outputs": []
    },
    {
      "cell_type": "code",
      "source": [
        "modeloXGBemb = xgb.XGBClassifier(max_depth=4, n_estimators=1000, reg_lambda=1.5,\n",
        "                                 early_stopping_rounds=50 ,eval_metric='auc', eta=0.01)\n",
        "\n",
        "modeloXGBemb.fit(trainEmb, y_train, eval_set=[(trainEmb, y_train), (valEmb, y_val)], verbose=100)"
      ],
      "metadata": {
        "colab": {
          "base_uri": "https://localhost:8080/",
          "height": 391
        },
        "id": "09dRvHJpKPS2",
        "outputId": "084cece7-3096-4828-e45d-87cea4f062f2"
      },
      "execution_count": 67,
      "outputs": [
        {
          "output_type": "stream",
          "name": "stdout",
          "text": [
            "[0]\tvalidation_0-auc:0.80618\tvalidation_1-auc:0.69951\n",
            "[100]\tvalidation_0-auc:0.94353\tvalidation_1-auc:0.81106\n",
            "[200]\tvalidation_0-auc:0.96667\tvalidation_1-auc:0.81887\n",
            "[300]\tvalidation_0-auc:0.97958\tvalidation_1-auc:0.82559\n",
            "[400]\tvalidation_0-auc:0.98678\tvalidation_1-auc:0.83077\n",
            "[500]\tvalidation_0-auc:0.99127\tvalidation_1-auc:0.83573\n",
            "[600]\tvalidation_0-auc:0.99417\tvalidation_1-auc:0.83899\n",
            "[640]\tvalidation_0-auc:0.99496\tvalidation_1-auc:0.83858\n"
          ]
        },
        {
          "output_type": "execute_result",
          "data": {
            "text/plain": [
              "XGBClassifier(base_score=None, booster=None, callbacks=None,\n",
              "              colsample_bylevel=None, colsample_bynode=None,\n",
              "              colsample_bytree=None, early_stopping_rounds=50,\n",
              "              enable_categorical=False, eta=0.01, eval_metric='auc',\n",
              "              feature_types=None, gamma=None, gpu_id=None, grow_policy=None,\n",
              "              importance_type=None, interaction_constraints=None,\n",
              "              learning_rate=None, max_bin=None, max_cat_threshold=None,\n",
              "              max_cat_to_onehot=None, max_delta_step=None, max_depth=4,\n",
              "              max_leaves=None, min_child_weight=None, missing=nan,\n",
              "              monotone_constraints=None, n_estimators=1000, n_jobs=None,\n",
              "              num_parallel_tree=None, predictor=None, ...)"
            ],
            "text/html": [
              "<style>#sk-container-id-13 {color: black;background-color: white;}#sk-container-id-13 pre{padding: 0;}#sk-container-id-13 div.sk-toggleable {background-color: white;}#sk-container-id-13 label.sk-toggleable__label {cursor: pointer;display: block;width: 100%;margin-bottom: 0;padding: 0.3em;box-sizing: border-box;text-align: center;}#sk-container-id-13 label.sk-toggleable__label-arrow:before {content: \"▸\";float: left;margin-right: 0.25em;color: #696969;}#sk-container-id-13 label.sk-toggleable__label-arrow:hover:before {color: black;}#sk-container-id-13 div.sk-estimator:hover label.sk-toggleable__label-arrow:before {color: black;}#sk-container-id-13 div.sk-toggleable__content {max-height: 0;max-width: 0;overflow: hidden;text-align: left;background-color: #f0f8ff;}#sk-container-id-13 div.sk-toggleable__content pre {margin: 0.2em;color: black;border-radius: 0.25em;background-color: #f0f8ff;}#sk-container-id-13 input.sk-toggleable__control:checked~div.sk-toggleable__content {max-height: 200px;max-width: 100%;overflow: auto;}#sk-container-id-13 input.sk-toggleable__control:checked~label.sk-toggleable__label-arrow:before {content: \"▾\";}#sk-container-id-13 div.sk-estimator input.sk-toggleable__control:checked~label.sk-toggleable__label {background-color: #d4ebff;}#sk-container-id-13 div.sk-label input.sk-toggleable__control:checked~label.sk-toggleable__label {background-color: #d4ebff;}#sk-container-id-13 input.sk-hidden--visually {border: 0;clip: rect(1px 1px 1px 1px);clip: rect(1px, 1px, 1px, 1px);height: 1px;margin: -1px;overflow: hidden;padding: 0;position: absolute;width: 1px;}#sk-container-id-13 div.sk-estimator {font-family: monospace;background-color: #f0f8ff;border: 1px dotted black;border-radius: 0.25em;box-sizing: border-box;margin-bottom: 0.5em;}#sk-container-id-13 div.sk-estimator:hover {background-color: #d4ebff;}#sk-container-id-13 div.sk-parallel-item::after {content: \"\";width: 100%;border-bottom: 1px solid gray;flex-grow: 1;}#sk-container-id-13 div.sk-label:hover label.sk-toggleable__label {background-color: #d4ebff;}#sk-container-id-13 div.sk-serial::before {content: \"\";position: absolute;border-left: 1px solid gray;box-sizing: border-box;top: 0;bottom: 0;left: 50%;z-index: 0;}#sk-container-id-13 div.sk-serial {display: flex;flex-direction: column;align-items: center;background-color: white;padding-right: 0.2em;padding-left: 0.2em;position: relative;}#sk-container-id-13 div.sk-item {position: relative;z-index: 1;}#sk-container-id-13 div.sk-parallel {display: flex;align-items: stretch;justify-content: center;background-color: white;position: relative;}#sk-container-id-13 div.sk-item::before, #sk-container-id-13 div.sk-parallel-item::before {content: \"\";position: absolute;border-left: 1px solid gray;box-sizing: border-box;top: 0;bottom: 0;left: 50%;z-index: -1;}#sk-container-id-13 div.sk-parallel-item {display: flex;flex-direction: column;z-index: 1;position: relative;background-color: white;}#sk-container-id-13 div.sk-parallel-item:first-child::after {align-self: flex-end;width: 50%;}#sk-container-id-13 div.sk-parallel-item:last-child::after {align-self: flex-start;width: 50%;}#sk-container-id-13 div.sk-parallel-item:only-child::after {width: 0;}#sk-container-id-13 div.sk-dashed-wrapped {border: 1px dashed gray;margin: 0 0.4em 0.5em 0.4em;box-sizing: border-box;padding-bottom: 0.4em;background-color: white;}#sk-container-id-13 div.sk-label label {font-family: monospace;font-weight: bold;display: inline-block;line-height: 1.2em;}#sk-container-id-13 div.sk-label-container {text-align: center;}#sk-container-id-13 div.sk-container {/* jupyter's `normalize.less` sets `[hidden] { display: none; }` but bootstrap.min.css set `[hidden] { display: none !important; }` so we also need the `!important` here to be able to override the default hidden behavior on the sphinx rendered scikit-learn.org. See: https://github.com/scikit-learn/scikit-learn/issues/21755 */display: inline-block !important;position: relative;}#sk-container-id-13 div.sk-text-repr-fallback {display: none;}</style><div id=\"sk-container-id-13\" class=\"sk-top-container\"><div class=\"sk-text-repr-fallback\"><pre>XGBClassifier(base_score=None, booster=None, callbacks=None,\n",
              "              colsample_bylevel=None, colsample_bynode=None,\n",
              "              colsample_bytree=None, early_stopping_rounds=50,\n",
              "              enable_categorical=False, eta=0.01, eval_metric=&#x27;auc&#x27;,\n",
              "              feature_types=None, gamma=None, gpu_id=None, grow_policy=None,\n",
              "              importance_type=None, interaction_constraints=None,\n",
              "              learning_rate=None, max_bin=None, max_cat_threshold=None,\n",
              "              max_cat_to_onehot=None, max_delta_step=None, max_depth=4,\n",
              "              max_leaves=None, min_child_weight=None, missing=nan,\n",
              "              monotone_constraints=None, n_estimators=1000, n_jobs=None,\n",
              "              num_parallel_tree=None, predictor=None, ...)</pre><b>In a Jupyter environment, please rerun this cell to show the HTML representation or trust the notebook. <br />On GitHub, the HTML representation is unable to render, please try loading this page with nbviewer.org.</b></div><div class=\"sk-container\" hidden><div class=\"sk-item\"><div class=\"sk-estimator sk-toggleable\"><input class=\"sk-toggleable__control sk-hidden--visually\" id=\"sk-estimator-id-13\" type=\"checkbox\" checked><label for=\"sk-estimator-id-13\" class=\"sk-toggleable__label sk-toggleable__label-arrow\">XGBClassifier</label><div class=\"sk-toggleable__content\"><pre>XGBClassifier(base_score=None, booster=None, callbacks=None,\n",
              "              colsample_bylevel=None, colsample_bynode=None,\n",
              "              colsample_bytree=None, early_stopping_rounds=50,\n",
              "              enable_categorical=False, eta=0.01, eval_metric=&#x27;auc&#x27;,\n",
              "              feature_types=None, gamma=None, gpu_id=None, grow_policy=None,\n",
              "              importance_type=None, interaction_constraints=None,\n",
              "              learning_rate=None, max_bin=None, max_cat_threshold=None,\n",
              "              max_cat_to_onehot=None, max_delta_step=None, max_depth=4,\n",
              "              max_leaves=None, min_child_weight=None, missing=nan,\n",
              "              monotone_constraints=None, n_estimators=1000, n_jobs=None,\n",
              "              num_parallel_tree=None, predictor=None, ...)</pre></div></div></div></div></div>"
            ]
          },
          "metadata": {},
          "execution_count": 67
        }
      ]
    },
    {
      "cell_type": "code",
      "source": [
        "print('XGB: Train-accuracy: %.2f%%' % (100*modeloXGBemb.score(trainEmb, y_train)))\n",
        "print('XGB: Val-accuracy: %2.f%%' % (100*modeloXGBemb.score(valEmb, y_val)))"
      ],
      "metadata": {
        "colab": {
          "base_uri": "https://localhost:8080/"
        },
        "id": "ih_N7v4mMXFE",
        "outputId": "68c1f405-c938-42f0-d5cb-c59884c0e841"
      },
      "execution_count": 68,
      "outputs": [
        {
          "output_type": "stream",
          "name": "stdout",
          "text": [
            "XGB: Train-accuracy: 96.76%\n",
            "XGB: Val-accuracy: 73%\n"
          ]
        }
      ]
    },
    {
      "cell_type": "code",
      "source": [
        "print('Test-accuracy con el modelo XGBoost: %.2f%%' % (100*modeloXGBemb.score(testEmb, y_test))) \n",
        "\n",
        "# Realizamos predicciones en el conjunto de prueba utilizando el mejor modelo\n",
        "pred = modeloXGBemb.predict(testEmb)\n",
        "\n",
        "# Imprimimos la matriz de confusión utilizando el mejor modelo\n",
        "print('\\nMatriz de confusión con el modelo XGBoost:')\n",
        "print(confusion_matrix(y_test, pred, labels=[0,1]))\n",
        "\n",
        "# Imprimimos la matriz de confusión en proporciones utilizando el mejor modelo\n",
        "print('\\nMatriz de confusión con el modelo XGBoost en proporciones:')\n",
        "print(confusion_matrix(y_test, pred, labels=[0,1]) / pred.shape[0])"
      ],
      "metadata": {
        "colab": {
          "base_uri": "https://localhost:8080/"
        },
        "id": "KLrCoJgaLz_Q",
        "outputId": "ce6d2f1c-396e-474a-a78a-69a9822a13f5"
      },
      "execution_count": 69,
      "outputs": [
        {
          "output_type": "stream",
          "name": "stdout",
          "text": [
            "Test-accuracy con el modelo XGBoost: 80.00%\n",
            "\n",
            "Matriz de confusión con el modelo XGBoost:\n",
            "[[169  48]\n",
            " [ 42 191]]\n",
            "\n",
            "Matriz de confusión con el modelo XGBoost en proporciones:\n",
            "[[0.37555556 0.10666667]\n",
            " [0.09333333 0.42444444]]\n"
          ]
        }
      ]
    }
  ],
  "metadata": {
    "colab": {
      "provenance": [],
      "include_colab_link": true
    },
    "kernelspec": {
      "display_name": "Python 3",
      "language": "python",
      "name": "python3"
    },
    "language_info": {
      "codemirror_mode": {
        "name": "ipython",
        "version": 3
      },
      "file_extension": ".py",
      "mimetype": "text/x-python",
      "name": "python",
      "nbconvert_exporter": "python",
      "pygments_lexer": "ipython3",
      "version": "3.10.1"
    }
  },
  "nbformat": 4,
  "nbformat_minor": 0
}