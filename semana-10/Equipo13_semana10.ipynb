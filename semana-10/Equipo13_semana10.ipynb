{
  "nbformat": 4,
  "nbformat_minor": 0,
  "metadata": {
    "colab": {
      "provenance": [],
      "mount_file_id": "13IjpyTGVrXY1SmctbAH25lhSmoec5hX7",
      "authorship_tag": "ABX9TyPrFO2oSHXEN997GKHseGQD",
      "include_colab_link": true
    },
    "kernelspec": {
      "name": "python3",
      "display_name": "Python 3"
    },
    "language_info": {
      "name": "python"
    }
  },
  "cells": [
    {
      "cell_type": "markdown",
      "metadata": {
        "id": "view-in-github",
        "colab_type": "text"
      },
      "source": [
        "<a href=\"https://colab.research.google.com/github/ivnlee/tec-mna-nlp/blob/main/semana-10/Equipo13_semana10.ipynb\" target=\"_parent\"><img src=\"https://colab.research.google.com/assets/colab-badge.svg\" alt=\"Open In Colab\"/></a>"
      ]
    },
    {
      "cell_type": "markdown",
      "source": [
        "## Transformer GPT y Web-Scraping"
      ],
      "metadata": {
        "id": "jgxnm0bCUQJg"
      }
    },
    {
      "cell_type": "code",
      "execution_count": 49,
      "metadata": {
        "id": "QBc5XWR0pF69"
      },
      "outputs": [],
      "source": [
        "import requests\n",
        "from bs4 import BeautifulSoup as soup\n",
        "import pandas as pd"
      ]
    },
    {
      "cell_type": "code",
      "source": [
        "url = \"https://www.tripadvisor.es/Hotel_Review-g150782-d2366469-Reviews-IStay_Hotel_Monterrey_Historico-Monterrey_Northern_Mexico.html\"\n",
        "\n",
        "html = requests.get(url,\n",
        "                    headers={\"User-Agent\": \"Mozilla/5.0 (X11; CrOS x86_64 12871.102.0) AppleWebKit/537.36 (KHTML, like Gecko) Chrome/81.0.4044.141 Safari/537.36\"}\n",
        "                    )\n",
        "\n",
        "print(html.status_code)"
      ],
      "metadata": {
        "colab": {
          "base_uri": "https://localhost:8080/"
        },
        "id": "aKf6wlNypgON",
        "outputId": "88a8b9fe-cd48-4271-baf3-1ba91096d7f9"
      },
      "execution_count": 39,
      "outputs": [
        {
          "output_type": "stream",
          "name": "stdout",
          "text": [
            "200\n"
          ]
        }
      ]
    },
    {
      "cell_type": "code",
      "source": [
        "links = []\n",
        "\n",
        "max_or_num = 1960  # 1964 reseñas en español.\n",
        "\n",
        "reviews_x_pages = 5    # 5 reseñas por pagina\n",
        "\n",
        "for k in range(0, max_or_num, reviews_x_pages):\n",
        "  a = url\n",
        "  if k == 0:\n",
        "    ss = '{}'     # Para la primera página es el -or con valor vacío.\n",
        "  else:\n",
        "    ss = str(k)  # convertimos a string el valor numérico.\n",
        "  a = a[:(a.find('Reviews')+7)] + '-or' + ss + a[(a.find('Reviews')+7):]  # Los índices de \"Reviews\" van de 0 a 6, ya que tiene 7 letras.\n",
        "  links.append(a)\n",
        "\n",
        "# Imprimimos los primeros 10\n",
        "links[0:10]"
      ],
      "metadata": {
        "colab": {
          "base_uri": "https://localhost:8080/"
        },
        "id": "Gy4KRE7zqu8C",
        "outputId": "4813345d-b242-43c7-93cd-f3b11541c8a9"
      },
      "execution_count": 40,
      "outputs": [
        {
          "output_type": "execute_result",
          "data": {
            "text/plain": [
              "['https://www.tripadvisor.es/Hotel_Review-g150782-d2366469-Reviews-or{}-IStay_Hotel_Monterrey_Historico-Monterrey_Northern_Mexico.html',\n",
              " 'https://www.tripadvisor.es/Hotel_Review-g150782-d2366469-Reviews-or5-IStay_Hotel_Monterrey_Historico-Monterrey_Northern_Mexico.html',\n",
              " 'https://www.tripadvisor.es/Hotel_Review-g150782-d2366469-Reviews-or10-IStay_Hotel_Monterrey_Historico-Monterrey_Northern_Mexico.html',\n",
              " 'https://www.tripadvisor.es/Hotel_Review-g150782-d2366469-Reviews-or15-IStay_Hotel_Monterrey_Historico-Monterrey_Northern_Mexico.html',\n",
              " 'https://www.tripadvisor.es/Hotel_Review-g150782-d2366469-Reviews-or20-IStay_Hotel_Monterrey_Historico-Monterrey_Northern_Mexico.html',\n",
              " 'https://www.tripadvisor.es/Hotel_Review-g150782-d2366469-Reviews-or25-IStay_Hotel_Monterrey_Historico-Monterrey_Northern_Mexico.html',\n",
              " 'https://www.tripadvisor.es/Hotel_Review-g150782-d2366469-Reviews-or30-IStay_Hotel_Monterrey_Historico-Monterrey_Northern_Mexico.html',\n",
              " 'https://www.tripadvisor.es/Hotel_Review-g150782-d2366469-Reviews-or35-IStay_Hotel_Monterrey_Historico-Monterrey_Northern_Mexico.html',\n",
              " 'https://www.tripadvisor.es/Hotel_Review-g150782-d2366469-Reviews-or40-IStay_Hotel_Monterrey_Historico-Monterrey_Northern_Mexico.html',\n",
              " 'https://www.tripadvisor.es/Hotel_Review-g150782-d2366469-Reviews-or45-IStay_Hotel_Monterrey_Historico-Monterrey_Northern_Mexico.html']"
            ]
          },
          "metadata": {},
          "execution_count": 40
        }
      ]
    },
    {
      "cell_type": "code",
      "source": [
        "from random import randint\n",
        "from time import sleep\n",
        "import re"
      ],
      "metadata": {
        "id": "PeOHmmGvtcQ7"
      },
      "execution_count": 41,
      "outputs": []
    },
    {
      "cell_type": "code",
      "source": [
        "reviews = []\n",
        "stars = []\n",
        "\n",
        "numpages = int( max_or_num / reviews_x_pages )\n",
        "\n",
        "for link in links[0:numpages]:\n",
        "\n",
        "  headers = {'User-Agent':'Mozilla/5.0 (Windows NT 10.0; WOW64) AppleWebKit/537.36 (KHTML, like Gecko) Chrome/83.0.4103.97 Safari/537.36' }\n",
        "  html2 = requests.get(link, headers=headers)\n",
        "\n",
        "  sleep(randint(1,5))\n",
        "\n",
        "  # objeto de la librería BeautifulSoup para llevar a cabo nuestra tarea\n",
        "  bsobj2 = soup(html2.content,'lxml')\n",
        "\n",
        "  for review in bsobj2.findAll('span', {'class' : 'QewHA'}):\n",
        "      reviews.append(review.text.strip())\n",
        "\n",
        "  sleep(randint(1,5))\n",
        "  bsobj3 = soup(html2.content,'lxml')\n",
        "\n",
        "  # Extraigamos también las calificaciones (estrellas):\n",
        "  for cal in bsobj3.findAll('div', {'class' : 'Hlmiy'}):\n",
        "    # Extraemos solo la calificacion (en este caso: 10, 20, 30, 40 o 50)\n",
        "    cal = re.findall(r'\\d{2}', ' '.join(str(x) for x in cal))\n",
        "\n",
        "    stars.append(cal)"
      ],
      "metadata": {
        "id": "DK6dRmaPwtuD"
      },
      "execution_count": 44,
      "outputs": []
    },
    {
      "cell_type": "code",
      "source": [
        "for i in range(3):\n",
        "   print(reviews[i])\n",
        "   print(stars[i])"
      ],
      "metadata": {
        "colab": {
          "base_uri": "https://localhost:8080/"
        },
        "id": "ywbvE_39hUu7",
        "outputId": "7100414d-6514-48e0-f8c7-60743ce88f93"
      },
      "execution_count": 48,
      "outputs": [
        {
          "output_type": "stream",
          "name": "stdout",
          "text": [
            "Estuve en el IStay Monterrey para el festival P´al Norte, la habitación durante esos días estaba en casi 5000 pesos la noche, por lo que se esperaría al menos un lugar digno para descansar. El lobby no tiene buen aspecto y el acceso es por un estacionamiento, la alfombra del piso del piso en el que estaba mi habitación por alguna razón se inundó y apestaba desde la  escalera hasta el cuarto a humedad terrible.  Los colchones de las camas están aguados y terribles y las sábanas se sienten viejas.  Las almohadas delgadas e  incómodas. Al baño le hace falta mantenimiento, pero estaba limpio.  El personal del lobby muy amable y ágil, excelente servicio ahí.  La ubicación es buena, pues está muy conectado y en el centro de la ciudad. sin embargo la calle lateral se percibe insegura.\n",
            "['20']\n",
            "Las habitaciones están algo descuidadas, no como muestra en la foto donde se ven mejor. La lámpara del techo estaba sucia y con muchos insectos muertos. El sistema de salida de agua de la regadera-tina deja salir mucha agua por la llave inferior, entonces hay que abrirle más a la llave para que salga con presión la regadera pero se tira agua a los lados de la tina.  De los dos elevadores solo sirve uno y fue insuficiente para toda la gente que había, por lo que a veces debes tomar las escaleras, pero están muy sucias y descuidadas.  Por lo que vale la pena el hotel es por su ubicación en el centro. Puedes ir caminando hasta macroplaza y el embarcadero de Paseo santa Lucía.\n",
            "['30']\n",
            "le falta mucho mantenimiento ya es un hotel viejo y sin renovarse, la reepcion deja mucho que desear los que usan el salon de eventos se acaparan toda la recepcion que se supone es para los huespedes y vuelvo a lo mismo mantenimiento les falta.\n",
            "['20']\n"
          ]
        }
      ]
    },
    {
      "cell_type": "code",
      "source": [
        "print(len(reviews), len(stars))"
      ],
      "metadata": {
        "colab": {
          "base_uri": "https://localhost:8080/"
        },
        "id": "jMVmzMQfQEtY",
        "outputId": "996629ef-3bf8-4c69-bf2a-f38d4616fe92"
      },
      "execution_count": 45,
      "outputs": [
        {
          "output_type": "stream",
          "name": "stdout",
          "text": [
            "1960 1960\n"
          ]
        }
      ]
    },
    {
      "cell_type": "code",
      "source": [
        "df_review = pd.DataFrame(reviews, columns=['review'])\n",
        "df_stars = pd.DataFrame(stars, columns=['stars'])\n",
        "\n",
        "df = pd.concat([df_review, df_stars], axis=1)\n",
        "df.head()"
      ],
      "metadata": {
        "colab": {
          "base_uri": "https://localhost:8080/",
          "height": 206
        },
        "id": "4GYfErSYiZ_9",
        "outputId": "673dc1e0-c11c-4398-fcab-7744d89eaffe"
      },
      "execution_count": 93,
      "outputs": [
        {
          "output_type": "execute_result",
          "data": {
            "text/plain": [
              "                                              review stars\n",
              "0  Estuve en el IStay Monterrey para el festival ...    20\n",
              "1  Las habitaciones están algo descuidadas, no co...    30\n",
              "2  le falta mucho mantenimiento ya es un hotel vi...    20\n",
              "3  Hice la reservación pero no me quedé ya que en...    30\n",
              "4  Un hotel muy limpio, seguro y tranquilo además...    50"
            ],
            "text/html": [
              "\n",
              "  <div id=\"df-cf2a8d81-170d-4515-84fe-246be8367bbe\">\n",
              "    <div class=\"colab-df-container\">\n",
              "      <div>\n",
              "<style scoped>\n",
              "    .dataframe tbody tr th:only-of-type {\n",
              "        vertical-align: middle;\n",
              "    }\n",
              "\n",
              "    .dataframe tbody tr th {\n",
              "        vertical-align: top;\n",
              "    }\n",
              "\n",
              "    .dataframe thead th {\n",
              "        text-align: right;\n",
              "    }\n",
              "</style>\n",
              "<table border=\"1\" class=\"dataframe\">\n",
              "  <thead>\n",
              "    <tr style=\"text-align: right;\">\n",
              "      <th></th>\n",
              "      <th>review</th>\n",
              "      <th>stars</th>\n",
              "    </tr>\n",
              "  </thead>\n",
              "  <tbody>\n",
              "    <tr>\n",
              "      <th>0</th>\n",
              "      <td>Estuve en el IStay Monterrey para el festival ...</td>\n",
              "      <td>20</td>\n",
              "    </tr>\n",
              "    <tr>\n",
              "      <th>1</th>\n",
              "      <td>Las habitaciones están algo descuidadas, no co...</td>\n",
              "      <td>30</td>\n",
              "    </tr>\n",
              "    <tr>\n",
              "      <th>2</th>\n",
              "      <td>le falta mucho mantenimiento ya es un hotel vi...</td>\n",
              "      <td>20</td>\n",
              "    </tr>\n",
              "    <tr>\n",
              "      <th>3</th>\n",
              "      <td>Hice la reservación pero no me quedé ya que en...</td>\n",
              "      <td>30</td>\n",
              "    </tr>\n",
              "    <tr>\n",
              "      <th>4</th>\n",
              "      <td>Un hotel muy limpio, seguro y tranquilo además...</td>\n",
              "      <td>50</td>\n",
              "    </tr>\n",
              "  </tbody>\n",
              "</table>\n",
              "</div>\n",
              "      <button class=\"colab-df-convert\" onclick=\"convertToInteractive('df-cf2a8d81-170d-4515-84fe-246be8367bbe')\"\n",
              "              title=\"Convert this dataframe to an interactive table.\"\n",
              "              style=\"display:none;\">\n",
              "        \n",
              "  <svg xmlns=\"http://www.w3.org/2000/svg\" height=\"24px\"viewBox=\"0 0 24 24\"\n",
              "       width=\"24px\">\n",
              "    <path d=\"M0 0h24v24H0V0z\" fill=\"none\"/>\n",
              "    <path d=\"M18.56 5.44l.94 2.06.94-2.06 2.06-.94-2.06-.94-.94-2.06-.94 2.06-2.06.94zm-11 1L8.5 8.5l.94-2.06 2.06-.94-2.06-.94L8.5 2.5l-.94 2.06-2.06.94zm10 10l.94 2.06.94-2.06 2.06-.94-2.06-.94-.94-2.06-.94 2.06-2.06.94z\"/><path d=\"M17.41 7.96l-1.37-1.37c-.4-.4-.92-.59-1.43-.59-.52 0-1.04.2-1.43.59L10.3 9.45l-7.72 7.72c-.78.78-.78 2.05 0 2.83L4 21.41c.39.39.9.59 1.41.59.51 0 1.02-.2 1.41-.59l7.78-7.78 2.81-2.81c.8-.78.8-2.07 0-2.86zM5.41 20L4 18.59l7.72-7.72 1.47 1.35L5.41 20z\"/>\n",
              "  </svg>\n",
              "      </button>\n",
              "      \n",
              "  <style>\n",
              "    .colab-df-container {\n",
              "      display:flex;\n",
              "      flex-wrap:wrap;\n",
              "      gap: 12px;\n",
              "    }\n",
              "\n",
              "    .colab-df-convert {\n",
              "      background-color: #E8F0FE;\n",
              "      border: none;\n",
              "      border-radius: 50%;\n",
              "      cursor: pointer;\n",
              "      display: none;\n",
              "      fill: #1967D2;\n",
              "      height: 32px;\n",
              "      padding: 0 0 0 0;\n",
              "      width: 32px;\n",
              "    }\n",
              "\n",
              "    .colab-df-convert:hover {\n",
              "      background-color: #E2EBFA;\n",
              "      box-shadow: 0px 1px 2px rgba(60, 64, 67, 0.3), 0px 1px 3px 1px rgba(60, 64, 67, 0.15);\n",
              "      fill: #174EA6;\n",
              "    }\n",
              "\n",
              "    [theme=dark] .colab-df-convert {\n",
              "      background-color: #3B4455;\n",
              "      fill: #D2E3FC;\n",
              "    }\n",
              "\n",
              "    [theme=dark] .colab-df-convert:hover {\n",
              "      background-color: #434B5C;\n",
              "      box-shadow: 0px 1px 3px 1px rgba(0, 0, 0, 0.15);\n",
              "      filter: drop-shadow(0px 1px 2px rgba(0, 0, 0, 0.3));\n",
              "      fill: #FFFFFF;\n",
              "    }\n",
              "  </style>\n",
              "\n",
              "      <script>\n",
              "        const buttonEl =\n",
              "          document.querySelector('#df-cf2a8d81-170d-4515-84fe-246be8367bbe button.colab-df-convert');\n",
              "        buttonEl.style.display =\n",
              "          google.colab.kernel.accessAllowed ? 'block' : 'none';\n",
              "\n",
              "        async function convertToInteractive(key) {\n",
              "          const element = document.querySelector('#df-cf2a8d81-170d-4515-84fe-246be8367bbe');\n",
              "          const dataTable =\n",
              "            await google.colab.kernel.invokeFunction('convertToInteractive',\n",
              "                                                     [key], {});\n",
              "          if (!dataTable) return;\n",
              "\n",
              "          const docLinkHtml = 'Like what you see? Visit the ' +\n",
              "            '<a target=\"_blank\" href=https://colab.research.google.com/notebooks/data_table.ipynb>data table notebook</a>'\n",
              "            + ' to learn more about interactive tables.';\n",
              "          element.innerHTML = '';\n",
              "          dataTable['output_type'] = 'display_data';\n",
              "          await google.colab.output.renderOutput(dataTable, element);\n",
              "          const docLink = document.createElement('div');\n",
              "          docLink.innerHTML = docLinkHtml;\n",
              "          element.appendChild(docLink);\n",
              "        }\n",
              "      </script>\n",
              "    </div>\n",
              "  </div>\n",
              "  "
            ]
          },
          "metadata": {},
          "execution_count": 93
        }
      ]
    },
    {
      "cell_type": "markdown",
      "source": [
        "### Convertimos a clase binaria:\n",
        "* **0 = Negativo**\n",
        "\n",
        "* **1 = Positivo**"
      ],
      "metadata": {
        "id": "FlfDt8GPu4KK"
      }
    },
    {
      "cell_type": "code",
      "source": [
        "for i in range(len(df['stars'])):\n",
        "  if int(df['stars'][i]) >= 40:\n",
        "    df['stars'][i] = 1\n",
        "  else:\n",
        "    df['stars'][i] = 0\n",
        "\n",
        "df.head()"
      ],
      "metadata": {
        "colab": {
          "base_uri": "https://localhost:8080/",
          "height": 206
        },
        "id": "66GerDROrN1k",
        "outputId": "99a72a91-fd0d-4ad9-c694-e8732a8066bb"
      },
      "execution_count": 94,
      "outputs": [
        {
          "output_type": "execute_result",
          "data": {
            "text/plain": [
              "                                              review stars\n",
              "0  Estuve en el IStay Monterrey para el festival ...     0\n",
              "1  Las habitaciones están algo descuidadas, no co...     0\n",
              "2  le falta mucho mantenimiento ya es un hotel vi...     0\n",
              "3  Hice la reservación pero no me quedé ya que en...     0\n",
              "4  Un hotel muy limpio, seguro y tranquilo además...     1"
            ],
            "text/html": [
              "\n",
              "  <div id=\"df-11f59ea3-4c6d-4052-be57-b3e82ee4f9ac\">\n",
              "    <div class=\"colab-df-container\">\n",
              "      <div>\n",
              "<style scoped>\n",
              "    .dataframe tbody tr th:only-of-type {\n",
              "        vertical-align: middle;\n",
              "    }\n",
              "\n",
              "    .dataframe tbody tr th {\n",
              "        vertical-align: top;\n",
              "    }\n",
              "\n",
              "    .dataframe thead th {\n",
              "        text-align: right;\n",
              "    }\n",
              "</style>\n",
              "<table border=\"1\" class=\"dataframe\">\n",
              "  <thead>\n",
              "    <tr style=\"text-align: right;\">\n",
              "      <th></th>\n",
              "      <th>review</th>\n",
              "      <th>stars</th>\n",
              "    </tr>\n",
              "  </thead>\n",
              "  <tbody>\n",
              "    <tr>\n",
              "      <th>0</th>\n",
              "      <td>Estuve en el IStay Monterrey para el festival ...</td>\n",
              "      <td>0</td>\n",
              "    </tr>\n",
              "    <tr>\n",
              "      <th>1</th>\n",
              "      <td>Las habitaciones están algo descuidadas, no co...</td>\n",
              "      <td>0</td>\n",
              "    </tr>\n",
              "    <tr>\n",
              "      <th>2</th>\n",
              "      <td>le falta mucho mantenimiento ya es un hotel vi...</td>\n",
              "      <td>0</td>\n",
              "    </tr>\n",
              "    <tr>\n",
              "      <th>3</th>\n",
              "      <td>Hice la reservación pero no me quedé ya que en...</td>\n",
              "      <td>0</td>\n",
              "    </tr>\n",
              "    <tr>\n",
              "      <th>4</th>\n",
              "      <td>Un hotel muy limpio, seguro y tranquilo además...</td>\n",
              "      <td>1</td>\n",
              "    </tr>\n",
              "  </tbody>\n",
              "</table>\n",
              "</div>\n",
              "      <button class=\"colab-df-convert\" onclick=\"convertToInteractive('df-11f59ea3-4c6d-4052-be57-b3e82ee4f9ac')\"\n",
              "              title=\"Convert this dataframe to an interactive table.\"\n",
              "              style=\"display:none;\">\n",
              "        \n",
              "  <svg xmlns=\"http://www.w3.org/2000/svg\" height=\"24px\"viewBox=\"0 0 24 24\"\n",
              "       width=\"24px\">\n",
              "    <path d=\"M0 0h24v24H0V0z\" fill=\"none\"/>\n",
              "    <path d=\"M18.56 5.44l.94 2.06.94-2.06 2.06-.94-2.06-.94-.94-2.06-.94 2.06-2.06.94zm-11 1L8.5 8.5l.94-2.06 2.06-.94-2.06-.94L8.5 2.5l-.94 2.06-2.06.94zm10 10l.94 2.06.94-2.06 2.06-.94-2.06-.94-.94-2.06-.94 2.06-2.06.94z\"/><path d=\"M17.41 7.96l-1.37-1.37c-.4-.4-.92-.59-1.43-.59-.52 0-1.04.2-1.43.59L10.3 9.45l-7.72 7.72c-.78.78-.78 2.05 0 2.83L4 21.41c.39.39.9.59 1.41.59.51 0 1.02-.2 1.41-.59l7.78-7.78 2.81-2.81c.8-.78.8-2.07 0-2.86zM5.41 20L4 18.59l7.72-7.72 1.47 1.35L5.41 20z\"/>\n",
              "  </svg>\n",
              "      </button>\n",
              "      \n",
              "  <style>\n",
              "    .colab-df-container {\n",
              "      display:flex;\n",
              "      flex-wrap:wrap;\n",
              "      gap: 12px;\n",
              "    }\n",
              "\n",
              "    .colab-df-convert {\n",
              "      background-color: #E8F0FE;\n",
              "      border: none;\n",
              "      border-radius: 50%;\n",
              "      cursor: pointer;\n",
              "      display: none;\n",
              "      fill: #1967D2;\n",
              "      height: 32px;\n",
              "      padding: 0 0 0 0;\n",
              "      width: 32px;\n",
              "    }\n",
              "\n",
              "    .colab-df-convert:hover {\n",
              "      background-color: #E2EBFA;\n",
              "      box-shadow: 0px 1px 2px rgba(60, 64, 67, 0.3), 0px 1px 3px 1px rgba(60, 64, 67, 0.15);\n",
              "      fill: #174EA6;\n",
              "    }\n",
              "\n",
              "    [theme=dark] .colab-df-convert {\n",
              "      background-color: #3B4455;\n",
              "      fill: #D2E3FC;\n",
              "    }\n",
              "\n",
              "    [theme=dark] .colab-df-convert:hover {\n",
              "      background-color: #434B5C;\n",
              "      box-shadow: 0px 1px 3px 1px rgba(0, 0, 0, 0.15);\n",
              "      filter: drop-shadow(0px 1px 2px rgba(0, 0, 0, 0.3));\n",
              "      fill: #FFFFFF;\n",
              "    }\n",
              "  </style>\n",
              "\n",
              "      <script>\n",
              "        const buttonEl =\n",
              "          document.querySelector('#df-11f59ea3-4c6d-4052-be57-b3e82ee4f9ac button.colab-df-convert');\n",
              "        buttonEl.style.display =\n",
              "          google.colab.kernel.accessAllowed ? 'block' : 'none';\n",
              "\n",
              "        async function convertToInteractive(key) {\n",
              "          const element = document.querySelector('#df-11f59ea3-4c6d-4052-be57-b3e82ee4f9ac');\n",
              "          const dataTable =\n",
              "            await google.colab.kernel.invokeFunction('convertToInteractive',\n",
              "                                                     [key], {});\n",
              "          if (!dataTable) return;\n",
              "\n",
              "          const docLinkHtml = 'Like what you see? Visit the ' +\n",
              "            '<a target=\"_blank\" href=https://colab.research.google.com/notebooks/data_table.ipynb>data table notebook</a>'\n",
              "            + ' to learn more about interactive tables.';\n",
              "          element.innerHTML = '';\n",
              "          dataTable['output_type'] = 'display_data';\n",
              "          await google.colab.output.renderOutput(dataTable, element);\n",
              "          const docLink = document.createElement('div');\n",
              "          docLink.innerHTML = docLinkHtml;\n",
              "          element.appendChild(docLink);\n",
              "        }\n",
              "      </script>\n",
              "    </div>\n",
              "  </div>\n",
              "  "
            ]
          },
          "metadata": {},
          "execution_count": 94
        }
      ]
    },
    {
      "cell_type": "code",
      "source": [
        "df.info()"
      ],
      "metadata": {
        "colab": {
          "base_uri": "https://localhost:8080/"
        },
        "id": "btwCOTlVwbn7",
        "outputId": "c2cf313f-b01d-4eef-ff6a-816acc7de301"
      },
      "execution_count": 96,
      "outputs": [
        {
          "output_type": "stream",
          "name": "stdout",
          "text": [
            "<class 'pandas.core.frame.DataFrame'>\n",
            "RangeIndex: 1960 entries, 0 to 1959\n",
            "Data columns (total 2 columns):\n",
            " #   Column  Non-Null Count  Dtype \n",
            "---  ------  --------------  ----- \n",
            " 0   review  1960 non-null   object\n",
            " 1   stars   1960 non-null   object\n",
            "dtypes: object(2)\n",
            "memory usage: 30.8+ KB\n"
          ]
        }
      ]
    },
    {
      "cell_type": "code",
      "source": [
        "# Guardamos dtaframe como CSV para utilizarlo posteriormente\n",
        "df.to_csv('/content/drive/MyDrive/NLP/semana-10/tripadvisor_istay_mty.csv')"
      ],
      "metadata": {
        "id": "H0szEicuvm7n"
      },
      "execution_count": 95,
      "outputs": []
    }
  ]
}