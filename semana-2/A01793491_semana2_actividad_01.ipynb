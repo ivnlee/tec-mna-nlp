{
  "cells": [
    {
      "attachments": {},
      "cell_type": "markdown",
      "metadata": {
        "id": "759SG4TyfbUn"
      },
      "source": [
        "# **Maestría en Inteligencia Artificial Aplicada**\n",
        "## **Curso: Procesamiento de Lenguaje Natural (NLP)**\n",
        "### Tecnológico de Monterrey\n",
        "### Prof Luis Eduardo Falcón Morales\n",
        "_ _ _\n",
        "### Iván Lee Cancino\n",
        "### A01793491\n",
        "_ _ _ \n",
        "## **Adtividad de la Semana 02**\n",
        "### **Introducción al procesamiento de texto.**"
      ]
    },
    {
      "attachments": {},
      "cell_type": "markdown",
      "metadata": {
        "id": "6ue1YAKx3XDo"
      },
      "source": [
        "En esta actividad deberás utilizar los datos del siguiente archivo que se encuentra en Canvas:\n",
        "\n",
        "MNA_NLP_semana_02_Actividad_datos.txt\n",
        "\n",
        "El archivo contiene comentarios en inglés sobre servicios de comida de la página de Yelp: https://www.yelp.com/ . \n",
        "\n",
        "Son mil comentarios y forman parte del conjunto de datos que se encuentra en el Machine Learning Repository de la UCI, llamado \"Sentiment Labelled Sentences\": https://archive.ics.uci.edu/ml/datasets/Sentiment+Labelled+Sentences#\n"
      ]
    },
    {
      "attachments": {},
      "cell_type": "markdown",
      "metadata": {
        "id": "Zj-h4drXD-X9"
      },
      "source": [
        "# **Parte 1. Cargamos los datos.**   "
      ]
    },
    {
      "attachments": {},
      "cell_type": "markdown",
      "metadata": {
        "id": "BY6yifxscfrx"
      },
      "source": [
        "Cargar los datos del archivo indicado y obtener una lista de longitud de 1000 strings/comentarios. \n",
        "\n",
        "Por el momento solamente requerimos las bibliotecas de Numpy y re, para el manejo de los arreglos y de las expresiones regulares en Python.\n",
        "\n",
        "En particular, no necesitarás en esta actividad la biblioteca de Pandas.\n",
        "\n",
        "### **NOTA: En esta actividad no debes importar nada más, con estas dos bibliotecas será *suficiente*.**"
      ]
    },
    {
      "cell_type": "code",
      "execution_count": 1,
      "metadata": {
        "id": "OJ26dAfhdFnf"
      },
      "outputs": [],
      "source": [
        "import numpy as np    # importamos Numpy para el manejo de los arreglos.\n",
        "import re             # importamos re para el manejo de las expresiones regulares."
      ]
    },
    {
      "cell_type": "code",
      "execution_count": 2,
      "metadata": {
        "id": "QHUmJyjDdGNP"
      },
      "outputs": [],
      "source": [
        "# Ejecuta las siguientes instrucciones para cargar la información del achivo dado:\n",
        "\n",
        "with open('MNA_NLP_semana_02_Actividad_datos.txt',        # puedes actualizar la ruta a tu archivo, en dado caso.\n",
        "          mode='r',     # abrimos el archivo en modo lectura.\n",
        "          ) as f:\n",
        "    docs = f.readlines()    # separamos cada comentario por líneas\n",
        "\n",
        "f.close()  # ya que tenemos la información en la variable docs, cerramos el archivo"
      ]
    },
    {
      "cell_type": "code",
      "execution_count": 3,
      "metadata": {
        "id": "L6WzrSrodG-Y"
      },
      "outputs": [
        {
          "data": {
            "text/plain": [
              "True"
            ]
          },
          "execution_count": 3,
          "metadata": {},
          "output_type": "execute_result"
        }
      ],
      "source": [
        "type(docs) == list   # Verifica que tu variable \"docs\" es una lista"
      ]
    },
    {
      "cell_type": "code",
      "execution_count": 4,
      "metadata": {
        "id": "QIK1u9WS2FtS"
      },
      "outputs": [
        {
          "data": {
            "text/plain": [
              "True"
            ]
          },
          "execution_count": 4,
          "metadata": {},
          "output_type": "execute_result"
        }
      ],
      "source": [
        "len(docs)==1000  # verifica que la longitud de \"docs\" es de mil comentarios."
      ]
    },
    {
      "cell_type": "code",
      "execution_count": 5,
      "metadata": {
        "id": "9AMLIfQvJqNZ"
      },
      "outputs": [
        {
          "data": {
            "text/plain": [
              "['Wow... Loved this place.\\n',\n",
              " 'Crust is not good.\\n',\n",
              " 'Not tasty and the texture was just nasty.\\n',\n",
              " 'Stopped by during the late May bank holiday off Rick Steve recommendation and loved it.\\n',\n",
              " 'The selection on the menu was great and so were the prices.\\n',\n",
              " 'Now I am getting angry and I want my damn pho.\\n',\n",
              " \"Honeslty it didn't taste THAT fresh.)\\n\",\n",
              " 'The potatoes were like rubber and you could tell they had been made up ahead of time being kept under a warmer.\\n',\n",
              " 'The fries were great too.\\n',\n",
              " 'A great touch.\\n']"
            ]
          },
          "execution_count": 5,
          "metadata": {},
          "output_type": "execute_result"
        }
      ],
      "source": [
        "docs[0:10]     # observa algunos de los primeros comentarios"
      ]
    },
    {
      "attachments": {},
      "cell_type": "markdown",
      "metadata": {
        "id": "k_ewoagic5jc"
      },
      "source": [
        "# **Parte 2: sección de preguntas (regex).**   \n"
      ]
    },
    {
      "attachments": {},
      "cell_type": "markdown",
      "metadata": {
        "id": "X-eMJa3DFCIV"
      },
      "source": [
        "## **Instrucciones:**\n",
        "\n",
        "### **A continuación deberás contestar cada una de las preguntas que te piden usando expresiones regulares (regex).**\n",
        "\n",
        "### **Por el momento no hay restricción en cuanto al número de líneas de código que agregues, pero trata de incluir las mínimas posibles.**"
      ]
    },
    {
      "attachments": {},
      "cell_type": "markdown",
      "metadata": {
        "id": "78nJMemzn5a5"
      },
      "source": [
        "*   **Pregunta 1.** \n",
        "\n",
        "Busca y elimina todos los saltos de línea '\\n' que se encuentran al final de cada comentario. \n",
        "\n",
        "Una vez finalizado, imprime los primeros 10 comentarios del resultado obtenido.\n"
      ]
    },
    {
      "cell_type": "code",
      "execution_count": 6,
      "metadata": {
        "id": "PwbYYIuZn8pE"
      },
      "outputs": [
        {
          "data": {
            "text/plain": [
              "['Wow... Loved this place.',\n",
              " 'Crust is not good.',\n",
              " 'Not tasty and the texture was just nasty.',\n",
              " 'Stopped by during the late May bank holiday off Rick Steve recommendation and loved it.',\n",
              " 'The selection on the menu was great and so were the prices.',\n",
              " 'Now I am getting angry and I want my damn pho.',\n",
              " \"Honeslty it didn't taste THAT fresh.)\",\n",
              " 'The potatoes were like rubber and you could tell they had been made up ahead of time being kept under a warmer.',\n",
              " 'The fries were great too.',\n",
              " 'A great touch.']"
            ]
          },
          "execution_count": 6,
          "metadata": {},
          "output_type": "execute_result"
        }
      ],
      "source": [
        "a1 = [re.sub(r'[\\n]', '', doc) for doc in docs]  \n",
        "a1[0:10]"
      ]
    },
    {
      "attachments": {},
      "cell_type": "markdown",
      "metadata": {
        "id": "VWeKQC93ctEo"
      },
      "source": [
        "*   **Pregunta 2.**  \n",
        "\n",
        "Busca e imprime todas las palabras que terminan con dos o más signos de admiración seguidos, por ejemplo \"!!!\". \n",
        "\n",
        "Debes imprimir tanto la palabra como la totalidad de signos de admiración que le siguen. \n",
        "\n",
        "Indica cuántos resultados obtuviste.\n",
        "\n"
      ]
    },
    {
      "cell_type": "code",
      "execution_count": 7,
      "metadata": {
        "id": "SPVM1MCWdH6Z"
      },
      "outputs": [
        {
          "name": "stdout",
          "output_type": "stream",
          "text": [
            "['Firehouse!!!!!', 'APPETIZERS!!!', 'amazing!!!', 'buffet!!!', 'good!!', 'it!!!!', 'DELICIOUS!!', 'amazing!!', 'shawarrrrrrma!!!!!!', 'yucky!!!', 'steak!!!!!', 'delicious!!!', 'far!!', 'biscuits!!!', 'dry!!', 'disappointing!!!', 'awesome!!', 'Up!!', 'FLY!!!!!!!!', 'here!!!', 'great!!!!!!!!!!!!!!', 'packed!!', 'otherwise!!', 'amazing!!!!!!!!!!!!!!!!!!!', 'style!!', 'disappointed!!']\n",
            "Total de resultados:  26\n"
          ]
        }
      ],
      "source": [
        "a2 = re.findall(r'\\w+[.]*!!+', ''.join(docs))\n",
        "\n",
        "print(a2)\n",
        "print('Total de resultados: ', len(a2))"
      ]
    },
    {
      "attachments": {},
      "cell_type": "markdown",
      "metadata": {
        "id": "-s3okBqL96TT"
      },
      "source": [
        "*   **Pregunta 3.**  \n",
        "\n",
        "Busca e imprime todas las palabras que están escritas totalmente en mayúsculas. Cada coincidencia debe ser una sola palabra.\n",
        "\n",
        "Indica cuántas palabras encontraste.\n",
        "\n"
      ]
    },
    {
      "cell_type": "code",
      "execution_count": 25,
      "metadata": {
        "id": "yKHJkZKo_nW5"
      },
      "outputs": [
        {
          "name": "stdout",
          "output_type": "stream",
          "text": [
            "['THAT', 'APPETIZERS', 'WILL', 'NEVER', 'EVER', 'STEP', 'FORWARD', 'IN', 'IT', 'AGAIN', 'LOVED', 'AND', 'REAL', 'BITCHES', 'NYC', 'STALE', 'DELICIOUS', 'WORST', 'EXPERIENCE', 'EVER', 'ALL', 'BARGAIN', 'TV', 'NONE', 'FREEZING', 'AYCE', 'FLAVOR', 'NEVER', 'BBQ', 'UNREAL', 'OMG', 'BETTER', 'BLAND', 'RUDE', 'INCONSIDERATE', 'MANAGEMENT', 'WILL', 'NEVER', 'EVER', 'GO', 'BACK', 'AND', 'HAVE', 'TOLD', 'MANY', 'PEOPLE', 'WHAT', 'HAD', 'HAPPENED', 'TOTAL', 'WASTE', 'OF', 'TIME', 'FS', 'AZ', 'LOVED', 'CONCLUSION', 'BEST', 'GO', 'NOW', 'GC', 'AVOID', 'THIS', 'ESTABLISHMENT', 'AN', 'HOUR', 'NASTY', 'OMG', 'NO', 'BEST', 'THE', 'OWNERS', 'REALLY', 'REALLY', 'PERFECT', 'SCREAMS', 'LEGIT', 'MGM', 'BEST', 'FLY', 'FLY', 'FANTASTIC', 'GREAT', 'OK', 'WAY', 'MUST', 'HAVE', 'OK', 'OVERPRICED', 'BARE', 'HANDS', 'WEAK', 'SHOULD', 'RI', 'WAAAAAA', 'VERY', 'NOT']\n",
            "Total de palabras:  97\n"
          ]
        }
      ],
      "source": [
        "a3 = re.findall(r'\\b[A-Z]{2,}', ''.join(docs))\n",
        "\n",
        "print(a3)\n",
        "print('Total de palabras: ', len(a3))"
      ]
    },
    {
      "attachments": {},
      "cell_type": "markdown",
      "metadata": {},
      "source": [
        "**Nota:** Aunque 'I' y 'A' son palabras en inglés, no se consideraron como tal en esta pregunta."
      ]
    },
    {
      "attachments": {},
      "cell_type": "markdown",
      "metadata": {
        "id": "GX8eYyDoMZma"
      },
      "source": [
        "*   **Pregunta 4.**  \n",
        "\n",
        "Busca e imprime los comentarios en donde todos los caracteres alfabéticos (letras) están en mayúsculas. \n",
        "\n",
        "Cada coincidencia encontrada debe ser todo el comentario/enunciado.\n",
        "\n",
        "Indica cuántos resultados obtuviste.\n"
      ]
    },
    {
      "cell_type": "code",
      "execution_count": 9,
      "metadata": {
        "id": "K8VuZxvTMYj6"
      },
      "outputs": [
        {
          "name": "stdout",
          "output_type": "stream",
          "text": [
            "['DELICIOUS!!\\n', 'RUDE & INCONSIDERATE MANAGEMENT.\\n', 'WILL NEVER EVER GO BACK AND HAVE TOLD MANY PEOPLE WHAT HAD HAPPENED.\\n', 'TOTAL WASTE OF TIME.\\n', 'AVOID THIS ESTABLISHMENT!\\n']\n",
            "Total de comentarios:  5\n"
          ]
        }
      ],
      "source": [
        "a4 = [elem for elem in docs if re.match(r'^[A-Z\\s.\\W*]+\\s$', elem)]\n",
        "\n",
        "print(a4)\n",
        "print('Total de comentarios: ', len(a4))"
      ]
    },
    {
      "attachments": {},
      "cell_type": "markdown",
      "metadata": {
        "id": "a1i6qv7-McmU"
      },
      "source": [
        "*   **Pregunta 5.**  \n",
        "\n",
        "Busca e imprime todas las palabras que tengan una vocal acentuada, del tipo á, é, í, ó, ú. \n",
        "\n",
        "Indica cuántos resultados obtuviste."
      ]
    },
    {
      "cell_type": "code",
      "execution_count": 10,
      "metadata": {
        "id": "nZZ5zKUOMeGD"
      },
      "outputs": [
        {
          "name": "stdout",
          "output_type": "stream",
          "text": [
            "['fiancé', 'Café', 'puréed']\n",
            "Total de palabras:  3\n"
          ]
        }
      ],
      "source": [
        "a5 = re.findall(r'\\w*[áéíóú]+\\w*', ''.join(docs)) \n",
        "\n",
        "print(a5)\n",
        "print('Total de palabras: ', len(a5))"
      ]
    },
    {
      "attachments": {},
      "cell_type": "markdown",
      "metadata": {
        "id": "ZmPiAI82Mfb3"
      },
      "source": [
        "*   **Pregunta 6.**  \n",
        "\n",
        "Busca e imprime todas las cantidades numéricas monetarias, enteras o con decimales, que inician con el símbolo $\\$$. \n",
        "\n",
        "Indica cuántos resultados obtuviste."
      ]
    },
    {
      "cell_type": "code",
      "execution_count": 11,
      "metadata": {
        "id": "6vhe9-Y-MhL9"
      },
      "outputs": [
        {
          "name": "stdout",
          "output_type": "stream",
          "text": [
            "['$20', '$4.00', '$17', '$3', '$35', '$7.85', '$12', '$11.99']\n",
            "Total de resultados:  8\n"
          ]
        }
      ],
      "source": [
        "a6 = re.findall(r'[$]\\d+[.]*\\d*', ''.join(docs))\n",
        "\n",
        "print(a6)\n",
        "print('Total de resultados: ', len(a6))"
      ]
    },
    {
      "attachments": {},
      "cell_type": "markdown",
      "metadata": {
        "id": "2j-HpvhwMhq2"
      },
      "source": [
        "*   **Pregunta 7.**  \n",
        "\n",
        "Busca e imprime todas las palabras que sean variantes de la palabra \"love\", sin importar si incluyen mayúsculas o minúsculas, o la manera en que esté conjugada o alguna otra variación que se haga con dicha palabra.\n",
        "\n",
        "Indica cuántos resultados obtuviste."
      ]
    },
    {
      "cell_type": "code",
      "execution_count": 12,
      "metadata": {
        "id": "kqqyRChVMjol"
      },
      "outputs": [
        {
          "name": "stdout",
          "output_type": "stream",
          "text": [
            "['Loved', 'loved', 'Loved', 'love', 'loves', 'LOVED', 'lovers', 'love', 'lovers', 'Love', 'loved', 'loved', 'love', 'love', 'love', 'loved', 'love', 'loved', 'Love', 'LOVED', 'love', 'lovely', 'love', 'lovely', 'love', 'lover', 'loved', 'love', 'love', 'love', 'love', 'gloves', 'love', 'love', 'love', 'love']\n",
            "Total de palabras:  36\n"
          ]
        }
      ],
      "source": [
        "a7 = re.findall(r'\\w*love+\\w*', ''.join(docs), re.IGNORECASE)\n",
        "\n",
        "print(a7)\n",
        "print('Total de palabras: ', len(a7))"
      ]
    },
    {
      "attachments": {},
      "cell_type": "markdown",
      "metadata": {
        "id": "Ctb-NTY3MkYG"
      },
      "source": [
        "*   **Pregunta 8.**  \n",
        "\n",
        "Busca e imprime todas las palabras, variantes de \"so\" y \"good\", que tengan dos o más \"o\" en \"so\" y 3 o más \"o\" en good. \n",
        "\n",
        "Indica cuántas encontraste.\n"
      ]
    },
    {
      "cell_type": "code",
      "execution_count": 13,
      "metadata": {
        "id": "A8Nf3B_cMlqg"
      },
      "outputs": [
        {
          "name": "stdout",
          "output_type": "stream",
          "text": [
            "['Sooooo', 'soo', 'soooo', 'soo', 'soo', 'goood', 'soo', 'soo', 'soooooo', 'soo', 'soo', 'soooo', 'soo', 'soo']\n",
            "Total de palabras:  14\n"
          ]
        }
      ],
      "source": [
        "a8 = re.findall(r'(s[o]{2,}|g[o]{3,}d)', ''.join(docs), re.IGNORECASE)\n",
        "\n",
        "print(a8)\n",
        "print('Total de palabras: ', len(a8))"
      ]
    },
    {
      "attachments": {},
      "cell_type": "markdown",
      "metadata": {
        "id": "hkak1opjMmlk"
      },
      "source": [
        "*   **Pregunta 9.**  \n",
        "\n",
        "Busca e imprime todas las palabras que tengan una longitud mayor estrictamente a 10 caracteres alfabéticos.\n",
        "\n",
        "No se consideran los signos de puntuación o caracteres especiales en la longitud de estas cadenas, solo caracteres alfabéticos en mayúsculas o minúsculas.\n",
        "\n",
        "Indica la cantidad de palabras encontradas.\n"
      ]
    },
    {
      "cell_type": "code",
      "execution_count": 14,
      "metadata": {
        "id": "PYxdp3uhMoD0"
      },
      "outputs": [
        {
          "name": "stdout",
          "output_type": "stream",
          "text": [
            "['recommendation', 'recommended', 'overwhelmed', 'inexpensive', 'establishment', 'imaginative', 'opportunity', 'experiencing', 'underwhelming', 'relationship', 'unsatisfying', 'disappointing', 'outrageously', 'disappointing', 'expectations', 'restaurants', 'suggestions', 'disappointed', 'considering', 'Unfortunately', 'immediately', 'ingredients', 'accommodations', 'maintaining', 'Interesting', 'disrespected', 'accordingly', 'unbelievable', 'cheeseburger', 'descriptions', 'inexpensive', 'disappointed', 'Veggitarian', 'outstanding', 'recommendation', 'disappointed', 'disappointed', 'neighborhood', 'disappointed', 'corporation', 'considering', 'exceptional', 'shawarrrrrrma', 'disappointed', 'vinaigrette', 'immediately', 'unbelievably', 'replenished', 'disappointed', 'enthusiastic', 'Outstanding', 'comfortable', 'interesting', 'INCONSIDERATE', 'considering', 'transcendant', 'disappointment', 'disappointed', 'disappointed', 'overwhelmed', 'professional', 'Furthermore', 'combination', 'connoisseur', 'profiterole', 'outstanding', 'acknowledged', 'ventilation', 'beautifully', 'establishment', 'extraordinary', 'disappointed', 'cheesecurds', 'disappointed', 'interesting', 'experienced', 'opportunity', 'disgraceful', 'restaurants', 'ESTABLISHMENT', 'recommended', 'disappointed', 'recommended', 'acknowledged', 'presentation', 'Philadelphia', 'disappointed', 'disappointing', 'grandmother', 'drastically', 'informative', 'Disappointed', 'constructed', 'comfortable', 'Smashburger', 'cheeseburger', 'neighborhood', 'disappointed', 'hospitality', 'recommending', 'disappointed', 'deliciously', 'compliments', 'recommendation', 'establishment', 'calligraphy', 'traditional', 'combination', 'Unfortunately', 'Wienerschnitzel', 'unfortunately', 'considering', 'highlighted', 'Mediterranean', 'unprofessional', 'anticipated', 'disappointing', 'unexperienced', 'disrespected', 'professional', 'restaurants', 'Disappointing', 'WAAAAAAyyyyyyyyyy', 'reservation', 'imagination', 'undercooked', 'disappointed', 'disappointment', 'disappointment', 'deuchebaggery', 'disappointed', 'disappointment', 'immediately', 'Unfortunately', 'disapppointment', 'circumstances', 'undercooked', 'caterpillar', 'presentation', 'disappointed', 'underwhelming']\n",
            "Total de palabras:  141\n"
          ]
        }
      ],
      "source": [
        "a9 = re.findall(r'[A-Za-z]{11,}', ''.join(docs), re.IGNORECASE)\n",
        "\n",
        "print(a9)\n",
        "print('Total de palabras: ', len(a9))"
      ]
    },
    {
      "attachments": {},
      "cell_type": "markdown",
      "metadata": {
        "id": "ApjTNzSxMpDc"
      },
      "source": [
        "*   **Pregunta 10.**  \n",
        "\n",
        "Busca e imprime todas las palabras que inician con una letra mayúscula y terminan con una minúscula, pero que además no sea la primera palabra del comentario/string. \n",
        "\n",
        "Indica la cantidad de resultados obtenidos."
      ]
    },
    {
      "cell_type": "code",
      "execution_count": 15,
      "metadata": {
        "id": "Vb0ndRGAMqdL"
      },
      "outputs": [
        {
          "name": "stdout",
          "output_type": "stream",
          "text": [
            "['Loved', 'May', 'Rick', 'Steve', 'Cape', 'Cod', 'This', 'Vegas', 'Burrittos', 'Blah', 'The', 'The', 'They', 'This', 'Mexican', 'Took', 'Luke', 'Our', 'Also', 'Overall', 'Poor', 'Hiro', 'On', 'Frozen', 'The', 'Firehouse', 'My', 'Greek', 'Greek', 'They', 'Loved', 'Heart', 'Attack', 'Grill', 'Vegas', 'The', 'The', 'Great', 'Dos', 'Gringos', 'The', 'Jeff', 'Really', 'It', 'Excalibur', 'Very', 'Bad', 'Customer', 'Service', 'Vegas', 'Rice', 'Company', 'Pho', 'In', 'It', 'Never', 'Hard', 'Rock', 'Casino', 'On', 'Our', 'The', 'Best', 'Buffet', 'Tigerlilly', 'The', 'Yama', 'At', 'Thai', 'Nice', 'Although', 'Indian', 'Worst', 'The', 'We', 'Host', 'Not', 'Phenomenal', 'Definitely', 'Vegas', 'They', 'Delicious', 'Lox', 'Great', 'Subway', 'Subway', 'Vegas', 'He', 'Vegas', 'The', 'The', 'Mandalay', 'Bay', 'Great', 'Voodoo', 'Unfortunately', 'Their', 'Phoenix', 'This', 'Vegas', 'Lordy', 'Khao', 'Soi', 'Perhaps', 'The', 'Not', 'The', 'Love', 'Lemon', 'The', 'Also', 'When', 'Joey', 'Valley', 'Phoenix', 'Magazine', 'Pho', 'Fridays', 'The', 'If', 'For', 'Tasty', 'Jamaican', 'The', 'Lobster', 'Bisque', 'Bussell', 'Sprouts', 'Risotto', 'Filet', 'It', 'Otto', 'As', 'If', 'Ordered', 'Yeah', 'If', 'The', 'Honestly', 'Not', 'Everyone', 'It', 'Also', 'Drinks', 'Seriously', 'Vegas', 'Greek', 'Overall', 'Vegas', 'Good', 'Plus', 'The', 'Thus', 'For', 'Veggitarian', 'Stopped', 'Madison', 'Ironman', 'Jenni', 'Pho', 'Bachi', 'Burger', 'This', 'Pizza', 'Salads', 'They', 'Yelpers', 'The', 'You', 'Bachi', 'Service', 'Will', 'As', 'In', 'English', 'Great', 'By', 'Back', 'And', 'Also', 'They', 'Pizza', 'Hut', 'Both', 'We', 'Seat', 'The', 'Gold', 'Standard', 'Of', 'Thai', 'Tucson', 'Vegas', 'This', 'Chipotle', 'Classy', 'Baseball', 'On', 'Sadly', 'Gordon', 'Ramsey', 'Steak', 'Vegas', 'The', 'Outstanding', 'Best', 'Food', 'Lobster', 'Bisque', 'Vegas', 'The', 'The', 'They', 'Eggplant', 'Green', 'Bean', 'In', 'The', 'Halibut', 'Vegas', 'If', 'Vegas', 'Vegas', 'Crystals', 'Aria', 'To', 'Ians', 'Overall', 'Bouchon', 'Great', 'San', 'Francisco', 'Bay', 'Area', 'Buldogis', 'Gourmet', 'Hot', 'Dog', 'Come', 'For', 'Our', 'On', 'Furthermore', 'Strike', 'Steiners', 'If', 'Anyway', 'Not', 'The', 'The', 'Carly', 'This', 'Love', 'Vegas', 'Very', 'Total', 'Camelback', 'Flower', 'Shop', 'Cartel', 'Coffee', 'Third', 'This', 'Las', 'Vegas', 'This', 'It', 'Worse', 'Bunch', 'Very', 'This', 'Mom', 'Noca', 'Give', 'At', 'Anyway', 'Point', 'Oh', 'Similarly', 'Be', 'The', 'Vegas', 'Sat', 'Sun', 'If', 'Mexican', 'Frenchman', 'Great', 'No', 'Perfect', 'Vegas', 'However', 'Palm', 'The', 'Are', 'This', 'He', 'The', 'As', 'If', 'Thai', 'All', 'My', 'Toast', 'Thai', 'It', 'Phoenix', 'Crema', 'Caf', 'Philadelphia', 'We', 'Good', 'North', 'Scottsdale', 'The', 'Sorry', 'Bloody', 'Mary', 'Despite', 'Pho', 'The', 'Same', 'Caesar', 'After', 'Macarons', 'Our', 'Experience', 'Very', 'Disappointed', 'Big', 'Bay', 'Plater', 'Not', 'Italian', 'That', 'Vegas', 'Baba', 'Ganoush', 'Very', 'The', 'Nobu', 'Smashburger', 'Panna', 'Cotta', 'Very', 'Prices', 'The', 'Good', 'Hawaiian', 'Breeze', 'Mango', 'Magic', 'Pineapple', 'Delight', 'We', 'Needless', 'Anyways', 'The', 'The', 'Strip', 'Steak', 'Paradise', 'Valley', 'Cibo', 'Service', 'That', 'Thumbs', 'Up', 'Italian', 'Pros', 'Large', 'Nice', 'Great', 'The', 'Elk', 'Filet', 'After', 'Cute', 'The', 'Dylan', 'All', 'One', 'Han', 'Nan', 'Chicken', 'As', 'The', 'Bar', 'Edinburgh', 'Chinese', 'Overall', 'Indian', 'Probably', 'Friend', 'Try', 'Chinese', 'When', 'The', 'Level', 'Main', 'When', 'Food', 'Prices', 'The', 'Phoenix', 'It', 'Both', 'Hot', 'Sour', 'Egg', 'Flower', 'Soups', 'Stars', 'Sunday', 'Hunan', 'What', 'The', 'Unfortunately', 'Perfect', 'The', 'The', 'Great', 'Pita', 'Wienerschnitzel', 'Maine', 'Lobster', 'Roll', 'My', 'The', 'Lastly', 'The', 'This', 'Kabuki', 'Best', 'Maria', 'Caballero', 'In', 'To', 'Bad', 'The', 'Wife', 'Went', 'This', 'Hot', 'Everything', 'They', 'For', 'Strip', 'The', 'Costco', 'All', 'To', 'Place', 'Gyros', 'Japanese', 'Now', 'The', 'Albondigas', 'On', 'After', 'No', 'Mediterranean', 'Chicken', 'Salad', 'Mellow', 'Mushroom', 'Thai', 'Vegas', 'Overall', 'Mmmm', 'Buffet', 'Bellagio', 'And', 'My', 'Also', 'Vegas', 'Very', 'How', 'There', 'What', 'Christmas', 'Eve', 'Needless', 'Every', 'However', 'It', 'The', 'Denny', 'If', 'AAAAAAyyyyyyyyyy', 'The', 'The', 'The', 'The', 'It', 'Maybe', 'Vegetarian', 'The', 'The', 'Then', 'Insults', 'Taco', 'Unfortunately', 'Your', 'Heimer', 'All', 'Ha', 'Long', 'Bay', 'Subway', 'When', 'Brushfire', 'It', 'Mirage', 'In', 'The', 'Ninja', 'Sushi', 'Then']\n",
            "Total de resultados:  519\n"
          ]
        }
      ],
      "source": [
        "a10 = re.findall(r'(?:.)([A-Z]+[a-z]+)', ''.join(docs))\n",
        "\n",
        "print(a10)\n",
        "print('Total de resultados: ', len(a10))"
      ]
    },
    {
      "attachments": {},
      "cell_type": "markdown",
      "metadata": {
        "id": "u7nfm4KhMrNW"
      },
      "source": [
        "*   **Pregunta 11.**  \n",
        "\n",
        "Busca e imprime la secuencia de dos o más palabras que están separadas por un guion, \"-\", sin que tengan espacios en blanco entre ellas.\n",
        "\n",
        "Por ejemplo \"Go-Kart\" sería válido, pero \"Go  -Kart\" o \"Go  -  Kart\" no lo serían. \n",
        "\n",
        "Indica la cantidad de resultados obtenidos."
      ]
    },
    {
      "cell_type": "code",
      "execution_count": 16,
      "metadata": {
        "id": "OwU-a7eGMsub"
      },
      "outputs": [
        {
          "name": "stdout",
          "output_type": "stream",
          "text": [
            "Total de resultados:  19\n"
          ]
        },
        {
          "data": {
            "text/plain": [
              "['flat-lined',\n",
              " 'hands-down',\n",
              " 'must-stop',\n",
              " 'sub-par',\n",
              " 'Service-check',\n",
              " 'in-house',\n",
              " 'been-stepped-in-and-tracked-everywhere',\n",
              " 'multi-grain',\n",
              " 'to-go',\n",
              " 'non-customer',\n",
              " 'High-quality',\n",
              " 'sit-down',\n",
              " 'over-whelm',\n",
              " 'low-key',\n",
              " 'non-fancy',\n",
              " 'golden-crispy',\n",
              " 'over-priced',\n",
              " 'over-hip',\n",
              " 'under-services']"
            ]
          },
          "execution_count": 16,
          "metadata": {},
          "output_type": "execute_result"
        }
      ],
      "source": [
        "a11 = re.findall(r'\\w+(?:-\\w+)+', ''.join(docs), re.IGNORECASE)\n",
        "\n",
        "print('Total de resultados: ', len(a11))\n",
        "a11"
      ]
    },
    {
      "attachments": {},
      "cell_type": "markdown",
      "metadata": {
        "id": "DEIgl79HMthr"
      },
      "source": [
        "*   **Pregunta 12.**  \n",
        "\n",
        "Busca e imprime todas las palabras que terminan en \"ing\" o \"ed\". \n",
        "\n",
        "Indica la cantidad de palabras que encontraste de cada una."
      ]
    },
    {
      "cell_type": "code",
      "execution_count": 17,
      "metadata": {
        "id": "I4TSofBMMv9y"
      },
      "outputs": [
        {
          "name": "stdout",
          "output_type": "stream",
          "text": [
            "['Loved', 'Stopped', 'during', 'loved', 'getting', 'being', 'ended', 'being', 'overpriced', 'tried', 'disgusted', 'shocked', 'recommended', 'amazing', 'performed', 'red', 'asked', 'running', 'overwhelmed', 'redeeming', 'grossed', 'melted', 'getting', 'provided', 'thing', 'cooked', 'dressing', 'refreshing', 'ordered', 'running', 'realized', 'Loved', 'lined', 'cooked', 'ripped', 'ripped', 'petrified', 'amazing', 'included', 'expected', 'nothing', 'appalling', 'seasoned', 'cheated', 'wasting', 'eating', 'going', 'Coming', 'experiencing', 'underwhelming', 'walked', 'smelled', 'eating', 'raving', 'tailored', 'spring', 'unsatisfying', 'amazing', 'Everything', 'disappointing', 'dining', 'flirting', 'arrived', 'roasted', 'added', 'thing', 'coming', 'cooked', 'playing', 'passed', 'ordering', 'arriving', 'liked', 'disappointing', 'managed', 'served', 'preparing', 'loving', 'liking', 'reviewing', 'venturing', 'overpriced', 'including', 'during', 'checked', 'disappointed', 'red', 'decorated', 'changing', 'going', 'considering', 'served', 'coming', 'watched', 'greeted', 'seated', 'waited', 'flavored', 'ordered', 'going', 'everything', 'ordered', 'relocated', 'impressed', 'seated', 'priced', 'looking', 'treated', 'ordered', 'dressing', 'dining', 'used', 'handed', 'listed', 'missed', 'Everything', 'thrilled', 'amazing', 'judging', 'inspired', 'desired', 'maintaining', 'asking', 'overcooked', 'decided', 'looked', 'having', 'dressed', 'treated', 'something', 'lacking', 'ordered', 'sucked', 'expected', 'sucked', 'imagined', 'Interesting', 'served', 'preparing', 'arrived', 'missing', 'feeling', 'satisfied', 'voted', 'insulted', 'disrespected', 'exceeding', 'dreamed', 'inviting', 'lived', 'stepped', 'mixed', 'showed', 'climbing', 'waiting', 'realized', 'coming', 'loved', 'being', 'lacking', 'needed', 'going', 'loved', 'wrapped', 'uninspired', 'amazing', 'dealing', 'annoying', 'Ordered', 'falling', 'uploaded', 'sporting', 'covered', 'supposed', 'amazing', 'rolled', 'stayed', 'providing', 'building', 'lighting', 'Based', 'received', 'going', 'nothing', 'privileged', 'working', 'eating', 'dressing', 'being', 'charged', 'visited', 'proclaimed', 'disappointed', 'Stopped', 'dedicated', 'liked', 'outstanding', 'getting', 'disappointed', 'waited', 'waited', 'burned', 'waited', 'amazing', 'disappointed', 'Waited', 'disappointed', 'pulled', 'prepared', 'rating', 'eating', 'writing', 'everything', 'dining', 'fried', 'boring', 'passed', 'charming', 'ordered', 'toasted', 'untoasted', 'going', 'figured', 'making', 'pricing', 'considering', 'returned', 'amazing', 'eyed', 'disappointed', 'pleased', 'Everything', 'replenished', 'disappointed', 'nothing', 'nothing', 'driving', 'treated', 'during', 'evening', 'offered', 'Outstanding', 'tasted', 'buying', 'handling', 'wasting', 'craving', 'dropped', 'dining', 'decorated', 'interesting', 'amazing', 'being', 'served', 'outshining', 'starving', 'coming', 'walked', 'stuffed', 'considering', 'located', 'shopping', 'nothing', 'Cooked', 'disappointed', 'getting', 'screwed', 'frustrated', 'iced', 'stuffed', 'disappointed', 'trying', 'grossed', 'enjoyed', 'eating', 'going', 'looked', 'overwhelmed', 'stayed', 'everything', 'smeared', 'stepped', 'tracked', 'tried', 'rushed', 'loved', 'Ordered', 'Nothing', 'cooked', 'going', 'insulted', 'contained', 'enjoyed', 'relaxed', 'loved', 'outstanding', 'running', 'acknowledged', 'forgetting', 'upgrading', 'trimmed', 'cooked', 'claimed', 'handled', 'asked', 'eating', 'bring', 'hoping', 'living', 'limited', 'boiled', 'dining', 'liked', 'sliced', 'attached', 'humiliated', 'filling', 'fried', 'amazing', 'impressed', 'disappointed', 'priced', 'Everything', 'disappointed', 'thing', 'amazing', 'need', 'Everything', 'interesting', 'need', 'experienced', 'amazing', 'amazing', 'waited', 'seated', 'waiting', 'going', 'going', 'dining', 'decided', 'pleased', 'saving', 'something', 'trying', 'disgusting', 'hankering', 'recommended', 'being', 'helped', 'witnessed', 'Waited', 'waited', 'waited', 'checked', 'tasted', 'disappointed', 'being', 'served', 'rated', 'recommended', 'pulled', 'waited', 'being', 'acknowledged', 'setting', 'perpared', 'dusted', 'powdered', 'enjoyed', 'expanded', 'sitting', 'ended', 'waiting', 'arrived', 'satisfying', 'wanted', 'disappointed', 'eating', 'need', 'being', 'freaking', 'checked', 'impressed', 'reheated', 'getting', 'amazing', 'tasted', 'disappointing', 'grilled', 'seasoning', 'going', 'focused', 'roasted', 'asked', 'being', 'ignored', 'bring', 'letting', 'tasted', 'evening', 'Ordered', 'greeted', 'seated', 'Tried', 'waiting', 'being', 'seated', 'eating', 'going', 'Disappointed', 'ordered', 'constructed', 'seating', 'fried', 'playing', 'requested', 'amazing', 'staying', 'used', 'tasted', 'giving', 'talking', 'amazing', 'drenched', 'amazing', 'amazing', 'tried', 'walked', 'expected', 'amazing', 'disappointed', 'mortified', 'filling', 'dripping', 'impressed', 'going', 'serving', 'refrained', 'recommending', 'pleased', 'thing', 'reading', 'loved', 'grilled', 'reminded', 'seating', 'sucked', 'hooked', 'ordered', 'going', 'disappointed', 'everything', 'seasoned', 'thing', 'added', 'sitting', 'waiting', 'bring', 'revisiting', 'coming', 'touched', 'anything', 'fried', 'opened', 'impressed', 'feeling', 'during', 'watched', 'thing', 'being', 'Tasted', 'amazing', 'being', 'amazing', 'ordered', 'satifying', 'describing', 'coming', 'everything', 'received', 'Paying', 'going', 'impressed', 'overcooked', 'cooked', 'needed', 'served', 'thing', 'ordered', 'amazing', 'overpriced', 'packed', 'getting', 'opposed', 'cramming', 'priced', 'surprised', 'considering', 'focused', 'overpriced', 'fucking', 'tried', 'enjoyed', 'going', 'qualified', 'tasted', 'hated', 'appealing', 'getting', 'coming', 'watched', 'Everything', 'fried', 'dealing', 'everything', 'tried', 'something', 'during', 'helped', 'dining', 'cooking', 'dining', 'started', 'editing', 'highlighted', 'setting', 'used', 'amazing', 'enjoyed', 'ordered', 'tasted', 'asked', 'refused', 'tried', 'rotating', 'Pricing', 'toasted', 'satisfying', 'anticipated', 'disappointing', 'amazing', 'returning', 'unexperienced', 'running', 'insulted', 'disrespected', 'being', 'impressed', 'thing', 'puréed', 'nothing', 'poisoning', 'thinking', 'something', 'going', 'disgusting', 'caring', 'bring', 'asked', 'Disappointing', 'rated', 'saying', 'going', 'lacked', 'coming', 'sliced', 'pulled', 'building', 'seating', 'undercooked', 'dipping', 'seemed', 'watered', 'lacked', 'disappointed', 'overpriced', 'setting', 'ensued', 'anything', 'drinking', 'serving', 'disappointed', 'placed', 'avoided', 'received', 'wanted', 'doing', 'sucked', 'happened', 'putting', 'owned', 'wanted', 'Overpriced', 'getting', 'vomited', 'looking', 'started', 'coming', 'unwrapped', 'lacked', 'seemed', 'undercooked', 'closed', 'staying', 'refried', 'dried', 'disappointed', 'lacking', 'impressed', 'underwhelming', 'wasted', 'poured', 'drawing', 'bring']\n",
            "Total de palabras con ing:  279\n",
            "Total de palabras con ed:  335\n",
            "Total de palabras:  614\n"
          ]
        }
      ],
      "source": [
        "a12 = re.findall(r'\\w+(?:ing|ed)\\b', ''.join(docs))\n",
        "\n",
        "ing = re.findall(r'\\w+ing\\b', ''.join(docs))\n",
        "ed = re.findall(r'\\w+ed\\b', ''.join(docs))\n",
        "\n",
        "print(a12)\n",
        "print('Total de palabras con ing: ', len(ing))\n",
        "print('Total de palabras con ed: ', len(ed))\n",
        "print('Total de palabras: ', len(a12))"
      ]
    },
    {
      "attachments": {},
      "cell_type": "markdown",
      "metadata": {
        "id": "70StdqAZa9E9"
      },
      "source": [
        "# **Parte 3. Proceso de limpieza.**"
      ]
    },
    {
      "attachments": {},
      "cell_type": "markdown",
      "metadata": {
        "id": "xaDUFXHrMvX2"
      },
      "source": [
        "*   **Pregunta 13.**  \n",
        "\n",
        "Ahora realiza un proceso de limpieza del corpus que incluya los siguientes procesos:\n",
        "\n",
        "*   Solo se deben considerar caracteres alfabéticos. Es decir, se eliminan todos los signos de puntuación y caracteres especiales.\n",
        "*   Todos los caracteres alfabéticos se transforman a minúsculas.\n",
        "*   Se deben eliminar todos los espacios en blanco adicionales que se puedan encontrar en cada comentario.\n",
        "\n",
        "Al finalizar dicho proceso de limpieza, imprime el resultado de los primeros 10 comentarios resultantes. \n",
        "   \n",
        "\n",
        "\n"
      ]
    },
    {
      "cell_type": "code",
      "execution_count": 18,
      "metadata": {
        "id": "K3kQzPOPMx0w"
      },
      "outputs": [
        {
          "data": {
            "text/plain": [
              "['wow loved this place',\n",
              " 'crust is not good',\n",
              " 'not tasty and the texture was just nasty',\n",
              " 'stopped by during the late may bank holiday off rick steve recommendation and loved it',\n",
              " 'the selection on the menu was great and so were the prices',\n",
              " 'now i am getting angry and i want my damn pho',\n",
              " 'honeslty it didnt taste that fresh',\n",
              " 'the potatoes were like rubber and you could tell they had been made up ahead of time being kept under a warmer',\n",
              " 'the fries were great too',\n",
              " 'a great touch']"
            ]
          },
          "execution_count": 18,
          "metadata": {},
          "output_type": "execute_result"
        }
      ],
      "source": [
        "a13 = []\n",
        "for doc in docs:\n",
        "    doc = re.sub(r'[^\\w\\s]', '', doc).strip()  \n",
        "    doc = ' '.join(re.findall(r'\\b\\w+\\b', doc.lower()))\n",
        "    a13.append(doc)\n",
        "\n",
        "a13[0:10]"
      ]
    },
    {
      "attachments": {},
      "cell_type": "markdown",
      "metadata": {
        "id": "WZwEhg2lUSAX"
      },
      "source": [
        "*   **Pregunta 14.**  \n",
        "\n",
        "Con el resultado de la limpieza obtenido en la pregunta anterior, realiza ahora un proceso de tokenización por palabras del corpus. \n",
        "\n",
        "Es decir, al final de este proceso de tokenización, debes tener como resultado una lista de listas, donde cada comentario estará tokenizado por palabras.\n",
        "\n",
        "Al terminar calcula el total de tokens obtenido en todo el corpus. "
      ]
    },
    {
      "cell_type": "code",
      "execution_count": 19,
      "metadata": {
        "id": "kbAL9-v0V-jx"
      },
      "outputs": [
        {
          "name": "stdout",
          "output_type": "stream",
          "text": [
            "Total de tokens:  10846\n"
          ]
        },
        {
          "data": {
            "text/plain": [
              "[['wow', 'loved', 'this', 'place'],\n",
              " ['crust', 'is', 'not', 'good'],\n",
              " ['not', 'tasty', 'and', 'the', 'texture', 'was', 'just', 'nasty']]"
            ]
          },
          "execution_count": 19,
          "metadata": {},
          "output_type": "execute_result"
        }
      ],
      "source": [
        "tokenized_docs = [doc.split() for doc in a13]\n",
        "\n",
        "print('Total de tokens: ', np.sum([len(token) for token in tokenized_docs]))\n",
        "tokenized_docs[0:3]"
      ]
    },
    {
      "attachments": {},
      "cell_type": "markdown",
      "metadata": {
        "id": "EFeu0OJ7WDPD"
      },
      "source": [
        "*   **Pregunta 15.**  \n",
        "\n",
        "Finalmente, en este ejercicio definiremos nuestro conjunto de palabras \"stopwords\", las cuales deberás eliminar de todo el corpus. \n",
        "\n",
        "Recuerda que ejemplos de stopwords son artículos, adverbios, conectivos, etcétera, que tienen frecuencias de aparición muy altas en cualquier documento, pero que no brindan mucho significado en cuanto al significado de un enunciado.\n",
        "\n",
        "Con base a la lista de stopwords que se te proporciona, realiza un proceso de limpieza eliminando todas estas palabras del corpus obtenido en el ejercicio anterior.\n",
        "\n",
        "Obtener cuántos tokens/palabras quedan finalmente en todo el corpus.\n",
        "\n",
        "Obtener cuántos de estos tokens/palabras son diferentes, es decir, cuántos tokens únicos tendrá lo que llamaremos más adelante nuestro vocabulario."
      ]
    },
    {
      "cell_type": "code",
      "execution_count": 20,
      "metadata": {
        "id": "6FP4FF3KXGxm"
      },
      "outputs": [],
      "source": [
        "# Considera la siguiente lista como tu conjunto de stopwords:\n",
        "mis_stopwords = ['i', 'me', 'my', 'myself', 'we', 'our', 'ours', 'ourselves', 'you', 'your', 'yours', 'he', 'him', 'his', 'himself', 'she', 'her', 'hers', 'herself', 'it', 'its', 'itself', 'they', 'them', 'their', 'theirs', 'themselves', 'what', 'which', 'who', 'whom', 'this', 'that', 'these', 'those', 'am', 'is', 'are', 'was', 'were', 'be', 'been', 'being', 'have', 'has', 'had', 'having', 'do', 'does', 'did', 'doing', 'a', 'an', 'the', 'and', 'but', 'if', 'or', 'because', 'as', 'until', 'while', 'of', 'at', 'by', 'for', 'with', 'about', 'against', 'between', 'into', 'through', 'during', 'before', 'after', 'above', 'below', 'to', 'from', 'up', 'down', 'in', 'out', 'on', 'over', 'under', 'again', 'further', 'then', 'once', 'here', 'there', 'when', 'where', 'why', 'how', 'all', 'any', 'both', 'each', 'few', 'more', 'most', 'other', 'some', 'such', 'only', 'own', 'same', 'so', 'than', 'too', 'very', 's', 't', 'can', 'will', 'just', 'should', 'now', 'll']"
      ]
    },
    {
      "cell_type": "code",
      "execution_count": 21,
      "metadata": {
        "id": "CD8yjyq1ZrwY"
      },
      "outputs": [
        {
          "name": "stdout",
          "output_type": "stream",
          "text": [
            "Total de tokens:  5846\n"
          ]
        },
        {
          "data": {
            "text/plain": [
              "[['wow', 'loved', 'place'],\n",
              " ['crust', 'not', 'good'],\n",
              " ['not', 'tasty', 'texture', 'nasty']]"
            ]
          },
          "execution_count": 21,
          "metadata": {},
          "output_type": "execute_result"
        }
      ],
      "source": [
        "w_clean = [[words for words in w if words not in mis_stopwords] for w in tokenized_docs]\n",
        "\n",
        "print('Total de tokens: ', np.sum([len(total) for total in w_clean]))\n",
        "w_clean[0:3]"
      ]
    },
    {
      "cell_type": "code",
      "execution_count": 22,
      "metadata": {
        "id": "4ZPi5prKZro5"
      },
      "outputs": [
        {
          "name": "stdout",
          "output_type": "stream",
          "text": [
            "Total de tokens únicos:  1970\n"
          ]
        }
      ],
      "source": [
        "vocabulary = []\n",
        "\n",
        "for u in w_clean:\n",
        "    vocabulary.extend(u)\n",
        "\n",
        "vocabulary = list(set(vocabulary))\n",
        "\n",
        "print('Total de tokens únicos: ', len(vocabulary))"
      ]
    },
    {
      "attachments": {},
      "cell_type": "markdown",
      "metadata": {
        "id": "NDbKkuxRbLoX"
      },
      "source": [
        "*   **Comentarios**\n",
        "\n",
        "Incluye finalmente tus comentarios de la actividad."
      ]
    },
    {
      "attachments": {},
      "cell_type": "markdown",
      "metadata": {
        "id": "o7fzbvqVbUGr"
      },
      "source": [
        "Las expresiones regulares (regex) son una herramienta poderosa para manipulación de texto que nos permite encontrar patrones y extraer datos eficientemente. Además, nos permiten buscar y manipular texto de acuerdo con patrones específicos, por ejemplo: códigos postales, direcciones de email, encontrar todas las instancias de alguna palabra o frase y remover caracteres o “strings” no deseados, como lo realizado en esta actividad. \n",
        "\n",
        "Usando regex, podemos realizar operaciones complejas de búsqueda y reemplazo, así como filtrado y validación de texto. \n",
        "En general, las expresiones regulares son de mucha utilidad para una variedad de aplicaciones incluyendo limpieza y preprocesamiento de datos, recopilación de información y procesamiento de lenguaje natural."
      ]
    },
    {
      "attachments": {},
      "cell_type": "markdown",
      "metadata": {
        "id": "PHaKw_6Ldbaf"
      },
      "source": [
        "## **Fin de la Actividad de la semana 2.**"
      ]
    }
  ],
  "metadata": {
    "colab": {
      "collapsed_sections": [
        "759SG4TyfbUn",
        "Zj-h4drXD-X9",
        "BY6yifxscfrx",
        "k_ewoagic5jc",
        "70StdqAZa9E9"
      ],
      "provenance": []
    },
    "kernelspec": {
      "display_name": "Python 3",
      "name": "python3"
    },
    "language_info": {
      "codemirror_mode": {
        "name": "ipython",
        "version": 3
      },
      "file_extension": ".py",
      "mimetype": "text/x-python",
      "name": "python",
      "nbconvert_exporter": "python",
      "pygments_lexer": "ipython3",
      "version": "3.10.1"
    }
  },
  "nbformat": 4,
  "nbformat_minor": 0
}
