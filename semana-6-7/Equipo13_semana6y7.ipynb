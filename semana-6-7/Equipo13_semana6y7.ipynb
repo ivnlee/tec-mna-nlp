{
 "cells": [
  {
   "attachments": {},
   "cell_type": "markdown",
   "metadata": {},
   "source": [
    "## Modelado de Temas : LSI / LDA"
   ]
  },
  {
   "cell_type": "code",
   "execution_count": 1,
   "metadata": {},
   "outputs": [],
   "source": [
    "import pandas as pd \n",
    "import numpy as np \n",
    "import re\n",
    "import nltk\n",
    "from nltk.corpus import stopwords "
   ]
  },
  {
   "attachments": {},
   "cell_type": "markdown",
   "metadata": {},
   "source": [
    "### 1. Cargar el archivo\n",
    "Genera un DataFrame de Pandas llamado “df” y que contiene una única columna llamada “noticia” con 5658 renglones formados por los cuerpos de las noticias."
   ]
  },
  {
   "cell_type": "code",
   "execution_count": 2,
   "metadata": {},
   "outputs": [],
   "source": [
    "dfn = pd.read_json('noticiasTopicModeling.txt', lines=False, encoding='utf-8')\n",
    "\n",
    "df = dfn[['texto']].copy()\n",
    "df.rename(columns={'texto':'noticia'}, inplace=True)"
   ]
  },
  {
   "cell_type": "code",
   "execution_count": 3,
   "metadata": {},
   "outputs": [
    {
     "name": "stdout",
     "output_type": "stream",
     "text": [
      "(5658, 1)\n"
     ]
    },
    {
     "data": {
      "text/html": [
       "<div>\n",
       "<style scoped>\n",
       "    .dataframe tbody tr th:only-of-type {\n",
       "        vertical-align: middle;\n",
       "    }\n",
       "\n",
       "    .dataframe tbody tr th {\n",
       "        vertical-align: top;\n",
       "    }\n",
       "\n",
       "    .dataframe thead th {\n",
       "        text-align: right;\n",
       "    }\n",
       "</style>\n",
       "<table border=\"1\" class=\"dataframe\">\n",
       "  <thead>\n",
       "    <tr style=\"text-align: right;\">\n",
       "      <th></th>\n",
       "      <th>noticia</th>\n",
       "    </tr>\n",
       "  </thead>\n",
       "  <tbody>\n",
       "    <tr>\n",
       "      <th>0</th>\n",
       "      <td>\"España ha dejado de ser católica\", decía Manu...</td>\n",
       "    </tr>\n",
       "    <tr>\n",
       "      <th>1</th>\n",
       "      <td>El clima de crispación social en Ceuta ha lleg...</td>\n",
       "    </tr>\n",
       "    <tr>\n",
       "      <th>2</th>\n",
       "      <td>El Gobierno ha alegado la suspensión de plazos...</td>\n",
       "    </tr>\n",
       "    <tr>\n",
       "      <th>3</th>\n",
       "      <td>Puedes mandar tu pregunta, sugerencia o queja ...</td>\n",
       "    </tr>\n",
       "    <tr>\n",
       "      <th>4</th>\n",
       "      <td>Panamá debe entregar esta semana a la Corte In...</td>\n",
       "    </tr>\n",
       "  </tbody>\n",
       "</table>\n",
       "</div>"
      ],
      "text/plain": [
       "                                             noticia\n",
       "0  \"España ha dejado de ser católica\", decía Manu...\n",
       "1  El clima de crispación social en Ceuta ha lleg...\n",
       "2  El Gobierno ha alegado la suspensión de plazos...\n",
       "3  Puedes mandar tu pregunta, sugerencia o queja ...\n",
       "4  Panamá debe entregar esta semana a la Corte In..."
      ]
     },
     "execution_count": 3,
     "metadata": {},
     "output_type": "execute_result"
    }
   ],
   "source": [
    "print(df.shape)\n",
    "df.head()"
   ]
  },
  {
   "attachments": {},
   "cell_type": "markdown",
   "metadata": {},
   "source": [
    "### 2. Proceso de Limpieza "
   ]
  },
  {
   "cell_type": "code",
   "execution_count": 4,
   "metadata": {},
   "outputs": [],
   "source": [
    "# stopwords en español\n",
    "stops = stopwords.words('spanish')\n",
    "\n",
    "def clean_tok(doc):\n",
    "  # Elimina los signos de puntuación, caracteres especiales y números\n",
    "  tokens = re.sub(r'[^A-Za-záéíóúüñ\\s]', ' ', doc).strip()\n",
    "\n",
    "  # Elimina espacios en blanco adicionales y convierte a minúsculas\n",
    "  tokens = ' '.join(re.findall(r'\\b\\w+\\b', tokens.lower()))\n",
    "  \n",
    "  # Tokeniza por palabras, elimina stopwords y palabras de longitud menor a 2\n",
    "  tokens = [w for w in tokens.split() if w not in stops and len(w) > 2]\n",
    "\n",
    "  return tokens"
   ]
  },
  {
   "cell_type": "code",
   "execution_count": 5,
   "metadata": {},
   "outputs": [],
   "source": [
    "clean_doc = [clean_tok(str(x)) for x in df['noticia']]"
   ]
  },
  {
   "cell_type": "code",
   "execution_count": 6,
   "metadata": {},
   "outputs": [
    {
     "name": "stdout",
     "output_type": "stream",
     "text": [
      "['españa', 'dejado', 'ser', 'católica', 'decía', 'manuel', 'azaña', 'comienzo', 'segunda', 'república', 'aquel', 'congreso', 'diputados', 'aprobó', 'leyes', 'laicistas', 'metáfora', 'dejó', 'ser', 'católica', 'papel', 'ley', 'creencias', 'buena', 'parte', 'pueblo', 'migración', 'integración', 'europea', 'programa', 'vox', 'europa', 'saber', 'españa', 'domingo', 'noviembre', 'dejado', 'ser', 'excepción', 'europa', 'potencia', 'extrema', 'derecha', 'parlamento', 'metáfora', 'pues', 'precisamente', 'excepcional', 'tener', 'dictadura', 'mediados', 'setenta', 'dictador', 'aún', 'mausoleo', 'después', 'años', 'muerto', 'existía', 'tal', 'cosa', 'portugal', 'grecia', 'italia', 'alemania', 'países', 'dictaduras', 'fascistas', 'españa', 'pasó', 'portugal', 'italia', 'alemania', 'derrotó', 'fascismo', 'franquismo', 'murió', 'cama', 'harakiri', 'cortes', 'franquistas', 'ruptura', 'régimen', 'sino', 'reforma', 'nació', 'nuevo', 'país', 'sino', 'país', 'mutó', 'ley', 'ley', 'aun', 'así', 'españa', 'parecía', 'vacunada', 'años', 'franquismo', 'sido', 'bastantes', 'llegado', 'irrupción', 'posfranquismo', 'tras', 'ser', 'actores', 'fundamentales', 'gobiernos', 'autonómicos', 'locales', 'ciudadanos', 'españa', 'dejado', 'ser', 'excepción', 'aunque', 'alianza', 'popular', 'manuel', 'fraga', 'bebiera', 'franquismo', 'sociológico', 'fuerza', 'nueva', 'blas', 'piñar', 'búnker', 'franquista', 'aunque', 'franquismo', 'sociológico', 'mantuviera', 'largo', 'tiempos', 'aunque', 'vox', 'escisión', 'propio', 'aunque', 'así', 'cierto', 'nunca', 'ahora', 'españa', 'reinstauración', 'democrática', 'existido', 'fuerza', 'extrema', 'derecha', 'votos', 'escaños', 'fenómeno', 'pasado', 'pasando', 'países', 'europeos', 'aunque', 'opere', 'españa', 'polarización', 'eje', 'nacional', 'crisis', 'catalunya', 'ejemplo', 'mejores', 'amigos', 'vox', 'europa', 'grupo', 'ecr', 'parlamento', 'europeo', 'partido', 'gobernante', 'ultracatólico', 'polaco', 'pis', 'supera', 'votos', 'principales', 'referentes', 'extrema', 'derecha', 'europea', 'marine', 'pen', 'matteo', 'salvini', 'apresurado', 'felicitar', 'santiago', 'abascal', 'presentan', 'números', 'superiores', 'vox', 'pen', 'sacó', 'últimas', 'europeas', 'salvini', 'extrema', 'derecha', 'austriaca', 'sacó', 'hace', 'mes', 'medio', 'legislativas', 'incluso', 'después', 'crisis', 'financiación', 'rusa', 'eje', 'amplio', 'extrema', 'derecha', 'europea', 'suele', 'situar', 'gobernantes', 'húngaros', 'fidesz', 'víktor', 'orban', 'suspendidos', 'partido', 'popular', 'europeo', 'cuyo', 'grupo', 'parlamentario', 'eurocámara', 'siguen', 'perteneciendo', 'lograron', 'mayo', 'pasado', 'efecto', 'vox', 'aún', 'escalón', 'escalón', 'deja', 'encima', 'clásicos', 'extrema', 'derecha', 'europea', 'alemanes', 'afd', 'subcampeones', 'nder', 'alemanes', 'mayo', 'quedaron', 'debajo', 'generales', 'encima', 'geert', 'wilders', 'sacó', 'legislativas', 'holandesas', 'despeñarse', 'europeas', 'menos', 'así', 'vox', 'llega', 'lograron', 'demócratas', 'suecia', 'europeas', 'dos', 'puntos', 'menos', 'generales', 'septiembre', 'duplica', 'sumaron', 'solución', 'griega', 'aurora', 'dorada', 'elecciones', 'grecia', 'julio', 'pasado', 'dos', 'puntos', 'partido', 'finlandesas', 'quedó', 'tres', 'décimas', 'ganar', 'elecciones', 'finlandesas', 'abril', 'pasado', 'etiquetas', 'internacional', 'vox', 'extrema', 'derecha', 'europa']\n",
      "['clima', 'crispación', 'social', 'ceuta', 'llegado', 'punto', 'precedentes', 'entrada', 'vox', 'asamblea', 'ceuta', 'consolidación', 'soporte', 'externo', 'gobierno', 'juan', 'vivas', 'tras', 'seis', 'meses', 'fallida', 'alianza', 'psoe', 'difusión', 'pública', 'mensajes', 'audios', 'xenófobos', 'privados', 'supuestamente', 'líderes', 'formación', 'extrema', 'derecha', 'llevado', 'ejecutivo', 'autonómico', 'borde', 'abismo', 'suma', 'cancelación', 'pascua', 'islámica', 'sacrificio', 'justificada', 'pandemia', 'coronavirus', 'ciudad', 'población', 'musulmana', 'situación', 'recuerda', 'vivida', 'hace', 'dos', 'décadas', 'través', 'sendas', 'mociones', 'censura', 'gil', 'logró', 'primero', 'hacerse', 'presidencia', 'ciudad', 'recuperarla', 'mano', 'psoe', 'tras', 'veinte', 'años', 'gobernando', 'diputados', 'asamblea', 'vivas', 'perdió', 'primera', 'vez', 'mayo', 'mayoría', 'absoluta', 'encontró', 'oposición', 'psoe', 'siete', 'escaños', 'vox', 'seis', 'dos', 'formaciones', 'localistas', 'mdyc', 'caballas', 'dos', 'respectivamente', 'campaña', 'electoral', 'vivas', 'abjuró', 'expresamente', 'abascal', 'afines', 'podemos', 'dos', 'maneras', 'equivalentes', 'manipular', 'sentimiento', 'religioso', 'ceutíes', 'ponen', 'peligro', 'convivencia', 'estabilidad', 'vivas', 'comenzó', 'legislatura', 'gobernando', 'solitario', 'apoyo', 'externo', 'psoe', 'cuadros', 'socialistas', 'puestos', 'segundo', 'tercer', 'escalafón', 'ejecutivo', 'así', 'siguió', 'rompió', 'socialistas', 'fiables', 'hora', 'garantizar', 'estabilidad', 'ciudad', 'justificó', 'vivas', 'pasó', 'apoyarse', 'vox', 'partido', 'extrema', 'derecha', 'vez', 'cargos', 'exigió', 'dejar', 'subvencionar', 'oenegés', 'feministas', 'dedicadas', 'atender', 'enfermos', 'foráneos', 'peticiones', 'razonables', 'cuyo', 'cumplimiento', 'permitió', 'gobierno', 'sacar', 'presupuestos', 'ciudad', 'pasado', 'enero', 'solo', 'día', 'holgada', 'mayoría', 'vox', 'perdido', 'dos', 'diputados', 'última', 'formación', 'tras', 'divulgación', 'multitud', 'mensajes', 'whatsapp', 'supuestamente', 'líderes', 'extrema', 'derecha', 'ceuta', 'auguraban', 'iii', 'guerra', 'mundial', 'comenzar', 'algún', 'día', 'islam', 'repudiaban', 'españoles', 'digan', 'tragar', 'moros', 'cojones', 'asumían', 'tras', 'batalla', 'electoral', 'extraño', 'tener', 'combatir', 'militarmente', 'mensaje', 'whatsapp', 'atribuido', 'presidente', 'vox', 'ceuta', 'juan', 'sergio', 'redondo', 'mayoría', 'justa', 'entonces', 'escaños', 'favor', 'gobierno', 'vivas', 'digerir', 'siete', 'meses', 'mayor', 'manifestación', 'convocada', 'ceuta', 'ochenta', 'febrero', 'recorrió', 'ciudad', 'personas', 'inmensa', 'mayoría', 'comunidad', 'musulmana', 'población', 'local', 'publicación', 'distintos', 'improperios', 'judíos', 'hindúes', 'dos', 'comunidades', 'gran', 'peso', 'económico', 'social', 'ciudad', 'principios', 'junio', 'medios', 'recuperaron', 'tuit', 'febrero', 'diputado', 'vox', 'vicepresidente', 'mesa', 'rectora', 'asamblea', 'policía', 'nacional', 'excedencia', 'francisco', 'ruiz', 'exaltando', 'disgusto', 'comunidad', 'israelita', 'local', 'héroes', 'división', 'azul', 'combatido', 'junto', 'nazis', 'leningrado', 'tinglaítos', 'moritos', 'gentuza', 'últimas', 'dos', 'semanas', 'multiplicado', 'filtraciones', 'audios', 'diputado', 'miembro', 'orden', 'temple', 'presidente', 'vox', 'ceuta', 'juan', 'sergio', 'redondo', 'primero', 'comunidad', 'hindú', 'cuyos', 'miembros', 'consejera', 'hacienda', 'kissy', 'chandiramani', 'sacar', 'pasear', 'elefante', 'referencia', 'deidad', 'ganesh', 'fiesta', 'colores', 'holi', 'tal', 'puta', 'vida', 'viene', 'viene', 'gilipollas', 'juan', 'vivas', 'empieza', 'rollito', 'multiculturalidad', 'celebración', 'holi', 'hindú', 'ceuta', 'imagen', 'ganesh', 'fondo', 'gonzalo', 'testa', 'después', 'escolarización', 'niños', 'musulmanes', 'ojalá', 'pudiera', 'volver', 'hace', 'años', 'día', 'metieron', 'tres', 'primeros', 'moritos', 'clase', 'vino', 'maestra', 'darnos', 'charla', 'convivencia', 'haberle', 'dicho', 'momento', 'hija', 'gran', 'puta', 'sabes', 'metiendo', 'encima', 'propio', 'presidente', 'equipo', 'responsables', 'vox', 'ceuta', 'conoce', 'nadie', 'ningún', 'tipo', 'pasado', 'punto', 'comparación', 'sinvergüenzas', 'juan', 'vivas', 'toda', 'gentuza', 'colocada', 'directores', 'generales', 'viceconsejeros', 'vox', 'nunca', 'negado', 'categóricamente', 'mensajes', 'audios', 'sido', 'escritos', 'dichos', 'responsables', 'denunciado', 'policía', 'medios', 'locales', 'publicado', 'dos', 'antiguos', 'miembros', 'ejecutiva', 'presuntos', 'delitos', 'acoso', 'chantaje', 'extorsión', 'continuada', 'vulneración', 'derechos', 'honor', 'intimidad', 'derecho', 'propia', 'imagen', 'difícilmente', 'supuesta', 'conversación', 'privada', 'puede', 'jamás', 'resistir', 'publicidad', 'máxime', 'surge', 'robo', 'chantaje', 'extorsión', 'burda', 'manipulación', 'alegado', 'redondo', 'alerta', 'filtraciones', 'solo', 'buscan', 'vox', 'facilite', 'acceso', 'publicidad', 'institucional', 'derrocar', 'gobierno', 'rechazado', 'exabruptos', 'tibieza', 'vox', 'vox', 'partido', 'popular', 'partido', 'popular', 'problema', 'ejecutivo', 'vivas', 'terminan', 'ahí', 'prohibición', 'pandemia', 'dar', 'muerte', 'animales', 'próximo', 'julio', 'ciudad', 'pascua', 'islámica', 'sacrificio', 'festivo', 'laboral', 'ceuta', 'mayoría', 'convirtió', 'primero', 'católico', 'establecido', 'españa', 'exacerbado', 'clima', 'crispación', 'social', 'inaudito', 'tensado', 'borde', 'ruptura', 'mapa', 'fuerzas', 'asamblea', 'imagen', 'manifestación', 'pasado', 'febrero', 'cancelación', 'pascua', 'sacrificio', 'gonzalo', 'testa', 'gobierno', 'local', 'reconocido', 'menos', 'dos', 'consejeros', 'dos', 'musulmanes', 'yamal', 'dris', 'servicios', 'urbanos', 'dunia', 'mohamed', 'asuntos', 'sociales', 'soportan', 'fuertes', 'injustas', 'despiadadas', 'presiones', 'generan', 'situación', 'lamentable', 'punto', 'vista', 'personal', 'profesional', 'ciudad', 'ningún', 'partido', 'comparte', 'vox', 'minutos', 'silencio', 'víctimas', 'violencia', 'intrafamiliar', 'acordaron', 'llamarla', 'anulación', 'parte', 'festividad', 'provocó', 'ceuta', 'mayor', 'manifestación', 'años', 'siglo', 'pasado', 'moción', 'fácil', 'nunca', 'moción', 'censura', 'justificación', 'oficial', 'fácil', 'tránsfuga', 'vivas', 'prometió', 'pactar', 'vox', 'hecho', 'quebrando', 'convivencia', 'estabilidad', 'asegura', 'veterano', 'política', 'local', 'operación', 'psoe', 'niega', 'oficialmente', 'impulsar', 'haciendo', 'solo', 'afirma', 'desconocer', 'propio', 'ejecutivo', 'cuya', 'reunión', 'ordinaria', 'viernes', 'acudió', 'consejera', 'asuntos', 'sociales', 'pedido', 'día', 'libre', 'presiones', 'excusó', 'compañero', 'portavoz', 'alberto', 'gaitán', 'reglamento', 'cámara', 'autonómica', 'exige', 'moción', 'censura', 'propongan', 'menos', 'diputados', 'distribución', 'actual', 'solo', 'deberían', 'firmarla', 'socialistas', 'visto', 'bueno', 'dirección', 'federal', 'tres', 'localistas', 'mdyc', 'caballas', 'dos', 'diputados', 'adscritos', 'vox', 'hace', 'falta', 'rebele', 'alguien', 'fuentes', 'gobierno', 'juan', 'vivas', 'aseguran', 'eldiario', 'reclutamiento', 'decimotercera', 'firma', 'esgrimido', 'tipo', 'elementos', 'presión', 'situación', 'económica', 'personal', 'causas', 'judiciales', 'ajenas', 'política', 'publicadas', 'hacer', 'descarrillar', 'entente', 'vox', 'moción', 'estrafalaria', 'fascismo', 'apoyaría', 'primera', 'reconoce', 'tentados', 'oposición', 'segura', 'adhesión', 'miembros', 'vivas', 'rompe', 'vox', 'ideológicamente', 'antípodas', 'cree', 'ciudad', 'vendría', 'bien', 'cambio', 'aires', 'admite', 'nadie', 'agradecería', 'verme', 'brete', 'dijeron', 'firmaría', 'viernes', 'lunes', 'añade', 'tercero', 'identifica', 'abogado', 'muñidor', 'directo', 'contactos', 'psoe', 'cuya', 'ejecutiva', 'regional', 'abierto', 'enfrentamiento', 'hace', 'meses', 'delegación', 'gobierno', 'socialista', 'nombrada', 'ejecutivo', 'pedro', 'sánchez', 'interpretan', 'consumarse', 'operación', 'solo', 'beneficiaría', 'actuales', 'responsables', 'orgánicos', 'partido', 'intentar', 'sofocar', 'incendio', 'político', 'mantenido', 'últimas', 'horas', 'gobierno', 'alambre', 'dunia', 'mohamed', 'asegurado', 'lunes', 'declaración', 'institucional', 'vídeo', 'segundos', 'ser', 'diputada', 'abandone', 'partido', 'firmado', 'firmaré', 'moción', 'censura', 'dice', 'jamás', 'traicionaré', 'confiado', 'zanja', 'presidente', 'ceuta', 'juan', 'vivas', 'consejeras', 'musulmanas', 'gobierno', 'dunia', 'mohamed', 'gonzalo', 'testa', 'asamblea', 'ceuta', 'citada', 'miércoles', 'votar', 'calendario', 'laboral', 'solo', 'vox', 'abogan', 'seguir', 'dejando', 'pascua', 'fin', 'ramadán', 'asunto', 'socialmente', 'sensible', 'pondrá', 'prueba', 'cohesión', 'unidad', 'presume', 'ejecutivo', 'etiquetas', 'política', 'racismo', 'racismo']\n",
      "['gobierno', 'alegado', 'suspensión', 'plazos', 'derivada', 'declaración', 'alarma', 'dar', 'datos', 'centros', 'internamiento', 'extranjeros', 'cie', 'servicio', 'jesuita', 'migrantes', 'sjm', 'pidió', 'enero', 'así', 'denunciado', 'martes', 'entidad', 'presentación', 'informe', 'realiza', 'hace', 'diez', 'años', 'situación', 'centros', 'directora', 'fundación', 'migrastudium', 'sjm', 'barcelona', 'maría', 'carmen', 'fuentes', 'exigido', 'transparencia', 'ejecutivo', 'psoe', 'unidas', 'podemos', 'además', 'reclamarle', 'cierre', 'definitivo', 'cie', 'siguen', 'internos', 'debido', 'imposibilidad', 'deportarles', 'cierre', 'fronteras', 'decretó', 'crisis', 'coronavirus', 'sjm', 'pidió', 'enero', 'datos', 'cie', 'portal', 'transparencia', 'transcurrido', 'plazo', 'dos', 'meses', 'marca', 'ley', 'acceso', 'información', 'entidad', 'obtenido', 'respuesta', 'interesó', 'tardanza', 'datos', 'transparencia', 'adujo', 'plazos', 'responder', 'encontraban', 'suspendidos', 'declaración', 'alarma', 'finalizado', 'alarma', 'sjm', 'tampoco', 'datos', 'sjm', 'obtenido', 'datos', 'informe', 'año', 'través', 'respuesta', 'parlamentaria', 'ministerio', 'interior', 'parlamentario', 'bildu', 'jon', 'iñarritu', 'así', 'casi', 'visitas', 'entidad', 'realizó', 'cie', 'madrid', 'barcelona', 'valencia', 'algeciras', 'tarifa', 'según', 'datos', 'interior', 'cie', 'toda', 'españa', 'registraron', 'cifra', 'internos', 'baja', 'últimos', 'diez', 'años', 'personas', 'menos', 'año', 'anterior', 'sjm', 'explica', 'descenso', 'menor', 'presión', 'migratoria', 'frontera', 'sur', 'nueva', 'política', 'llenar', 'centros', 'cierre', 'cie', 'gran', 'canaria', 'total', 'personas', 'permanecían', 'cie', 'repatriadas', 'mientras', 'puestas', 'libertad', 'sjm', 'constata', 'además', 'tras', 'visitar', 'miles', 'internos', 'asistencia', 'sanitaria', 'alimentación', 'deficiente', 'cie', 'varios', 'internos', 'presentan', 'consumo', 'excesivo', 'ansiolíticos', 'trato', 'degradante', 'policías', 'varios', 'internos', 'actuaciones', 'sido', 'denunciadas', 'juzgados', 'tal', 'puso', 'manifiesto', 'informe', 'mecanismo', 'nacional', 'prevención', 'tortura', 'defensor', 'pueblo', 'sjm', 'constata', 'persisten', 'internamientos', 'menores', 'cie', 'españoles', 'pese', 'prohibidos', 'ley', 'sjm', 'detectó', 'posibles', 'menores', 'internados', 'mientras', 'defensor', 'pueblo', 'constató', 'destaca', 'especial', 'caso', 'cinco', 'menores', 'internados', 'cie', 'barcelona', 'grupo', 'once', 'posibles', 'menores', 'migrastudium', 'puso', 'alerta', 'situación', 'centro', 'juez', 'vigilancia', 'fiscalía', 'defensor', 'pueblo', 'tildó', 'preocupante', 'presencia', 'menores', 'centro', 'consideró', 'indicativo', 'inadecuado', 'funcionamiento', 'mecanismos', 'detección', 'menores', 'internos', 'sjm', 'visitó', 'barcelona', 'menores', 'años', 'sido', 'tutelados', 'generalitat', 'menores', 'cumplir', 'encontrado', 'calle', 'sido', 'detenidos', 'enviados', 'cie', 'menores', 'llegan', 'reconocidos', 'menores', 'tutelados', 'luego', 'años', 'encontramos', 'cie', 'punto', 'ser', 'expulsados', 'escándalo', 'afirmado', 'abogado', 'migrastudium', 'josé', 'javier', 'ordoñez', 'conjunto', 'según', 'datos', 'fiscalía', 'extranjería', 'barcelona', 'centro', 'capital', 'catalana', 'detectaron', 'año', 'pasado', 'menores', 'alegaron', 'cie', 'barcelona', 'ingresos', 'menos', 'internos', 'antecedentes', 'penales', 'tramitaron', 'peticiones', 'asilo', 'solicitadas', 'etiquetas', 'catalunya']\n"
     ]
    }
   ],
   "source": [
    "for x in clean_doc[0:3]:\n",
    "  print(x)"
   ]
  },
  {
   "attachments": {},
   "cell_type": "markdown",
   "metadata": {},
   "source": [
    "### 3. ¿Por qué en este caso no requerimos hacer una partición en entrenamiento, validación y prueba?"
   ]
  },
  {
   "attachments": {},
   "cell_type": "markdown",
   "metadata": {},
   "source": [
    "En esta actividad no se va a entrenar un modelo de clasificación, sino que se va a realizar un análisis para extraer el tema o temas de un texto. Dicho análisis se realiza con modelos no supervisados, por lo que no se requiere de una partición en entrenamiento, validación y prueba."
   ]
  },
  {
   "attachments": {},
   "cell_type": "markdown",
   "metadata": {},
   "source": [
    "## Parte 1: Indexación semántica latente (LSI)"
   ]
  },
  {
   "attachments": {},
   "cell_type": "markdown",
   "metadata": {},
   "source": [
    "### 4. Matriz Tf-Idf\n",
    "Encontrar la matriz Tf-idf de la columna de noticias. Despliega los primeros 5 renglones con algunas de sus columnas con sus nombres, donde las columnas son los tokens."
   ]
  },
  {
   "cell_type": "code",
   "execution_count": 7,
   "metadata": {},
   "outputs": [],
   "source": [
    "from collections import Counter\n",
    "from sklearn.feature_extraction.text import TfidfVectorizer "
   ]
  },
  {
   "cell_type": "code",
   "execution_count": 8,
   "metadata": {},
   "outputs": [],
   "source": [
    "# Construimos vocabulario de palabras con base al conteo de tokens\n",
    "midiccionario = Counter()\n",
    "\n",
    "for k in range(len(clean_doc)):\n",
    "  midiccionario.update(clean_doc[k])"
   ]
  },
  {
   "cell_type": "code",
   "execution_count": 9,
   "metadata": {},
   "outputs": [
    {
     "name": "stdout",
     "output_type": "stream",
     "text": [
      "Longitud del diccionario: 100089\n",
      "[('gobierno', 10326), ('años', 7545), ('dos', 7400), ('personas', 7068), ('coronavirus', 6787), ('ser', 6652), ('madrid', 6173), ('según', 6050), ('españa', 6014), ('parte', 5957)]\n"
     ]
    }
   ],
   "source": [
    "print('Longitud del diccionario:', len(midiccionario))  \n",
    "print(midiccionario.most_common(10)) "
   ]
  },
  {
   "cell_type": "code",
   "execution_count": 10,
   "metadata": {},
   "outputs": [
    {
     "name": "stdout",
     "output_type": "stream",
     "text": [
      "españa dejado ser católica decía manuel azaña comienzo segunda república aquel congreso diputados aprobó leyes laicistas metáfora dejó ser católica papel ley creencias buena parte pueblo migración integración europea programa vox europa saber españa domingo noviembre dejado ser excepción europa potencia extrema derecha parlamento metáfora pues precisamente excepcional tener dictadura mediados setenta dictador aún mausoleo después años muerto existía tal cosa portugal grecia italia alemania países dictaduras fascistas españa pasó portugal italia alemania derrotó fascismo franquismo murió cama harakiri cortes franquistas ruptura régimen sino reforma nació nuevo país sino país mutó ley ley aun así españa parecía vacunada años franquismo sido bastantes llegado irrupción posfranquismo tras ser actores fundamentales gobiernos autonómicos locales ciudadanos españa dejado ser excepción aunque alianza popular manuel fraga bebiera franquismo sociológico fuerza nueva blas piñar búnker franquista aunque franquismo sociológico mantuviera largo tiempos aunque vox escisión propio aunque así cierto nunca ahora españa reinstauración democrática existido fuerza extrema derecha votos escaños fenómeno pasado pasando países europeos aunque opere españa polarización eje nacional crisis catalunya ejemplo mejores amigos vox europa grupo ecr parlamento europeo partido gobernante ultracatólico polaco pis supera votos principales referentes extrema derecha europea marine pen matteo salvini apresurado felicitar santiago abascal presentan números superiores vox pen sacó últimas europeas salvini extrema derecha austriaca sacó hace mes medio legislativas incluso después crisis financiación rusa eje amplio extrema derecha europea suele situar gobernantes húngaros fidesz víktor orban suspendidos partido popular europeo cuyo grupo parlamentario eurocámara siguen perteneciendo lograron mayo pasado efecto vox aún escalón escalón deja encima clásicos extrema derecha europea alemanes afd subcampeones nder alemanes mayo quedaron debajo generales encima geert wilders sacó legislativas holandesas despeñarse europeas menos así vox llega lograron demócratas suecia europeas dos puntos menos generales septiembre duplica sumaron solución griega aurora dorada elecciones grecia julio pasado dos puntos partido finlandesas quedó tres décimas ganar elecciones finlandesas abril pasado etiquetas internacional vox extrema derecha europa\n",
      "clima crispación social ceuta llegado punto precedentes entrada vox asamblea ceuta consolidación soporte externo gobierno juan vivas tras seis meses fallida alianza psoe difusión pública mensajes audios xenófobos privados supuestamente líderes formación extrema derecha llevado ejecutivo autonómico borde abismo suma cancelación pascua islámica sacrificio justificada pandemia coronavirus ciudad población musulmana situación recuerda vivida hace dos décadas través sendas mociones censura gil logró primero hacerse presidencia ciudad recuperarla mano psoe tras veinte años gobernando diputados asamblea vivas perdió primera vez mayo mayoría absoluta encontró oposición psoe siete escaños vox seis dos formaciones localistas mdyc caballas dos respectivamente campaña electoral vivas abjuró expresamente abascal afines podemos dos maneras equivalentes manipular sentimiento religioso ceutíes ponen peligro convivencia estabilidad vivas comenzó legislatura gobernando solitario apoyo externo psoe cuadros socialistas puestos segundo tercer escalafón ejecutivo así siguió rompió socialistas fiables hora garantizar estabilidad ciudad justificó vivas pasó apoyarse vox partido extrema derecha vez cargos exigió dejar subvencionar oenegés feministas dedicadas atender enfermos foráneos peticiones razonables cuyo cumplimiento permitió gobierno sacar presupuestos ciudad pasado enero solo día holgada mayoría vox perdido dos diputados última formación tras divulgación multitud mensajes whatsapp supuestamente líderes extrema derecha ceuta auguraban iii guerra mundial comenzar algún día islam repudiaban españoles digan tragar moros cojones asumían tras batalla electoral extraño tener combatir militarmente mensaje whatsapp atribuido presidente vox ceuta juan sergio redondo mayoría justa entonces escaños favor gobierno vivas digerir siete meses mayor manifestación convocada ceuta ochenta febrero recorrió ciudad personas inmensa mayoría comunidad musulmana población local publicación distintos improperios judíos hindúes dos comunidades gran peso económico social ciudad principios junio medios recuperaron tuit febrero diputado vox vicepresidente mesa rectora asamblea policía nacional excedencia francisco ruiz exaltando disgusto comunidad israelita local héroes división azul combatido junto nazis leningrado tinglaítos moritos gentuza últimas dos semanas multiplicado filtraciones audios diputado miembro orden temple presidente vox ceuta juan sergio redondo primero comunidad hindú cuyos miembros consejera hacienda kissy chandiramani sacar pasear elefante referencia deidad ganesh fiesta colores holi tal puta vida viene viene gilipollas juan vivas empieza rollito multiculturalidad celebración holi hindú ceuta imagen ganesh fondo gonzalo testa después escolarización niños musulmanes ojalá pudiera volver hace años día metieron tres primeros moritos clase vino maestra darnos charla convivencia haberle dicho momento hija gran puta sabes metiendo encima propio presidente equipo responsables vox ceuta conoce nadie ningún tipo pasado punto comparación sinvergüenzas juan vivas toda gentuza colocada directores generales viceconsejeros vox nunca negado categóricamente mensajes audios sido escritos dichos responsables denunciado policía medios locales publicado dos antiguos miembros ejecutiva presuntos delitos acoso chantaje extorsión continuada vulneración derechos honor intimidad derecho propia imagen difícilmente supuesta conversación privada puede jamás resistir publicidad máxime surge robo chantaje extorsión burda manipulación alegado redondo alerta filtraciones solo buscan vox facilite acceso publicidad institucional derrocar gobierno rechazado exabruptos tibieza vox vox partido popular partido popular problema ejecutivo vivas terminan ahí prohibición pandemia dar muerte animales próximo julio ciudad pascua islámica sacrificio festivo laboral ceuta mayoría convirtió primero católico establecido españa exacerbado clima crispación social inaudito tensado borde ruptura mapa fuerzas asamblea imagen manifestación pasado febrero cancelación pascua sacrificio gonzalo testa gobierno local reconocido menos dos consejeros dos musulmanes yamal dris servicios urbanos dunia mohamed asuntos sociales soportan fuertes injustas despiadadas presiones generan situación lamentable punto vista personal profesional ciudad ningún partido comparte vox minutos silencio víctimas violencia intrafamiliar acordaron llamarla anulación parte festividad provocó ceuta mayor manifestación años siglo pasado moción fácil nunca moción censura justificación oficial fácil tránsfuga vivas prometió pactar vox hecho quebrando convivencia estabilidad asegura veterano política local operación psoe niega oficialmente impulsar haciendo solo afirma desconocer propio ejecutivo cuya reunión ordinaria viernes acudió consejera asuntos sociales pedido día libre presiones excusó compañero portavoz alberto gaitán reglamento cámara autonómica exige moción censura propongan menos diputados distribución actual solo deberían firmarla socialistas visto bueno dirección federal tres localistas mdyc caballas dos diputados adscritos vox hace falta rebele alguien fuentes gobierno juan vivas aseguran eldiario reclutamiento decimotercera firma esgrimido tipo elementos presión situación económica personal causas judiciales ajenas política publicadas hacer descarrillar entente vox moción estrafalaria fascismo apoyaría primera reconoce tentados oposición segura adhesión miembros vivas rompe vox ideológicamente antípodas cree ciudad vendría bien cambio aires admite nadie agradecería verme brete dijeron firmaría viernes lunes añade tercero identifica abogado muñidor directo contactos psoe cuya ejecutiva regional abierto enfrentamiento hace meses delegación gobierno socialista nombrada ejecutivo pedro sánchez interpretan consumarse operación solo beneficiaría actuales responsables orgánicos partido intentar sofocar incendio político mantenido últimas horas gobierno alambre dunia mohamed asegurado lunes declaración institucional vídeo segundos ser diputada abandone partido firmado firmaré moción censura dice jamás traicionaré confiado zanja presidente ceuta juan vivas consejeras musulmanas gobierno dunia mohamed gonzalo testa asamblea ceuta citada miércoles votar calendario laboral solo vox abogan seguir dejando pascua fin ramadán asunto socialmente sensible pondrá prueba cohesión unidad presume ejecutivo etiquetas política racismo racismo\n",
      "gobierno alegado suspensión plazos derivada declaración alarma dar datos centros internamiento extranjeros cie servicio jesuita migrantes sjm pidió enero así denunciado martes entidad presentación informe realiza hace diez años situación centros directora fundación migrastudium sjm barcelona maría carmen fuentes exigido transparencia ejecutivo psoe unidas podemos además reclamarle cierre definitivo cie siguen internos debido imposibilidad deportarles cierre fronteras decretó crisis coronavirus sjm pidió enero datos cie portal transparencia transcurrido plazo dos meses marca ley acceso información entidad obtenido respuesta interesó tardanza datos transparencia adujo plazos responder encontraban suspendidos declaración alarma finalizado alarma sjm tampoco datos sjm obtenido datos informe año través respuesta parlamentaria ministerio interior parlamentario bildu jon iñarritu así casi visitas entidad realizó cie madrid barcelona valencia algeciras tarifa según datos interior cie toda españa registraron cifra internos baja últimos diez años personas menos año anterior sjm explica descenso menor presión migratoria frontera sur nueva política llenar centros cierre cie gran canaria total personas permanecían cie repatriadas mientras puestas libertad sjm constata además tras visitar miles internos asistencia sanitaria alimentación deficiente cie varios internos presentan consumo excesivo ansiolíticos trato degradante policías varios internos actuaciones sido denunciadas juzgados tal puso manifiesto informe mecanismo nacional prevención tortura defensor pueblo sjm constata persisten internamientos menores cie españoles pese prohibidos ley sjm detectó posibles menores internados mientras defensor pueblo constató destaca especial caso cinco menores internados cie barcelona grupo once posibles menores migrastudium puso alerta situación centro juez vigilancia fiscalía defensor pueblo tildó preocupante presencia menores centro consideró indicativo inadecuado funcionamiento mecanismos detección menores internos sjm visitó barcelona menores años sido tutelados generalitat menores cumplir encontrado calle sido detenidos enviados cie menores llegan reconocidos menores tutelados luego años encontramos cie punto ser expulsados escándalo afirmado abogado migrastudium josé javier ordoñez conjunto según datos fiscalía extranjería barcelona centro capital catalana detectaron año pasado menores alegaron cie barcelona ingresos menos internos antecedentes penales tramitaron peticiones asilo solicitadas etiquetas catalunya\n"
     ]
    }
   ],
   "source": [
    "# Convertimos cada renglón en un solo string\n",
    "\n",
    "clean_doc = [' '.join(x) for x in clean_doc] \n",
    "\n",
    "# Observamos los primeros 3 renglones\n",
    "for k in range(3):\n",
    "  print(clean_doc[k])"
   ]
  },
  {
   "cell_type": "code",
   "execution_count": 11,
   "metadata": {},
   "outputs": [
    {
     "name": "stdout",
     "output_type": "stream",
     "text": [
      "      españa    dejado       ser   católica     decía    manuel     azaña  \\\n",
      "0  13.661420  9.529243  8.220060  11.060257  3.835868  6.611896  7.338417   \n",
      "1   1.951631  0.000000  1.644012   0.000000  0.000000  0.000000  0.000000   \n",
      "2   1.951631  0.000000  1.644012   0.000000  0.000000  0.000000  0.000000   \n",
      "3   0.000000  0.000000  4.932036   0.000000  0.000000  3.305948  0.000000   \n",
      "4   0.000000  0.000000  1.644012   0.000000  0.000000  0.000000  0.000000   \n",
      "\n",
      "   comienzo  segunda  república  ...  cicala  venerd  anarchici  mainl  \\\n",
      "0  4.327796  2.83528   4.308284  ...     0.0     0.0        0.0    0.0   \n",
      "1  0.000000  0.00000   0.000000  ...     0.0     0.0        0.0    0.0   \n",
      "2  0.000000  0.00000   0.000000  ...     0.0     0.0        0.0    0.0   \n",
      "3  0.000000  0.00000   0.000000  ...     0.0     0.0        0.0    0.0   \n",
      "4  0.000000  0.00000   0.000000  ...     0.0     0.0        0.0    0.0   \n",
      "\n",
      "   hartmann  polvorientos  aqueos  iliada  rebajarla  adaya  \n",
      "0       0.0           0.0     0.0     0.0        0.0    0.0  \n",
      "1       0.0           0.0     0.0     0.0        0.0    0.0  \n",
      "2       0.0           0.0     0.0     0.0        0.0    0.0  \n",
      "3       0.0           0.0     0.0     0.0        0.0    0.0  \n",
      "4       0.0           0.0     0.0     0.0        0.0    0.0  \n",
      "\n",
      "[5 rows x 100089 columns]\n"
     ]
    }
   ],
   "source": [
    "# Obtenemos nuestro vocabulario de tokens\n",
    "vocab = list(midiccionario.keys())\n",
    "\n",
    "# Creamos instancia de TfidfVectorizer con nuestro vocabulario\n",
    "tfidfvectorizer = TfidfVectorizer(vocabulary=vocab, norm=None)\n",
    "\n",
    "matriz_tfidf = tfidfvectorizer.fit_transform(clean_doc)\n",
    "\n",
    "tfidf_tokens = tfidfvectorizer.get_feature_names_out()\n",
    "df_tfidf = pd.DataFrame(data = matriz_tfidf.toarray(), columns = tfidf_tokens)\n",
    "\n",
    "print(df_tfidf.iloc[0:5, 0:])"
   ]
  },
  {
   "attachments": {},
   "cell_type": "markdown",
   "metadata": {},
   "source": [
    "**¿Cuál es el significado de cada renglón?** \n",
    "\n",
    "Cada renglón en nuestra matriz tf-idf representa el cuerpo de una noticia, o bien, cada renglón es un documento.\n",
    "\n",
    "**¿Y el significado de cada columna?**\n",
    "\n",
    "Cada columna representa un token, es decir, una palabra que aparece en el cuerpo de las noticias. El número de columnas es igual al número de tokens que aparecen en todos los documentos."
   ]
  },
  {
   "attachments": {},
   "cell_type": "markdown",
   "metadata": {},
   "source": [
    "### 5. Descomposición en valores singulares (SVD)\n",
    "Aplica el método de descomposición de valores singulares truncado a la matriz Tf-idf anterior con 10 componentes y obtener el gráfico de la importancia relativa de estas."
   ]
  },
  {
   "cell_type": "code",
   "execution_count": 45,
   "metadata": {},
   "outputs": [],
   "source": [
    "from sklearn.decomposition import TruncatedSVD\n",
    "import seaborn as sns\n",
    "import matplotlib.pyplot as plt"
   ]
  },
  {
   "cell_type": "code",
   "execution_count": 36,
   "metadata": {},
   "outputs": [
    {
     "data": {
      "text/plain": [
       "(5658, 10)"
      ]
     },
     "execution_count": 36,
     "metadata": {},
     "output_type": "execute_result"
    }
   ],
   "source": [
    "num_comp = 10\n",
    "\n",
    "SVD = TruncatedSVD(n_components=num_comp, n_iter=100, random_state=42)\n",
    "sv_mtx = SVD.fit_transform(matriz_tfidf) \n",
    "\n",
    "Sigma = SVD.singular_values_\n",
    "sv_mtx.shape"
   ]
  },
  {
   "cell_type": "code",
   "execution_count": 46,
   "metadata": {},
   "outputs": [
    {
     "data": {
      "image/png": "[encoded data removed]",
      "text/plain": [
       "<Figure size 720x360 with 1 Axes>"
      ]
     },
     "metadata": {},
     "output_type": "display_data"
    }
   ],
   "source": [
    "sns.set(rc={'figure.figsize':(10, 5)})\n",
    "chart = sns.barplot(x=list(range(len(Sigma))), y=Sigma)\n",
    "chart.set_xlabel('Componente Latente', fontdict={'size': 14})\n",
    "chart.set_ylabel('Importancia Relativa de Cada Componente', fontdict={'size': 12})\n",
    "plt.show()"
   ]
  },
  {
   "attachments": {},
   "cell_type": "markdown",
   "metadata": {},
   "source": [
    "### 6. Obtener la matriz tokens-temas (term-topic) a partir de la matriz 𝑉T de la descomposición SVD.\n",
    "Despliega sus primeros 5 renglones donde se incluya el nombre de las columnas."
   ]
  },
  {
   "cell_type": "code",
   "execution_count": 50,
   "metadata": {},
   "outputs": [
    {
     "data": {
      "text/plain": [
       "(100089, 10)"
      ]
     },
     "execution_count": 50,
     "metadata": {},
     "output_type": "execute_result"
    }
   ],
   "source": [
    "# Obtener la matriz V.T\n",
    "V_T = SVD.components_.T\n",
    "\n",
    "term_topic = V_T\n",
    "term_topic.shape"
   ]
  },
  {
   "cell_type": "code",
   "execution_count": 58,
   "metadata": {},
   "outputs": [
    {
     "name": "stdout",
     "output_type": "stream",
     "text": [
      "(100089, 10)\n"
     ]
    }
   ],
   "source": [
    "# Obtener los nombres de los términos\n",
    "term_names = list(tfidfvectorizer.get_feature_names_out())\n",
    "\n",
    "# Construir dataframe de la matriz term-topic\n",
    "term_topic_mtx = pd.DataFrame(data=term_topic, index=term_names, \n",
    "                              columns=['Concepto_Latente_'+str(i) for i in range(0, num_comp)])\n",
    "\n",
    "print(term_topic_mtx.shape)"
   ]
  },
  {
   "cell_type": "code",
   "execution_count": 59,
   "metadata": {},
   "outputs": [
    {
     "data": {
      "text/html": [
       "<div>\n",
       "<style scoped>\n",
       "    .dataframe tbody tr th:only-of-type {\n",
       "        vertical-align: middle;\n",
       "    }\n",
       "\n",
       "    .dataframe tbody tr th {\n",
       "        vertical-align: top;\n",
       "    }\n",
       "\n",
       "    .dataframe thead th {\n",
       "        text-align: right;\n",
       "    }\n",
       "</style>\n",
       "<table border=\"1\" class=\"dataframe\">\n",
       "  <thead>\n",
       "    <tr style=\"text-align: right;\">\n",
       "      <th></th>\n",
       "      <th>Concepto_Latente_0</th>\n",
       "      <th>Concepto_Latente_1</th>\n",
       "      <th>Concepto_Latente_2</th>\n",
       "      <th>Concepto_Latente_3</th>\n",
       "      <th>Concepto_Latente_4</th>\n",
       "      <th>Concepto_Latente_5</th>\n",
       "      <th>Concepto_Latente_6</th>\n",
       "      <th>Concepto_Latente_7</th>\n",
       "      <th>Concepto_Latente_8</th>\n",
       "      <th>Concepto_Latente_9</th>\n",
       "    </tr>\n",
       "  </thead>\n",
       "  <tbody>\n",
       "    <tr>\n",
       "      <th>españa</th>\n",
       "      <td>0.092164</td>\n",
       "      <td>-0.007174</td>\n",
       "      <td>-0.002378</td>\n",
       "      <td>-0.054059</td>\n",
       "      <td>0.028084</td>\n",
       "      <td>0.014302</td>\n",
       "      <td>-0.002177</td>\n",
       "      <td>-0.001419</td>\n",
       "      <td>-0.026396</td>\n",
       "      <td>-0.016163</td>\n",
       "    </tr>\n",
       "    <tr>\n",
       "      <th>dejado</th>\n",
       "      <td>0.016543</td>\n",
       "      <td>-0.002355</td>\n",
       "      <td>-0.004313</td>\n",
       "      <td>-0.006347</td>\n",
       "      <td>0.001586</td>\n",
       "      <td>-0.000192</td>\n",
       "      <td>-0.002542</td>\n",
       "      <td>0.006867</td>\n",
       "      <td>-0.000281</td>\n",
       "      <td>-0.004753</td>\n",
       "    </tr>\n",
       "    <tr>\n",
       "      <th>ser</th>\n",
       "      <td>0.086672</td>\n",
       "      <td>0.004549</td>\n",
       "      <td>0.007282</td>\n",
       "      <td>0.018572</td>\n",
       "      <td>-0.013114</td>\n",
       "      <td>-0.051896</td>\n",
       "      <td>0.021869</td>\n",
       "      <td>-0.022062</td>\n",
       "      <td>-0.041927</td>\n",
       "      <td>-0.007556</td>\n",
       "    </tr>\n",
       "    <tr>\n",
       "      <th>católica</th>\n",
       "      <td>0.003085</td>\n",
       "      <td>-0.000337</td>\n",
       "      <td>-0.003085</td>\n",
       "      <td>0.000060</td>\n",
       "      <td>-0.000988</td>\n",
       "      <td>-0.004175</td>\n",
       "      <td>0.001293</td>\n",
       "      <td>-0.004966</td>\n",
       "      <td>-0.002476</td>\n",
       "      <td>-0.000313</td>\n",
       "    </tr>\n",
       "    <tr>\n",
       "      <th>decía</th>\n",
       "      <td>0.013632</td>\n",
       "      <td>-0.000755</td>\n",
       "      <td>-0.013170</td>\n",
       "      <td>0.001722</td>\n",
       "      <td>0.001238</td>\n",
       "      <td>-0.005899</td>\n",
       "      <td>0.000345</td>\n",
       "      <td>-0.003411</td>\n",
       "      <td>-0.014538</td>\n",
       "      <td>0.001548</td>\n",
       "    </tr>\n",
       "  </tbody>\n",
       "</table>\n",
       "</div>"
      ],
      "text/plain": [
       "          Concepto_Latente_0  Concepto_Latente_1  Concepto_Latente_2  \\\n",
       "españa              0.092164           -0.007174           -0.002378   \n",
       "dejado              0.016543           -0.002355           -0.004313   \n",
       "ser                 0.086672            0.004549            0.007282   \n",
       "católica            0.003085           -0.000337           -0.003085   \n",
       "decía               0.013632           -0.000755           -0.013170   \n",
       "\n",
       "          Concepto_Latente_3  Concepto_Latente_4  Concepto_Latente_5  \\\n",
       "españa             -0.054059            0.028084            0.014302   \n",
       "dejado             -0.006347            0.001586           -0.000192   \n",
       "ser                 0.018572           -0.013114           -0.051896   \n",
       "católica            0.000060           -0.000988           -0.004175   \n",
       "decía               0.001722            0.001238           -0.005899   \n",
       "\n",
       "          Concepto_Latente_6  Concepto_Latente_7  Concepto_Latente_8  \\\n",
       "españa             -0.002177           -0.001419           -0.026396   \n",
       "dejado             -0.002542            0.006867           -0.000281   \n",
       "ser                 0.021869           -0.022062           -0.041927   \n",
       "católica            0.001293           -0.004966           -0.002476   \n",
       "decía               0.000345           -0.003411           -0.014538   \n",
       "\n",
       "          Concepto_Latente_9  \n",
       "españa             -0.016163  \n",
       "dejado             -0.004753  \n",
       "ser                -0.007556  \n",
       "católica           -0.000313  \n",
       "decía               0.001548  "
      ]
     },
     "execution_count": 59,
     "metadata": {},
     "output_type": "execute_result"
    }
   ],
   "source": [
    "# Imprimir los primeros 5 renglones\n",
    "term_topic_mtx.head(5)"
   ]
  }
 ],
 "metadata": {
  "kernelspec": {
   "display_name": "Python 3",
   "language": "python",
   "name": "python3"
  },
  "language_info": {
   "codemirror_mode": {
    "name": "ipython",
    "version": 3
   },
   "file_extension": ".py",
   "mimetype": "text/x-python",
   "name": "python",
   "nbconvert_exporter": "python",
   "pygments_lexer": "ipython3",
   "version": "3.10.1"
  },
  "orig_nbformat": 4
 },
 "nbformat": 4,
 "nbformat_minor": 2
}
