{
 "cells": [
  {
   "attachments": {},
   "cell_type": "markdown",
   "metadata": {},
   "source": [
    "## Modelado de Temas : LSI / LDA"
   ]
  },
  {
   "cell_type": "code",
   "execution_count": 1,
   "metadata": {},
   "outputs": [],
   "source": [
    "import pandas as pd \n",
    "import numpy as np \n",
    "import re\n",
    "import nltk\n",
    "from nltk.corpus import stopwords "
   ]
  },
  {
   "attachments": {},
   "cell_type": "markdown",
   "metadata": {},
   "source": [
    "### 1. Cargar el archivo\n",
    "Genera un DataFrame de Pandas llamado “df” y que contiene una única columna llamada “noticia” con 5658 renglones formados por los cuerpos de las noticias."
   ]
  },
  {
   "cell_type": "code",
   "execution_count": 82,
   "metadata": {},
   "outputs": [],
   "source": [
    "dfn = pd.read_json('noticiasTopicModeling.txt', lines=False, encoding='utf-8')\n",
    "\n",
    "df = dfn[['texto']].copy()\n",
    "df.rename(columns={'texto':'noticia'}, inplace=True)"
   ]
  },
  {
   "cell_type": "code",
   "execution_count": 83,
   "metadata": {},
   "outputs": [
    {
     "name": "stdout",
     "output_type": "stream",
     "text": [
      "(5658, 1)\n"
     ]
    },
    {
     "data": {
      "text/html": [
       "<div>\n",
       "<style scoped>\n",
       "    .dataframe tbody tr th:only-of-type {\n",
       "        vertical-align: middle;\n",
       "    }\n",
       "\n",
       "    .dataframe tbody tr th {\n",
       "        vertical-align: top;\n",
       "    }\n",
       "\n",
       "    .dataframe thead th {\n",
       "        text-align: right;\n",
       "    }\n",
       "</style>\n",
       "<table border=\"1\" class=\"dataframe\">\n",
       "  <thead>\n",
       "    <tr style=\"text-align: right;\">\n",
       "      <th></th>\n",
       "      <th>noticia</th>\n",
       "    </tr>\n",
       "  </thead>\n",
       "  <tbody>\n",
       "    <tr>\n",
       "      <th>0</th>\n",
       "      <td>\"España ha dejado de ser católica\", decía Manu...</td>\n",
       "    </tr>\n",
       "    <tr>\n",
       "      <th>1</th>\n",
       "      <td>El clima de crispación social en Ceuta ha lleg...</td>\n",
       "    </tr>\n",
       "    <tr>\n",
       "      <th>2</th>\n",
       "      <td>El Gobierno ha alegado la suspensión de plazos...</td>\n",
       "    </tr>\n",
       "    <tr>\n",
       "      <th>3</th>\n",
       "      <td>Puedes mandar tu pregunta, sugerencia o queja ...</td>\n",
       "    </tr>\n",
       "    <tr>\n",
       "      <th>4</th>\n",
       "      <td>Panamá debe entregar esta semana a la Corte In...</td>\n",
       "    </tr>\n",
       "  </tbody>\n",
       "</table>\n",
       "</div>"
      ],
      "text/plain": [
       "                                             noticia\n",
       "0  \"España ha dejado de ser católica\", decía Manu...\n",
       "1  El clima de crispación social en Ceuta ha lleg...\n",
       "2  El Gobierno ha alegado la suspensión de plazos...\n",
       "3  Puedes mandar tu pregunta, sugerencia o queja ...\n",
       "4  Panamá debe entregar esta semana a la Corte In..."
      ]
     },
     "execution_count": 83,
     "metadata": {},
     "output_type": "execute_result"
    }
   ],
   "source": [
    "print(df.shape)\n",
    "df.head()"
   ]
  },
  {
   "attachments": {},
   "cell_type": "markdown",
   "metadata": {},
   "source": [
    "### 2. Proceso de Limpieza "
   ]
  },
  {
   "cell_type": "code",
   "execution_count": 84,
   "metadata": {},
   "outputs": [],
   "source": [
    "# stopwords en español\n",
    "stops = stopwords.words('spanish')\n",
    "\n",
    "def clean_tok(doc):\n",
    "  # Elimina los signos de puntuación, caracteres especiales y números\n",
    "  tokens = re.sub(r'[^A-Za-záéíóúüñ\\s]', ' ', doc).strip()\n",
    "\n",
    "  # Elimina espacios en blanco adicionales y convierte a minúsculas\n",
    "  tokens = ' '.join(re.findall(r'\\b\\w+\\b', tokens.lower()))\n",
    "  \n",
    "  # Tokeniza por palabras, elimina stopwords y palabras de longitud menor a 2\n",
    "  tokens = [w for w in tokens.split() if w not in stops and len(w) > 2]\n",
    "\n",
    "  return tokens"
   ]
  },
  {
   "cell_type": "code",
   "execution_count": 85,
   "metadata": {},
   "outputs": [],
   "source": [
    "clean_doc = [clean_tok(str(x)) for x in df['noticia']]"
   ]
  },
  {
   "cell_type": "code",
   "execution_count": 86,
   "metadata": {},
   "outputs": [
    {
     "name": "stdout",
     "output_type": "stream",
     "text": [
      "['españa', 'dejado', 'ser', 'católica', 'decía', 'manuel', 'azaña', 'comienzo', 'segunda', 'república', 'aquel', 'congreso', 'diputados', 'aprobó', 'leyes', 'laicistas', 'metáfora', 'dejó', 'ser', 'católica', 'papel', 'ley', 'creencias', 'buena', 'parte', 'pueblo', 'migración', 'integración', 'europea', 'programa', 'vox', 'europa', 'saber', 'españa', 'domingo', 'noviembre', 'dejado', 'ser', 'excepción', 'europa', 'potencia', 'extrema', 'derecha', 'parlamento', 'metáfora', 'pues', 'precisamente', 'excepcional', 'tener', 'dictadura', 'mediados', 'setenta', 'dictador', 'aún', 'mausoleo', 'después', 'años', 'muerto', 'existía', 'tal', 'cosa', 'portugal', 'grecia', 'italia', 'alemania', 'países', 'dictaduras', 'fascistas', 'españa', 'pasó', 'portugal', 'italia', 'alemania', 'derrotó', 'fascismo', 'franquismo', 'murió', 'cama', 'harakiri', 'cortes', 'franquistas', 'ruptura', 'régimen', 'sino', 'reforma', 'nació', 'nuevo', 'país', 'sino', 'país', 'mutó', 'ley', 'ley', 'aun', 'así', 'españa', 'parecía', 'vacunada', 'años', 'franquismo', 'sido', 'bastantes', 'llegado', 'irrupción', 'posfranquismo', 'tras', 'ser', 'actores', 'fundamentales', 'gobiernos', 'autonómicos', 'locales', 'ciudadanos', 'españa', 'dejado', 'ser', 'excepción', 'aunque', 'alianza', 'popular', 'manuel', 'fraga', 'bebiera', 'franquismo', 'sociológico', 'fuerza', 'nueva', 'blas', 'piñar', 'búnker', 'franquista', 'aunque', 'franquismo', 'sociológico', 'mantuviera', 'largo', 'tiempos', 'aunque', 'vox', 'escisión', 'propio', 'aunque', 'así', 'cierto', 'nunca', 'ahora', 'españa', 'reinstauración', 'democrática', 'existido', 'fuerza', 'extrema', 'derecha', 'votos', 'escaños', 'fenómeno', 'pasado', 'pasando', 'países', 'europeos', 'aunque', 'opere', 'españa', 'polarización', 'eje', 'nacional', 'crisis', 'catalunya', 'ejemplo', 'mejores', 'amigos', 'vox', 'europa', 'grupo', 'ecr', 'parlamento', 'europeo', 'partido', 'gobernante', 'ultracatólico', 'polaco', 'pis', 'supera', 'votos', 'principales', 'referentes', 'extrema', 'derecha', 'europea', 'marine', 'pen', 'matteo', 'salvini', 'apresurado', 'felicitar', 'santiago', 'abascal', 'presentan', 'números', 'superiores', 'vox', 'pen', 'sacó', 'últimas', 'europeas', 'salvini', 'extrema', 'derecha', 'austriaca', 'sacó', 'hace', 'mes', 'medio', 'legislativas', 'incluso', 'después', 'crisis', 'financiación', 'rusa', 'eje', 'amplio', 'extrema', 'derecha', 'europea', 'suele', 'situar', 'gobernantes', 'húngaros', 'fidesz', 'víktor', 'orban', 'suspendidos', 'partido', 'popular', 'europeo', 'cuyo', 'grupo', 'parlamentario', 'eurocámara', 'siguen', 'perteneciendo', 'lograron', 'mayo', 'pasado', 'efecto', 'vox', 'aún', 'escalón', 'escalón', 'deja', 'encima', 'clásicos', 'extrema', 'derecha', 'europea', 'alemanes', 'afd', 'subcampeones', 'nder', 'alemanes', 'mayo', 'quedaron', 'debajo', 'generales', 'encima', 'geert', 'wilders', 'sacó', 'legislativas', 'holandesas', 'despeñarse', 'europeas', 'menos', 'así', 'vox', 'llega', 'lograron', 'demócratas', 'suecia', 'europeas', 'dos', 'puntos', 'menos', 'generales', 'septiembre', 'duplica', 'sumaron', 'solución', 'griega', 'aurora', 'dorada', 'elecciones', 'grecia', 'julio', 'pasado', 'dos', 'puntos', 'partido', 'finlandesas', 'quedó', 'tres', 'décimas', 'ganar', 'elecciones', 'finlandesas', 'abril', 'pasado', 'etiquetas', 'internacional', 'vox', 'extrema', 'derecha', 'europa']\n",
      "['clima', 'crispación', 'social', 'ceuta', 'llegado', 'punto', 'precedentes', 'entrada', 'vox', 'asamblea', 'ceuta', 'consolidación', 'soporte', 'externo', 'gobierno', 'juan', 'vivas', 'tras', 'seis', 'meses', 'fallida', 'alianza', 'psoe', 'difusión', 'pública', 'mensajes', 'audios', 'xenófobos', 'privados', 'supuestamente', 'líderes', 'formación', 'extrema', 'derecha', 'llevado', 'ejecutivo', 'autonómico', 'borde', 'abismo', 'suma', 'cancelación', 'pascua', 'islámica', 'sacrificio', 'justificada', 'pandemia', 'coronavirus', 'ciudad', 'población', 'musulmana', 'situación', 'recuerda', 'vivida', 'hace', 'dos', 'décadas', 'través', 'sendas', 'mociones', 'censura', 'gil', 'logró', 'primero', 'hacerse', 'presidencia', 'ciudad', 'recuperarla', 'mano', 'psoe', 'tras', 'veinte', 'años', 'gobernando', 'diputados', 'asamblea', 'vivas', 'perdió', 'primera', 'vez', 'mayo', 'mayoría', 'absoluta', 'encontró', 'oposición', 'psoe', 'siete', 'escaños', 'vox', 'seis', 'dos', 'formaciones', 'localistas', 'mdyc', 'caballas', 'dos', 'respectivamente', 'campaña', 'electoral', 'vivas', 'abjuró', 'expresamente', 'abascal', 'afines', 'podemos', 'dos', 'maneras', 'equivalentes', 'manipular', 'sentimiento', 'religioso', 'ceutíes', 'ponen', 'peligro', 'convivencia', 'estabilidad', 'vivas', 'comenzó', 'legislatura', 'gobernando', 'solitario', 'apoyo', 'externo', 'psoe', 'cuadros', 'socialistas', 'puestos', 'segundo', 'tercer', 'escalafón', 'ejecutivo', 'así', 'siguió', 'rompió', 'socialistas', 'fiables', 'hora', 'garantizar', 'estabilidad', 'ciudad', 'justificó', 'vivas', 'pasó', 'apoyarse', 'vox', 'partido', 'extrema', 'derecha', 'vez', 'cargos', 'exigió', 'dejar', 'subvencionar', 'oenegés', 'feministas', 'dedicadas', 'atender', 'enfermos', 'foráneos', 'peticiones', 'razonables', 'cuyo', 'cumplimiento', 'permitió', 'gobierno', 'sacar', 'presupuestos', 'ciudad', 'pasado', 'enero', 'solo', 'día', 'holgada', 'mayoría', 'vox', 'perdido', 'dos', 'diputados', 'última', 'formación', 'tras', 'divulgación', 'multitud', 'mensajes', 'whatsapp', 'supuestamente', 'líderes', 'extrema', 'derecha', 'ceuta', 'auguraban', 'iii', 'guerra', 'mundial', 'comenzar', 'algún', 'día', 'islam', 'repudiaban', 'españoles', 'digan', 'tragar', 'moros', 'cojones', 'asumían', 'tras', 'batalla', 'electoral', 'extraño', 'tener', 'combatir', 'militarmente', 'mensaje', 'whatsapp', 'atribuido', 'presidente', 'vox', 'ceuta', 'juan', 'sergio', 'redondo', 'mayoría', 'justa', 'entonces', 'escaños', 'favor', 'gobierno', 'vivas', 'digerir', 'siete', 'meses', 'mayor', 'manifestación', 'convocada', 'ceuta', 'ochenta', 'febrero', 'recorrió', 'ciudad', 'personas', 'inmensa', 'mayoría', 'comunidad', 'musulmana', 'población', 'local', 'publicación', 'distintos', 'improperios', 'judíos', 'hindúes', 'dos', 'comunidades', 'gran', 'peso', 'económico', 'social', 'ciudad', 'principios', 'junio', 'medios', 'recuperaron', 'tuit', 'febrero', 'diputado', 'vox', 'vicepresidente', 'mesa', 'rectora', 'asamblea', 'policía', 'nacional', 'excedencia', 'francisco', 'ruiz', 'exaltando', 'disgusto', 'comunidad', 'israelita', 'local', 'héroes', 'división', 'azul', 'combatido', 'junto', 'nazis', 'leningrado', 'tinglaítos', 'moritos', 'gentuza', 'últimas', 'dos', 'semanas', 'multiplicado', 'filtraciones', 'audios', 'diputado', 'miembro', 'orden', 'temple', 'presidente', 'vox', 'ceuta', 'juan', 'sergio', 'redondo', 'primero', 'comunidad', 'hindú', 'cuyos', 'miembros', 'consejera', 'hacienda', 'kissy', 'chandiramani', 'sacar', 'pasear', 'elefante', 'referencia', 'deidad', 'ganesh', 'fiesta', 'colores', 'holi', 'tal', 'puta', 'vida', 'viene', 'viene', 'gilipollas', 'juan', 'vivas', 'empieza', 'rollito', 'multiculturalidad', 'celebración', 'holi', 'hindú', 'ceuta', 'imagen', 'ganesh', 'fondo', 'gonzalo', 'testa', 'después', 'escolarización', 'niños', 'musulmanes', 'ojalá', 'pudiera', 'volver', 'hace', 'años', 'día', 'metieron', 'tres', 'primeros', 'moritos', 'clase', 'vino', 'maestra', 'darnos', 'charla', 'convivencia', 'haberle', 'dicho', 'momento', 'hija', 'gran', 'puta', 'sabes', 'metiendo', 'encima', 'propio', 'presidente', 'equipo', 'responsables', 'vox', 'ceuta', 'conoce', 'nadie', 'ningún', 'tipo', 'pasado', 'punto', 'comparación', 'sinvergüenzas', 'juan', 'vivas', 'toda', 'gentuza', 'colocada', 'directores', 'generales', 'viceconsejeros', 'vox', 'nunca', 'negado', 'categóricamente', 'mensajes', 'audios', 'sido', 'escritos', 'dichos', 'responsables', 'denunciado', 'policía', 'medios', 'locales', 'publicado', 'dos', 'antiguos', 'miembros', 'ejecutiva', 'presuntos', 'delitos', 'acoso', 'chantaje', 'extorsión', 'continuada', 'vulneración', 'derechos', 'honor', 'intimidad', 'derecho', 'propia', 'imagen', 'difícilmente', 'supuesta', 'conversación', 'privada', 'puede', 'jamás', 'resistir', 'publicidad', 'máxime', 'surge', 'robo', 'chantaje', 'extorsión', 'burda', 'manipulación', 'alegado', 'redondo', 'alerta', 'filtraciones', 'solo', 'buscan', 'vox', 'facilite', 'acceso', 'publicidad', 'institucional', 'derrocar', 'gobierno', 'rechazado', 'exabruptos', 'tibieza', 'vox', 'vox', 'partido', 'popular', 'partido', 'popular', 'problema', 'ejecutivo', 'vivas', 'terminan', 'ahí', 'prohibición', 'pandemia', 'dar', 'muerte', 'animales', 'próximo', 'julio', 'ciudad', 'pascua', 'islámica', 'sacrificio', 'festivo', 'laboral', 'ceuta', 'mayoría', 'convirtió', 'primero', 'católico', 'establecido', 'españa', 'exacerbado', 'clima', 'crispación', 'social', 'inaudito', 'tensado', 'borde', 'ruptura', 'mapa', 'fuerzas', 'asamblea', 'imagen', 'manifestación', 'pasado', 'febrero', 'cancelación', 'pascua', 'sacrificio', 'gonzalo', 'testa', 'gobierno', 'local', 'reconocido', 'menos', 'dos', 'consejeros', 'dos', 'musulmanes', 'yamal', 'dris', 'servicios', 'urbanos', 'dunia', 'mohamed', 'asuntos', 'sociales', 'soportan', 'fuertes', 'injustas', 'despiadadas', 'presiones', 'generan', 'situación', 'lamentable', 'punto', 'vista', 'personal', 'profesional', 'ciudad', 'ningún', 'partido', 'comparte', 'vox', 'minutos', 'silencio', 'víctimas', 'violencia', 'intrafamiliar', 'acordaron', 'llamarla', 'anulación', 'parte', 'festividad', 'provocó', 'ceuta', 'mayor', 'manifestación', 'años', 'siglo', 'pasado', 'moción', 'fácil', 'nunca', 'moción', 'censura', 'justificación', 'oficial', 'fácil', 'tránsfuga', 'vivas', 'prometió', 'pactar', 'vox', 'hecho', 'quebrando', 'convivencia', 'estabilidad', 'asegura', 'veterano', 'política', 'local', 'operación', 'psoe', 'niega', 'oficialmente', 'impulsar', 'haciendo', 'solo', 'afirma', 'desconocer', 'propio', 'ejecutivo', 'cuya', 'reunión', 'ordinaria', 'viernes', 'acudió', 'consejera', 'asuntos', 'sociales', 'pedido', 'día', 'libre', 'presiones', 'excusó', 'compañero', 'portavoz', 'alberto', 'gaitán', 'reglamento', 'cámara', 'autonómica', 'exige', 'moción', 'censura', 'propongan', 'menos', 'diputados', 'distribución', 'actual', 'solo', 'deberían', 'firmarla', 'socialistas', 'visto', 'bueno', 'dirección', 'federal', 'tres', 'localistas', 'mdyc', 'caballas', 'dos', 'diputados', 'adscritos', 'vox', 'hace', 'falta', 'rebele', 'alguien', 'fuentes', 'gobierno', 'juan', 'vivas', 'aseguran', 'eldiario', 'reclutamiento', 'decimotercera', 'firma', 'esgrimido', 'tipo', 'elementos', 'presión', 'situación', 'económica', 'personal', 'causas', 'judiciales', 'ajenas', 'política', 'publicadas', 'hacer', 'descarrillar', 'entente', 'vox', 'moción', 'estrafalaria', 'fascismo', 'apoyaría', 'primera', 'reconoce', 'tentados', 'oposición', 'segura', 'adhesión', 'miembros', 'vivas', 'rompe', 'vox', 'ideológicamente', 'antípodas', 'cree', 'ciudad', 'vendría', 'bien', 'cambio', 'aires', 'admite', 'nadie', 'agradecería', 'verme', 'brete', 'dijeron', 'firmaría', 'viernes', 'lunes', 'añade', 'tercero', 'identifica', 'abogado', 'muñidor', 'directo', 'contactos', 'psoe', 'cuya', 'ejecutiva', 'regional', 'abierto', 'enfrentamiento', 'hace', 'meses', 'delegación', 'gobierno', 'socialista', 'nombrada', 'ejecutivo', 'pedro', 'sánchez', 'interpretan', 'consumarse', 'operación', 'solo', 'beneficiaría', 'actuales', 'responsables', 'orgánicos', 'partido', 'intentar', 'sofocar', 'incendio', 'político', 'mantenido', 'últimas', 'horas', 'gobierno', 'alambre', 'dunia', 'mohamed', 'asegurado', 'lunes', 'declaración', 'institucional', 'vídeo', 'segundos', 'ser', 'diputada', 'abandone', 'partido', 'firmado', 'firmaré', 'moción', 'censura', 'dice', 'jamás', 'traicionaré', 'confiado', 'zanja', 'presidente', 'ceuta', 'juan', 'vivas', 'consejeras', 'musulmanas', 'gobierno', 'dunia', 'mohamed', 'gonzalo', 'testa', 'asamblea', 'ceuta', 'citada', 'miércoles', 'votar', 'calendario', 'laboral', 'solo', 'vox', 'abogan', 'seguir', 'dejando', 'pascua', 'fin', 'ramadán', 'asunto', 'socialmente', 'sensible', 'pondrá', 'prueba', 'cohesión', 'unidad', 'presume', 'ejecutivo', 'etiquetas', 'política', 'racismo', 'racismo']\n",
      "['gobierno', 'alegado', 'suspensión', 'plazos', 'derivada', 'declaración', 'alarma', 'dar', 'datos', 'centros', 'internamiento', 'extranjeros', 'cie', 'servicio', 'jesuita', 'migrantes', 'sjm', 'pidió', 'enero', 'así', 'denunciado', 'martes', 'entidad', 'presentación', 'informe', 'realiza', 'hace', 'diez', 'años', 'situación', 'centros', 'directora', 'fundación', 'migrastudium', 'sjm', 'barcelona', 'maría', 'carmen', 'fuentes', 'exigido', 'transparencia', 'ejecutivo', 'psoe', 'unidas', 'podemos', 'además', 'reclamarle', 'cierre', 'definitivo', 'cie', 'siguen', 'internos', 'debido', 'imposibilidad', 'deportarles', 'cierre', 'fronteras', 'decretó', 'crisis', 'coronavirus', 'sjm', 'pidió', 'enero', 'datos', 'cie', 'portal', 'transparencia', 'transcurrido', 'plazo', 'dos', 'meses', 'marca', 'ley', 'acceso', 'información', 'entidad', 'obtenido', 'respuesta', 'interesó', 'tardanza', 'datos', 'transparencia', 'adujo', 'plazos', 'responder', 'encontraban', 'suspendidos', 'declaración', 'alarma', 'finalizado', 'alarma', 'sjm', 'tampoco', 'datos', 'sjm', 'obtenido', 'datos', 'informe', 'año', 'través', 'respuesta', 'parlamentaria', 'ministerio', 'interior', 'parlamentario', 'bildu', 'jon', 'iñarritu', 'así', 'casi', 'visitas', 'entidad', 'realizó', 'cie', 'madrid', 'barcelona', 'valencia', 'algeciras', 'tarifa', 'según', 'datos', 'interior', 'cie', 'toda', 'españa', 'registraron', 'cifra', 'internos', 'baja', 'últimos', 'diez', 'años', 'personas', 'menos', 'año', 'anterior', 'sjm', 'explica', 'descenso', 'menor', 'presión', 'migratoria', 'frontera', 'sur', 'nueva', 'política', 'llenar', 'centros', 'cierre', 'cie', 'gran', 'canaria', 'total', 'personas', 'permanecían', 'cie', 'repatriadas', 'mientras', 'puestas', 'libertad', 'sjm', 'constata', 'además', 'tras', 'visitar', 'miles', 'internos', 'asistencia', 'sanitaria', 'alimentación', 'deficiente', 'cie', 'varios', 'internos', 'presentan', 'consumo', 'excesivo', 'ansiolíticos', 'trato', 'degradante', 'policías', 'varios', 'internos', 'actuaciones', 'sido', 'denunciadas', 'juzgados', 'tal', 'puso', 'manifiesto', 'informe', 'mecanismo', 'nacional', 'prevención', 'tortura', 'defensor', 'pueblo', 'sjm', 'constata', 'persisten', 'internamientos', 'menores', 'cie', 'españoles', 'pese', 'prohibidos', 'ley', 'sjm', 'detectó', 'posibles', 'menores', 'internados', 'mientras', 'defensor', 'pueblo', 'constató', 'destaca', 'especial', 'caso', 'cinco', 'menores', 'internados', 'cie', 'barcelona', 'grupo', 'once', 'posibles', 'menores', 'migrastudium', 'puso', 'alerta', 'situación', 'centro', 'juez', 'vigilancia', 'fiscalía', 'defensor', 'pueblo', 'tildó', 'preocupante', 'presencia', 'menores', 'centro', 'consideró', 'indicativo', 'inadecuado', 'funcionamiento', 'mecanismos', 'detección', 'menores', 'internos', 'sjm', 'visitó', 'barcelona', 'menores', 'años', 'sido', 'tutelados', 'generalitat', 'menores', 'cumplir', 'encontrado', 'calle', 'sido', 'detenidos', 'enviados', 'cie', 'menores', 'llegan', 'reconocidos', 'menores', 'tutelados', 'luego', 'años', 'encontramos', 'cie', 'punto', 'ser', 'expulsados', 'escándalo', 'afirmado', 'abogado', 'migrastudium', 'josé', 'javier', 'ordoñez', 'conjunto', 'según', 'datos', 'fiscalía', 'extranjería', 'barcelona', 'centro', 'capital', 'catalana', 'detectaron', 'año', 'pasado', 'menores', 'alegaron', 'cie', 'barcelona', 'ingresos', 'menos', 'internos', 'antecedentes', 'penales', 'tramitaron', 'peticiones', 'asilo', 'solicitadas', 'etiquetas', 'catalunya']\n",
      "['puedes', 'mandar', 'pregunta', 'sugerencia', 'queja', 'través', 'formulario', 'susana', 'vizcaíno', 'martínez', 'artículo', 'nueva', 'fiscal', 'utiliza', 'término', 'fiscala', 'usar', 'artículo', 'queda', 'perfectamente', 'claro', 'trata', 'mujer', 'fiscal', 'común', 'cuanto', 'género', 'totalmente', 'partidaria', 'lenguaje', 'inclusivo', 'coeducativo', 'forzar', 'uso', 'incorrecto', 'lengua', 'nombrar', 'femenino', 'implica', 'hablar', 'mal', 'opinión', 'hola', 'susana', 'fiscala', 'aparece', 'diccionario', 'rae', 'cuenta', 'aprobación', 'fundeu', 'contamos', 'artículo', 'fórmula', 'usa', 'incluso', 'oficialmente', 'nomenclatura', 'cargos', 'países', 'américa', 'latina', 'uso', 'correcto', 'aunque', 'tipo', 'debates', 'interesante', 'correcto', 'sino', 'cómo', 'llega', 'serlo', 'fiscala', 'siempre', 'diccionario', 'hace', 'años', 'chocaba', 'uso', 'jueza', 'mira', 'gráfico', 'web', 'dirae', 'uso', 'palabra', 'fiscala', 'largo', 'tiempo', 'considerado', 'correcto', 'usaba', 'usaba', 'acabó', 'considerándose', 'correcto', 'eldiario', 'leerás', 'fiscal', 'leerás', 'fiscala', 'leerás', 'cataluña', 'catalunya', 'quizá', 'ortodoxo', 'preferimos', 'ser', 'flexibles', 'uso', 'lenguaje', 'representa', 'diversidad', 'gente', 'escribe', 'eldiario', 'lenguaje', 'organismo', 'vivo', 'periodistas', 'debemos', 'ser', 'permeables', 'usos', 'populares', 'innovaciones', 'ayudan', 'entender', 'explicar', 'mejor', 'clima', 'social', 'siempre', 'supuesto', 'primando', 'eficacia', 'lenguaje', 'evitando', 'connotaciones', 'innecesarias', 'espacio', 'neutro', 'lenguaje', 'herramienta', 'sujeta', 'sesgos', 'ideológicos', 'geográficos', 'género', 'clase', 'hablantes', 'crean', 'normas', 'lenguaje', 'escribe', 'cada', 'martes', 'elena', 'lvarez', 'mellado', 'eldiario', 'pierdas', 'misma', 'manera', 'código', 'penal', 'hecho', 'solo', 'hombres', 'solo', 'gente', 'madrid', 'acaba', 'problema', 'sesgo', 'diccionario', 'hecho', 'solo', 'hombres', 'solo', 'gente', 'madrid', 'feminismo', 'activismos', 'tomado', 'lenguaje', 'campo', 'batalla', 'visibilizar', 'estrucutra', 'machista', 'costumbres', 'sociales', 'políticas', 'maria', 'teresa', 'albero', 'sempere', 'joven', 'lectora', 'pueblo', 'alicante', 'encanta', 'medio', 'parecéis', 'referente', 'periodístico', 'leyendo', 'noticia', 'sorprendido', 'país', 'valenci', 'nombre', 'diversas', 'formas', 'largo', 'artículo', 'primer', 'párrafo', 'país', 'valenci', 'octavo', 'comunidad', 'valenciana', 'partir', 'undécimo', 'comunitat', 'valenciana', 'motivado', 'alguna', 'razón', 'concreto', 'misma', 'connotación', 'ideológica', 'política', 'escribir', 'país', 'valenci', 'comunidad', 'valenciana', 'pregunta', 'mucha', 'relación', 'respuesta', 'anterior', 'usos', 'concretos', 'pedido', 'director', 'edición', 'valenciana', 'eldiario', 'explique', 'enfoque', 'dice', 'adolf', 'beltran', 'comunitat', 'valenciana', 'nombre', 'oficial', 'impide', 'medios', 'boletín', 'oficial', 'diari', 'oficial', 'usemos', 'términos', 'país', 'valenciano', 'recogido', 'estatut', 'autonomía', 'comunitat', 'valenciana', 'connotaciones', 'ideológicas', 'bueno', 'solo', 'pensar', 'partido', 'actualmente', 'presidencia', 'generalitat', 'valenciana', 'llama', 'partido', 'socialista', 'país', 'valenciano', 'principales', 'centrales', 'sindicales', 'comisiones', 'obreras', 'país', 'valenciano', 'ugt', 'país', 'valenciano', 'solemos', 'utilizar', 'prioritariamente', 'nombre', 'oficial', 'comunitat', 'valenciana', 'comunidad', 'valenciana', 'alternamos', 'veces', 'territorio', 'valenciano', 'comarcas', 'valencianas', 'país', 'valenci', 'historial', 'moderno', 'reivindicativo', 'autonomista', 'evitamos', 'términos', 'región', 'valenciana', 'reino', 'valencia', 'aunque', 'usamos', 'referirnos', 'cuestiones', 'históricas', 'denostado', 'levante', 'levante', 'español', 'juan', 'imbernón', 'lópez', 'artículo', 'falta', 'verdad', 'primera', 'vez', 'entiendo', 'interés', 'medio', 'hace', 'alusión', 'desaparición', 'upyd', 'cosa', 'incierta', 'aclaren', 'quién', 'pago', 'cada', 'mes', 'cuota', 'afiliado', 'hola', 'juan', 'razón', 'rectificado', 'texto', 'utilizar', 'palabra', 'disolución', 'supone', 'acto', 'formal', 'efectivamente', 'upyd', 'realizado', 'pesar', 'upyd', 'presencia', 'escasa', 'poder', 'institucional', 'andalucía', 'territorio', 'ciñe', 'artículo', 'hablar', 'disolución', 'correcto', 'expresado', 'manera', 'misma', 'frase', 'hablaba', 'desaparición', 'partido', 'andalucista', 'formalmente', 'disuelto', 'partido', 'ahí', 'mezclado', 'dos', 'situaciones', 'misma', 'pedimos', 'disculpas', 'imanol', 'iribar', 'echa', 'menos', 'informéis', 'opinéis', 'pasa', 'gente', 'altsasu', 'hace', 'tema', 'recurrente', 'aparecieron', 'vídeos', 'desmintiendo', 'version', 'fiscal', 'parece', 'vetado', 'cambio', 'gobierno', 'temazo', 'pasan', 'cosas', 'hablar', 'genteme', 'parece', 'valiente', 'hola', 'imanol', 'tema', 'dado', 'cobertura', 'intensa', 'sentencia', 'seguimiento', 'posterior', 'incluidos', 'varios', 'reportajes', 'explican', 'cómo', 'acusaciones', 'quedan', 'desmontadas', 'efectivamente', 'cambio', 'gobierno', 'traga', 'mucha', 'atención', 'parte', 'parte', 'lectores', 'lógico', 'hace', 'quizá', 'descuidemos', 'temas', 'caso', 'sábado', 'ejemplo', 'dado', 'cobertura', 'manifestación', 'organizada', 'sentencia', 'gracias', 'toque', 'atención', 'josé', 'manuel', 'sánchez', 'moreno', 'hola', 'veo', 'secciones', 'todas', 'comunidades', 'autónomas', 'prácticamente', 'medios', 'españoles', 'ninguna', 'dedicada', 'españoles', 'vivimos', 'exterior', 'gustaría', 'saber', 'desinterés', 'debe', 'generamos', 'noticia', 'interesa', 'editorialmente', 'nunca', 'planteado', 'planteado', 'sabido', 'atacarlo', 'parece', 'interesante', 'kin', 'razón', 'haberlo', 'hecho', 'citas', 'planteado', 'hacer', 'cosas', 'específicas', 'lectores', 'socios', 'extranjero', 'acabamos', 'definir', 'cómo', 'hecho', 'creo', 'cuestión', 'cómo', 'presentamos', 'hecho', 'hecho', 'seguimiento', 'informativo', 'temas', 'apuntas', 'voto', 'rogado', 'apuntamos', 'darle', 'vuelta', 'gracias', 'beatriz', 'diego', 'desesperada', 'existe', 'alguna', 'forma', 'poder', 'leer', 'eldiario', 'cierta', 'tranquilidad', 'puedo', 'soportar', 'permanente', 'aceptación', 'cookies', 'acepté', 'vez', 'dispuesta', 'tolerar', 'así', 'anuncios', 'salen', 'cada', 'dos', 'tres', 'socia', 'creo', 'mínimo', 'merezco', 'deferencia', 'favor', 'buscad', 'alguna', 'vía', 'evitarlo', 'daré', 'baja', 'puedo', 'dedicar', 'día', 'entero', 'leer', 'página', 'hola', 'beatriz', 'cookies', 'enormemente', 'molesto', 'obligados', 'nueva', 'ley', 'europea', 'protección', 'datos', 'sanciones', 'cumplir', 'ley', 'altas', 'puede', 'ser', 'afectadas', 'fallo', 'días', 'hacía', 'aviso', 'saltara', 'repetidamente', 'versiones', 'móvil', 'debería', 'solucionado', 'cuanto', 'publicidad', 'socia', 'ver', 'evitarla', 'identificado', 'página', 'usuario', 'contraseña', 'dudas', 'método', 'ponte', 'contacto', 'socios', 'eldiario', 'allí', 'indicamos', 'cómo', 'desirée', 'faye', 'ruiz', 'estimado', 'equipo', 'eldiario', 'gustaría', 'saber', 'cuáles', 'normas', 'enviar', 'carta', 'director', 'extensión', 'documentación', 'email', 'consigo', 'encontrar', 'información', 'web', 'tradicional', 'sección', 'cartas', 'director', 'prensa', 'papel', 'realidad', 'mismo', 'mejor', 'espacio', 'socias', 'socios', 'eldiario', 'pueden', 'publicar', 'opinión', 'temas', 'actualidad', 'llama', 'opinión', 'socio', 'enlace', 'toda', 'información', 'necesitas', 'publicar', 'maría', 'rodríguez', 'moras', 'iba', 'hacer', 'socia', 'eldiario', 'marido', 'sentía', 'socia', 'consorte', 'creo', 'suficiente', 'rondaba', 'hoy', 'mente', 'nuevo', 'leo', 'noticia', 'posible', 'violación', 'grupal', 'barcelona', 'continuación', 'comentarios', 'lectores', 'dan', 'ganas', 'vomitar', 'espacio', 'comentario', 'brillante', 'lea', 'alguien', 'sesgue', 'publique', 'quiero', 'hijo', 'lee', 'prensa', 'lea', 'mierda', 'perfil', 'bajo', 'twit', 'tarado', 'realmente', 'necesario', 'hueco', 'lector', 'saludo', 'gracias', 'perdón', 'dura', 'hola', 'maría', 'muchas', 'gracias', 'toda', 'familia', 'apoyo', 'preocuparos', 'eldiario', 'espacio', 'saludable', 'debate', 'dura', 'clara', 'agua', 'parece', 'vamos', 'fijarnos', 'nuevo', 'comentarios', 'pie', 'noticia', 'hablas', 'presunta', 'violación', 'barcelona', 'bastante', 'elocuente', 'ocurre', 'veces', 'cuentas', 'dos', 'tres', 'usuarios', 'hombres', 'claro', 'socios', 'dicen', 'cosas', 'culpabilizan', 'denunciante', 'fíjate', 'respuesta', 'abrumadora', 'decenas', 'socios', 'socias', 'eldiario', 'explicándoles', 'dicen', 'barbaridad', 'comentarios', 'desagradables', 'incluso', 'sido', 'reportados', 'negativamente', 'mayoría', 'comunidad', 'aparecen', 'plegados', 'final', 'hijo', 'llega', 'leer', 'comentarios', 'noticia', 'verá', 'comunidad', 'gente', 'comprometida', 'socialmente', 'violencia', 'machista', 'diciéndole', 'cuatro', 'siempre', 'existen', 'mensaje', 'aquí', 'cala', 'caso', 'sabemos', 'comentarios', 'siempre', 'espacio', 'imperfecto', 'participación', 'siempre', 'sido', 'problemático', 'medios', 'digitales', 'comunidad', 'socios', 'cada', 'vez', 'nutrida', 'importante', 'valor', 'damos', 'muchas', 'vueltas', 'cómo', 'conseguirlo', 'aunque', 'recursos', 'hacerlo', 'queremos', 'paguen', 'justos', 'pecadores', 'así', 'hacer', 'censura', 'previa', 'comentarios', 'alguien', 'decida', 'cuáles', 'correctos', 'creemos', 'provocaría', 'problema', 'mayor', 'queremos', 'arreglar', 'además', 'intentado', 'medios', 'grandes', 'inversiones', 'podemos', 'permitir', 'acaba', 'funcionar', 'nunca', 'caso', 'pendiente', 'desarrollar', 'proyecto', 'participación', 'queremos', 'mejore', 'manera', 'socias', 'socios', 'relacionen', 'contenido', 'eldiario', 'pueda', 'allá', 'fórmulas', 'tradicionales', 'vistas', 'comentarios', 'pie', 'noticias', 'espero', 'podamos', 'contar', 'contigo', 'marido', 'hijo', 'efraín', 'ochoa', 'hola', 'escribo', 'curiosidad', 'telediarios', 'matutinos', 'dan', 'adelantos', 'portadas', 'prensa', 'nunca', 'cita', 'medio', 'siquiera', 'sección', 'prensa', 'digital', 'algún', 'tipo', 'bloqueo', 'responde', 'simplemente', 'estadísticas', 'estadísticas', 'responde', 'luego', 'eldiario', 'mucha', 'audiencia', 'medios', 'ves', 'citados', 'programas', 'desayunos', 'tve', 'canal', 'exclusivas', 'portadas', 'nunca', 'aparecen', 'resúmenes', 'prensa', 'creo', 'respuesta', 'das', 'mismo', 'veto', 'injustificado', 'eldiario', 'tve', 'solo', 'hablamos', 'resúmenes', 'prensa', 'tampoco', 'ningún', 'periodista', 'eldiario', 'ningún', 'programa', 'informativo', 'tertulia', 'tve', 'embargo', 'sientan', 'directores', 'medios', 'digitales', 'ocasiones', 'veces', 'menos', 'audiencia', 'menos', 'información', 'eldiario', 'indicio', 'todavía', 'evidente', 'veto', 'después', 'días', 'investigación', 'informe', 'semanal', 'remedio', 'hacerle', 'hueco', 'caso', 'máster', 'cifuentes', 'llamó', 'habitual', 'varios', 'expertos', 'periodistas', 'exponer', 'tema', 'reportaje', 'crees', 'llamaron', 'alguien', 'medio', 'destapó', 'investigó', 'curante', 'mes', 'escándalo', 'tve', 'hizo', 'minutos', 'reportaje', 'invitados', 'periodistas', 'nadie', 'eldiario', 'ninguna', 'mención', 'eldiario', 'luego', 'veto', 'eldiario', 'problema', 'importante', 'televisión', 'pública', 'organizado', 'bien', 'conseguido', 'venir', 'negro', 'ningún', 'viernes', 'compañeras', 'compañeros', 'tve', 'hacen', 'cada', 'semana', 'saben', 'cuentan', 'reivindicación', 'televisión', 'pública', 'plural', 'independiente', 'blog', 'puedes', 'enviar', 'quejas', 'sugerencias', 'eldiario', 'responde', 'utilizando', 'formulario', 'analizaremos', 'mensajes', 'lleguen', 'través', 'canal', 'daremos', 'respuesta', 'redacción', 'aquí', 'información', 'funcionamiento', 'sección', 'autores', 'etiquetas', 'eldiario', 'responde', 'socios']\n",
      "['panamá', 'debe', 'entregar', 'semana', 'corte', 'interamericana', 'derechos', 'humanos', 'corteidh', 'informe', 'situación', 'casi', 'migrantes', 'irregulares', 'varados', 'albergue', 'zona', 'fronteriza', 'colombia', 'tras', 'denuncias', 'organismos', 'internacionales', 'encuentran', 'hacinados', 'riesgo', 'contagiarse', 'masivamente', 'covid', 'corteidh', 'pidió', 'informe', 'panamá', 'pasado', 'viernes', 'día', 'después', 'centro', 'justicia', 'derecho', 'internacional', 'cejil', 'solicitara', 'tribunal', 'regional', 'medidas', 'provisionales', 'protección', 'favor', 'personas', 'migrantes', 'retenidas', 'centro', 'peñita', 'situado', 'provincia', 'panameña', 'darién', 'peñita', 'condiciones', 'adecuadas', 'hacinamiento', 'realmente', 'grave', 'suficientes', 'condiciones', 'sanitarias', 'aseo', 'implica', 'existen', 'condiciones', 'tomar', 'medidas', 'distanciamiento', 'evitar', 'covid', 'dijo', 'lunes', 'efe', 'directora', 'jurídica', 'cejil', 'gisela', 'león', 'organización', 'internacional', 'migraciones', 'oim', 'estima', 'capacidad', 'máxima', 'estación', 'migratoria', 'darién', 'personas', 'reportaron', 'actualmente', 'personas', 'migrantes', 'retenidas', 'refleja', 'sobrepoblación', 'alrededor', 'citó', 'comunicado', 'cejil', 'ong', 'consultora', 'organización', 'americanos', 'oea', 'ong', 'refirió', 'además', 'defensoría', 'pueblo', 'panameña', 'constatado', 'estación', 'migratoria', 'peñita', 'faltan', 'colchones', 'agua', 'asistencia', 'médica', 'alimentos', 'situación', 'evidenciaba', 'anteriormente', 'agravado', 'contexto', 'pandemia', 'pidiendo', 'gobierno', 'panameño', 'cumpla', 'estándares', 'internacionales', 'protección', 'derechos', 'humanos', 'materia', 'personas', 'migrantes', 'privilegiar', 'medidas', 'ver', 'detención', 'confinados', 'espacio', 'limitado', 'factores', 'riesgo', 'contagio', 'covid', 'distanciamiento', 'dijo', 'jurista', 'león', 'indicó', 'cejil', 'presentó', 'solicitud', 'corteidh', 'casi', 'personas', 'migrantes', 'detenidas', 'albergue', 'darién', 'sido', 'diagnosticadas', 'covid', 'acuerdo', 'cifras', 'oficiales', 'difundidas', 'inicios', 'mes', 'mayo', 'menos', 'migrantes', 'varados', 'darién', 'dieron', 'positivo', 'covid', 'encontraban', 'aislados', 'carpas', 'levantadas', 'estación', 'temporal', 'lajas', 'blancas', 'situada', 'darién', 'cejil', 'busca', 'panameño', 'garantice', 'provisión', 'servicios', 'salud', 'incluyendo', 'tratamiento', 'covid', 'decir', 'tratamiento', 'aislamiento', 'necesario', 'queremos', 'prevenir', 'violación', 'derechos', 'personas', 'migrantes', 'través', 'medida', 'protección', 'funcionarios', 'trabajando', 'propagación', 'covid', 'detención', 'solo', 'puede', 'afectar', 'personas', 'detención', 'comunidad', 'circundante', 'funcionarios', 'entran', 'salen', 'albergue', 'dijo', 'león', 'har', 'corteidh', 'tras', 'recibir', 'informe', 'panam', 'panameño', 'cuenta', 'plazo', 'mayo', 'remitir', 'corteidh', 'información', 'solicitó', 'pasado', 'viernes', 'situación', 'personas', 'migrantes', 'permanecen', 'estación', 'migratoria', 'peñita', 'darién', 'indicó', 'cejil', 'base', 'informe', 'corteidh', 'puede', 'adoptar', 'medidas', 'provisionales', 'obligar', 'tomar', 'medidas', 'adicionales', 'puede', 'tomar', 'información', 'marco', 'supervisión', 'sentencia', 'corte', 'panamá', 'caso', 'vélez', 'loor', 'explicó', 'león', 'cejil', 'pidió', 'medidas', 'provisionales', 'protección', 'favor', 'personas', 'migrantes', 'retenidas', 'centro', 'peñita', 'marco', 'proceso', 'supervisión', 'sentencia', 'caso', 'jesús', 'vélez', 'loor', 'argumentado', 'corteidh', 'panamá', 'incumplido', 'obligación', 'disponer', 'establecimientos', 'migrantes', 'adecuados', 'medida', 'dictada', 'tribunal', 'regional', 'ecuatoriano', 'jesús', 'vélez', 'loor', 'detenido', 'noviembre', 'panamá', 'orden', 'autoridades', 'migración', 'país', 'acusaron', 'primero', 'vinculación', 'fuerzas', 'armadas', 'revolucionarias', 'colombia', 'farc', 'luego', 'ser', 'peligroso', 'orden', 'seguridad', 'pública', 'panameña', 'ecuatoriano', 'liberado', 'corteidh', 'falló', 'favor', 'condenando', 'panamá', 'tratos', 'crueles', 'inhumanos', 'estableciendo', 'indemnización', 'dólares', 'derogara', 'decreto', 'ley', 'condenaba', 'migrantes', 'detenido', 'etiquetas', 'desalambre', 'sociedad']\n"
     ]
    }
   ],
   "source": [
    "for x in clean_doc[0:5]:\n",
    "  print(x)"
   ]
  },
  {
   "attachments": {},
   "cell_type": "markdown",
   "metadata": {},
   "source": [
    "### 3. ¿Por qué en este caso no requerimos hacer una partición en entrenamiento, validación y prueba?"
   ]
  },
  {
   "attachments": {},
   "cell_type": "markdown",
   "metadata": {},
   "source": [
    "En esta actividad no se va a entrenar un modelo de clasificación, sino que se va a realizar un análisis para extraer el tema o temas de un texto. Dicho análisis se realiza con modelos no supervisados, por lo que no se requiere de una partición en entrenamiento, validación y prueba."
   ]
  },
  {
   "attachments": {},
   "cell_type": "markdown",
   "metadata": {},
   "source": [
    "## Parte 1: Indexación semántica latente (LSI)"
   ]
  },
  {
   "attachments": {},
   "cell_type": "markdown",
   "metadata": {},
   "source": [
    "### 4. Matriz Tf-Idf\n",
    "Encontrar la matriz Tf-idf de la columna de noticias. Despliega los primeros 5 renglones con algunas de sus columnas con sus nombres, donde las columnas son los tokens."
   ]
  },
  {
   "cell_type": "code",
   "execution_count": 79,
   "metadata": {},
   "outputs": [],
   "source": [
    "from collections import Counter\n",
    "from sklearn.feature_extraction.text import TfidfVectorizer "
   ]
  },
  {
   "cell_type": "code",
   "execution_count": 87,
   "metadata": {},
   "outputs": [],
   "source": [
    "# Construimos vocabulario de palabras con base al conteo de tokens\n",
    "midiccionario = Counter()\n",
    "\n",
    "for k in range(len(clean_doc)):\n",
    "  midiccionario.update(clean_doc[k])"
   ]
  },
  {
   "cell_type": "code",
   "execution_count": 88,
   "metadata": {},
   "outputs": [
    {
     "name": "stdout",
     "output_type": "stream",
     "text": [
      "Longitud del diccionario: 100089\n",
      "[('gobierno', 10326), ('años', 7545), ('dos', 7400), ('personas', 7068), ('coronavirus', 6787), ('ser', 6652), ('madrid', 6173), ('según', 6050), ('españa', 6014), ('parte', 5957)]\n"
     ]
    }
   ],
   "source": [
    "print('Longitud del diccionario:', len(midiccionario))  \n",
    "print(midiccionario.most_common(10)) "
   ]
  },
  {
   "cell_type": "code",
   "execution_count": 89,
   "metadata": {},
   "outputs": [
    {
     "name": "stdout",
     "output_type": "stream",
     "text": [
      "españa dejado ser católica decía manuel azaña comienzo segunda república aquel congreso diputados aprobó leyes laicistas metáfora dejó ser católica papel ley creencias buena parte pueblo migración integración europea programa vox europa saber españa domingo noviembre dejado ser excepción europa potencia extrema derecha parlamento metáfora pues precisamente excepcional tener dictadura mediados setenta dictador aún mausoleo después años muerto existía tal cosa portugal grecia italia alemania países dictaduras fascistas españa pasó portugal italia alemania derrotó fascismo franquismo murió cama harakiri cortes franquistas ruptura régimen sino reforma nació nuevo país sino país mutó ley ley aun así españa parecía vacunada años franquismo sido bastantes llegado irrupción posfranquismo tras ser actores fundamentales gobiernos autonómicos locales ciudadanos españa dejado ser excepción aunque alianza popular manuel fraga bebiera franquismo sociológico fuerza nueva blas piñar búnker franquista aunque franquismo sociológico mantuviera largo tiempos aunque vox escisión propio aunque así cierto nunca ahora españa reinstauración democrática existido fuerza extrema derecha votos escaños fenómeno pasado pasando países europeos aunque opere españa polarización eje nacional crisis catalunya ejemplo mejores amigos vox europa grupo ecr parlamento europeo partido gobernante ultracatólico polaco pis supera votos principales referentes extrema derecha europea marine pen matteo salvini apresurado felicitar santiago abascal presentan números superiores vox pen sacó últimas europeas salvini extrema derecha austriaca sacó hace mes medio legislativas incluso después crisis financiación rusa eje amplio extrema derecha europea suele situar gobernantes húngaros fidesz víktor orban suspendidos partido popular europeo cuyo grupo parlamentario eurocámara siguen perteneciendo lograron mayo pasado efecto vox aún escalón escalón deja encima clásicos extrema derecha europea alemanes afd subcampeones nder alemanes mayo quedaron debajo generales encima geert wilders sacó legislativas holandesas despeñarse europeas menos así vox llega lograron demócratas suecia europeas dos puntos menos generales septiembre duplica sumaron solución griega aurora dorada elecciones grecia julio pasado dos puntos partido finlandesas quedó tres décimas ganar elecciones finlandesas abril pasado etiquetas internacional vox extrema derecha europa\n",
      "clima crispación social ceuta llegado punto precedentes entrada vox asamblea ceuta consolidación soporte externo gobierno juan vivas tras seis meses fallida alianza psoe difusión pública mensajes audios xenófobos privados supuestamente líderes formación extrema derecha llevado ejecutivo autonómico borde abismo suma cancelación pascua islámica sacrificio justificada pandemia coronavirus ciudad población musulmana situación recuerda vivida hace dos décadas través sendas mociones censura gil logró primero hacerse presidencia ciudad recuperarla mano psoe tras veinte años gobernando diputados asamblea vivas perdió primera vez mayo mayoría absoluta encontró oposición psoe siete escaños vox seis dos formaciones localistas mdyc caballas dos respectivamente campaña electoral vivas abjuró expresamente abascal afines podemos dos maneras equivalentes manipular sentimiento religioso ceutíes ponen peligro convivencia estabilidad vivas comenzó legislatura gobernando solitario apoyo externo psoe cuadros socialistas puestos segundo tercer escalafón ejecutivo así siguió rompió socialistas fiables hora garantizar estabilidad ciudad justificó vivas pasó apoyarse vox partido extrema derecha vez cargos exigió dejar subvencionar oenegés feministas dedicadas atender enfermos foráneos peticiones razonables cuyo cumplimiento permitió gobierno sacar presupuestos ciudad pasado enero solo día holgada mayoría vox perdido dos diputados última formación tras divulgación multitud mensajes whatsapp supuestamente líderes extrema derecha ceuta auguraban iii guerra mundial comenzar algún día islam repudiaban españoles digan tragar moros cojones asumían tras batalla electoral extraño tener combatir militarmente mensaje whatsapp atribuido presidente vox ceuta juan sergio redondo mayoría justa entonces escaños favor gobierno vivas digerir siete meses mayor manifestación convocada ceuta ochenta febrero recorrió ciudad personas inmensa mayoría comunidad musulmana población local publicación distintos improperios judíos hindúes dos comunidades gran peso económico social ciudad principios junio medios recuperaron tuit febrero diputado vox vicepresidente mesa rectora asamblea policía nacional excedencia francisco ruiz exaltando disgusto comunidad israelita local héroes división azul combatido junto nazis leningrado tinglaítos moritos gentuza últimas dos semanas multiplicado filtraciones audios diputado miembro orden temple presidente vox ceuta juan sergio redondo primero comunidad hindú cuyos miembros consejera hacienda kissy chandiramani sacar pasear elefante referencia deidad ganesh fiesta colores holi tal puta vida viene viene gilipollas juan vivas empieza rollito multiculturalidad celebración holi hindú ceuta imagen ganesh fondo gonzalo testa después escolarización niños musulmanes ojalá pudiera volver hace años día metieron tres primeros moritos clase vino maestra darnos charla convivencia haberle dicho momento hija gran puta sabes metiendo encima propio presidente equipo responsables vox ceuta conoce nadie ningún tipo pasado punto comparación sinvergüenzas juan vivas toda gentuza colocada directores generales viceconsejeros vox nunca negado categóricamente mensajes audios sido escritos dichos responsables denunciado policía medios locales publicado dos antiguos miembros ejecutiva presuntos delitos acoso chantaje extorsión continuada vulneración derechos honor intimidad derecho propia imagen difícilmente supuesta conversación privada puede jamás resistir publicidad máxime surge robo chantaje extorsión burda manipulación alegado redondo alerta filtraciones solo buscan vox facilite acceso publicidad institucional derrocar gobierno rechazado exabruptos tibieza vox vox partido popular partido popular problema ejecutivo vivas terminan ahí prohibición pandemia dar muerte animales próximo julio ciudad pascua islámica sacrificio festivo laboral ceuta mayoría convirtió primero católico establecido españa exacerbado clima crispación social inaudito tensado borde ruptura mapa fuerzas asamblea imagen manifestación pasado febrero cancelación pascua sacrificio gonzalo testa gobierno local reconocido menos dos consejeros dos musulmanes yamal dris servicios urbanos dunia mohamed asuntos sociales soportan fuertes injustas despiadadas presiones generan situación lamentable punto vista personal profesional ciudad ningún partido comparte vox minutos silencio víctimas violencia intrafamiliar acordaron llamarla anulación parte festividad provocó ceuta mayor manifestación años siglo pasado moción fácil nunca moción censura justificación oficial fácil tránsfuga vivas prometió pactar vox hecho quebrando convivencia estabilidad asegura veterano política local operación psoe niega oficialmente impulsar haciendo solo afirma desconocer propio ejecutivo cuya reunión ordinaria viernes acudió consejera asuntos sociales pedido día libre presiones excusó compañero portavoz alberto gaitán reglamento cámara autonómica exige moción censura propongan menos diputados distribución actual solo deberían firmarla socialistas visto bueno dirección federal tres localistas mdyc caballas dos diputados adscritos vox hace falta rebele alguien fuentes gobierno juan vivas aseguran eldiario reclutamiento decimotercera firma esgrimido tipo elementos presión situación económica personal causas judiciales ajenas política publicadas hacer descarrillar entente vox moción estrafalaria fascismo apoyaría primera reconoce tentados oposición segura adhesión miembros vivas rompe vox ideológicamente antípodas cree ciudad vendría bien cambio aires admite nadie agradecería verme brete dijeron firmaría viernes lunes añade tercero identifica abogado muñidor directo contactos psoe cuya ejecutiva regional abierto enfrentamiento hace meses delegación gobierno socialista nombrada ejecutivo pedro sánchez interpretan consumarse operación solo beneficiaría actuales responsables orgánicos partido intentar sofocar incendio político mantenido últimas horas gobierno alambre dunia mohamed asegurado lunes declaración institucional vídeo segundos ser diputada abandone partido firmado firmaré moción censura dice jamás traicionaré confiado zanja presidente ceuta juan vivas consejeras musulmanas gobierno dunia mohamed gonzalo testa asamblea ceuta citada miércoles votar calendario laboral solo vox abogan seguir dejando pascua fin ramadán asunto socialmente sensible pondrá prueba cohesión unidad presume ejecutivo etiquetas política racismo racismo\n",
      "gobierno alegado suspensión plazos derivada declaración alarma dar datos centros internamiento extranjeros cie servicio jesuita migrantes sjm pidió enero así denunciado martes entidad presentación informe realiza hace diez años situación centros directora fundación migrastudium sjm barcelona maría carmen fuentes exigido transparencia ejecutivo psoe unidas podemos además reclamarle cierre definitivo cie siguen internos debido imposibilidad deportarles cierre fronteras decretó crisis coronavirus sjm pidió enero datos cie portal transparencia transcurrido plazo dos meses marca ley acceso información entidad obtenido respuesta interesó tardanza datos transparencia adujo plazos responder encontraban suspendidos declaración alarma finalizado alarma sjm tampoco datos sjm obtenido datos informe año través respuesta parlamentaria ministerio interior parlamentario bildu jon iñarritu así casi visitas entidad realizó cie madrid barcelona valencia algeciras tarifa según datos interior cie toda españa registraron cifra internos baja últimos diez años personas menos año anterior sjm explica descenso menor presión migratoria frontera sur nueva política llenar centros cierre cie gran canaria total personas permanecían cie repatriadas mientras puestas libertad sjm constata además tras visitar miles internos asistencia sanitaria alimentación deficiente cie varios internos presentan consumo excesivo ansiolíticos trato degradante policías varios internos actuaciones sido denunciadas juzgados tal puso manifiesto informe mecanismo nacional prevención tortura defensor pueblo sjm constata persisten internamientos menores cie españoles pese prohibidos ley sjm detectó posibles menores internados mientras defensor pueblo constató destaca especial caso cinco menores internados cie barcelona grupo once posibles menores migrastudium puso alerta situación centro juez vigilancia fiscalía defensor pueblo tildó preocupante presencia menores centro consideró indicativo inadecuado funcionamiento mecanismos detección menores internos sjm visitó barcelona menores años sido tutelados generalitat menores cumplir encontrado calle sido detenidos enviados cie menores llegan reconocidos menores tutelados luego años encontramos cie punto ser expulsados escándalo afirmado abogado migrastudium josé javier ordoñez conjunto según datos fiscalía extranjería barcelona centro capital catalana detectaron año pasado menores alegaron cie barcelona ingresos menos internos antecedentes penales tramitaron peticiones asilo solicitadas etiquetas catalunya\n"
     ]
    }
   ],
   "source": [
    "# Convertimos cada renglón en un solo string\n",
    "\n",
    "clean_doc = [' '.join(x) for x in clean_doc] \n",
    "\n",
    "# Observamos los primeros 3 renglones\n",
    "for k in range(3):\n",
    "  print(clean_doc[k])"
   ]
  },
  {
   "cell_type": "code",
   "execution_count": 90,
   "metadata": {},
   "outputs": [
    {
     "name": "stdout",
     "output_type": "stream",
     "text": [
      "      españa    dejado       ser   católica     decía    manuel     azaña  \\\n",
      "0  13.661420  9.529243  8.220060  11.060257  3.835868  6.611896  7.338417   \n",
      "1   1.951631  0.000000  1.644012   0.000000  0.000000  0.000000  0.000000   \n",
      "2   1.951631  0.000000  1.644012   0.000000  0.000000  0.000000  0.000000   \n",
      "3   0.000000  0.000000  4.932036   0.000000  0.000000  3.305948  0.000000   \n",
      "4   0.000000  0.000000  1.644012   0.000000  0.000000  0.000000  0.000000   \n",
      "\n",
      "   comienzo  segunda  república  ...  cicala  venerd  anarchici  mainl  \\\n",
      "0  4.327796  2.83528   4.308284  ...     0.0     0.0        0.0    0.0   \n",
      "1  0.000000  0.00000   0.000000  ...     0.0     0.0        0.0    0.0   \n",
      "2  0.000000  0.00000   0.000000  ...     0.0     0.0        0.0    0.0   \n",
      "3  0.000000  0.00000   0.000000  ...     0.0     0.0        0.0    0.0   \n",
      "4  0.000000  0.00000   0.000000  ...     0.0     0.0        0.0    0.0   \n",
      "\n",
      "   hartmann  polvorientos  aqueos  iliada  rebajarla  adaya  \n",
      "0       0.0           0.0     0.0     0.0        0.0    0.0  \n",
      "1       0.0           0.0     0.0     0.0        0.0    0.0  \n",
      "2       0.0           0.0     0.0     0.0        0.0    0.0  \n",
      "3       0.0           0.0     0.0     0.0        0.0    0.0  \n",
      "4       0.0           0.0     0.0     0.0        0.0    0.0  \n",
      "\n",
      "[5 rows x 100089 columns]\n"
     ]
    }
   ],
   "source": [
    "# Obtenemos nuestro vocabulario de tokens\n",
    "vocab = list(midiccionario.keys())\n",
    "\n",
    "# Creamos instancia de TfidfVectorizer con nuestro vocabulario\n",
    "tfidfvectorizer = TfidfVectorizer(vocabulary=vocab, norm=None)\n",
    "\n",
    "matriz_tfidf = tfidfvectorizer.fit_transform(clean_doc)\n",
    "\n",
    "tfidf_tokens = tfidfvectorizer.get_feature_names_out()\n",
    "df_tfidf = pd.DataFrame(data = matriz_tfidf.toarray(), columns = tfidf_tokens)\n",
    "\n",
    "print(df_tfidf.iloc[0:5, 0:])"
   ]
  },
  {
   "attachments": {},
   "cell_type": "markdown",
   "metadata": {},
   "source": [
    "**¿Cuál es el significado de cada renglón?** \n",
    "\n",
    "Cada renglón en nuestra matriz tf-idf representa el cuerpo de una noticia, o bien, cada renglón es un documento.\n",
    "\n",
    "**¿Y el significado de cada columna?**\n",
    "\n",
    "Cada columna representa un token, es decir, una palabra que aparece en el cuerpo de las noticias. El número de columnas es igual al número de tokens que aparecen en todos los documentos."
   ]
  },
  {
   "attachments": {},
   "cell_type": "markdown",
   "metadata": {},
   "source": [
    "### 5. Descomposición en valores singulares (SVD)\n",
    "Aplica el método de descomposición de valores singulares truncado a la matriz Tf-idf anterior con 10 componentes y obtener el gráfico de la importancia relativa de estas."
   ]
  }
 ],
 "metadata": {
  "kernelspec": {
   "display_name": "Python 3",
   "language": "python",
   "name": "python3"
  },
  "language_info": {
   "codemirror_mode": {
    "name": "ipython",
    "version": 3
   },
   "file_extension": ".py",
   "mimetype": "text/x-python",
   "name": "python",
   "nbconvert_exporter": "python",
   "pygments_lexer": "ipython3",
   "version": "3.10.1"
  },
  "orig_nbformat": 4
 },
 "nbformat": 4,
 "nbformat_minor": 2
}
